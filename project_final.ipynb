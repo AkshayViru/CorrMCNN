{
  "nbformat": 4,
  "nbformat_minor": 0,
  "metadata": {
    "colab": {
      "name": "project_final.ipynb",
      "provenance": [],
      "collapsed_sections": [
        "rPF84vjXjIhy",
        "N9zgyZqmFMvR",
        "Yrxe1DAzhhy8"
      ],
      "include_colab_link": true
    },
    "kernelspec": {
      "name": "python3",
      "display_name": "Python 3"
    },
    "language_info": {
      "name": "python"
    },
    "accelerator": "GPU",
    "widgets": {
      "application/vnd.jupyter.widget-state+json": {
        "3068ed125f12451897c2a8949c654f21": {
          "model_module": "@jupyter-widgets/controls",
          "model_name": "HBoxModel",
          "state": {
            "_view_name": "HBoxView",
            "_dom_classes": [],
            "_model_name": "HBoxModel",
            "_view_module": "@jupyter-widgets/controls",
            "_model_module_version": "1.5.0",
            "_view_count": null,
            "_view_module_version": "1.5.0",
            "box_style": "",
            "layout": "IPY_MODEL_80c46b7fd46640d38d3eaed947bdfffb",
            "_model_module": "@jupyter-widgets/controls",
            "children": [
              "IPY_MODEL_ea248b87c1e7447ba847dc5a92fa0d23",
              "IPY_MODEL_66a1526a4b0c4439b08575ff870a06b5"
            ]
          }
        },
        "80c46b7fd46640d38d3eaed947bdfffb": {
          "model_module": "@jupyter-widgets/base",
          "model_name": "LayoutModel",
          "state": {
            "_view_name": "LayoutView",
            "grid_template_rows": null,
            "right": null,
            "justify_content": null,
            "_view_module": "@jupyter-widgets/base",
            "overflow": null,
            "_model_module_version": "1.2.0",
            "_view_count": null,
            "flex_flow": null,
            "width": null,
            "min_width": null,
            "border": null,
            "align_items": null,
            "bottom": null,
            "_model_module": "@jupyter-widgets/base",
            "top": null,
            "grid_column": null,
            "overflow_y": null,
            "overflow_x": null,
            "grid_auto_flow": null,
            "grid_area": null,
            "grid_template_columns": null,
            "flex": null,
            "_model_name": "LayoutModel",
            "justify_items": null,
            "grid_row": null,
            "max_height": null,
            "align_content": null,
            "visibility": null,
            "align_self": null,
            "height": null,
            "min_height": null,
            "padding": null,
            "grid_auto_rows": null,
            "grid_gap": null,
            "max_width": null,
            "order": null,
            "_view_module_version": "1.2.0",
            "grid_template_areas": null,
            "object_position": null,
            "object_fit": null,
            "grid_auto_columns": null,
            "margin": null,
            "display": null,
            "left": null
          }
        },
        "ea248b87c1e7447ba847dc5a92fa0d23": {
          "model_module": "@jupyter-widgets/controls",
          "model_name": "FloatProgressModel",
          "state": {
            "_view_name": "ProgressView",
            "style": "IPY_MODEL_470e3848f36b4575952c8ec0648b0441",
            "_dom_classes": [],
            "description": "",
            "_model_name": "FloatProgressModel",
            "bar_style": "success",
            "max": 9912422,
            "_view_module": "@jupyter-widgets/controls",
            "_model_module_version": "1.5.0",
            "value": 9912422,
            "_view_count": null,
            "_view_module_version": "1.5.0",
            "orientation": "horizontal",
            "min": 0,
            "description_tooltip": null,
            "_model_module": "@jupyter-widgets/controls",
            "layout": "IPY_MODEL_3e1192875a2141f582ea41cba3ee661f"
          }
        },
        "66a1526a4b0c4439b08575ff870a06b5": {
          "model_module": "@jupyter-widgets/controls",
          "model_name": "HTMLModel",
          "state": {
            "_view_name": "HTMLView",
            "style": "IPY_MODEL_a5569939956f4ef0ba2c03049941c96f",
            "_dom_classes": [],
            "description": "",
            "_model_name": "HTMLModel",
            "placeholder": "​",
            "_view_module": "@jupyter-widgets/controls",
            "_model_module_version": "1.5.0",
            "value": " 9913344/? [00:10&lt;00:00, 974014.36it/s]",
            "_view_count": null,
            "_view_module_version": "1.5.0",
            "description_tooltip": null,
            "_model_module": "@jupyter-widgets/controls",
            "layout": "IPY_MODEL_f9a03a91e21a4da9820b8961e9dc5f10"
          }
        },
        "470e3848f36b4575952c8ec0648b0441": {
          "model_module": "@jupyter-widgets/controls",
          "model_name": "ProgressStyleModel",
          "state": {
            "_view_name": "StyleView",
            "_model_name": "ProgressStyleModel",
            "description_width": "initial",
            "_view_module": "@jupyter-widgets/base",
            "_model_module_version": "1.5.0",
            "_view_count": null,
            "_view_module_version": "1.2.0",
            "bar_color": null,
            "_model_module": "@jupyter-widgets/controls"
          }
        },
        "3e1192875a2141f582ea41cba3ee661f": {
          "model_module": "@jupyter-widgets/base",
          "model_name": "LayoutModel",
          "state": {
            "_view_name": "LayoutView",
            "grid_template_rows": null,
            "right": null,
            "justify_content": null,
            "_view_module": "@jupyter-widgets/base",
            "overflow": null,
            "_model_module_version": "1.2.0",
            "_view_count": null,
            "flex_flow": null,
            "width": null,
            "min_width": null,
            "border": null,
            "align_items": null,
            "bottom": null,
            "_model_module": "@jupyter-widgets/base",
            "top": null,
            "grid_column": null,
            "overflow_y": null,
            "overflow_x": null,
            "grid_auto_flow": null,
            "grid_area": null,
            "grid_template_columns": null,
            "flex": null,
            "_model_name": "LayoutModel",
            "justify_items": null,
            "grid_row": null,
            "max_height": null,
            "align_content": null,
            "visibility": null,
            "align_self": null,
            "height": null,
            "min_height": null,
            "padding": null,
            "grid_auto_rows": null,
            "grid_gap": null,
            "max_width": null,
            "order": null,
            "_view_module_version": "1.2.0",
            "grid_template_areas": null,
            "object_position": null,
            "object_fit": null,
            "grid_auto_columns": null,
            "margin": null,
            "display": null,
            "left": null
          }
        },
        "a5569939956f4ef0ba2c03049941c96f": {
          "model_module": "@jupyter-widgets/controls",
          "model_name": "DescriptionStyleModel",
          "state": {
            "_view_name": "StyleView",
            "_model_name": "DescriptionStyleModel",
            "description_width": "",
            "_view_module": "@jupyter-widgets/base",
            "_model_module_version": "1.5.0",
            "_view_count": null,
            "_view_module_version": "1.2.0",
            "_model_module": "@jupyter-widgets/controls"
          }
        },
        "f9a03a91e21a4da9820b8961e9dc5f10": {
          "model_module": "@jupyter-widgets/base",
          "model_name": "LayoutModel",
          "state": {
            "_view_name": "LayoutView",
            "grid_template_rows": null,
            "right": null,
            "justify_content": null,
            "_view_module": "@jupyter-widgets/base",
            "overflow": null,
            "_model_module_version": "1.2.0",
            "_view_count": null,
            "flex_flow": null,
            "width": null,
            "min_width": null,
            "border": null,
            "align_items": null,
            "bottom": null,
            "_model_module": "@jupyter-widgets/base",
            "top": null,
            "grid_column": null,
            "overflow_y": null,
            "overflow_x": null,
            "grid_auto_flow": null,
            "grid_area": null,
            "grid_template_columns": null,
            "flex": null,
            "_model_name": "LayoutModel",
            "justify_items": null,
            "grid_row": null,
            "max_height": null,
            "align_content": null,
            "visibility": null,
            "align_self": null,
            "height": null,
            "min_height": null,
            "padding": null,
            "grid_auto_rows": null,
            "grid_gap": null,
            "max_width": null,
            "order": null,
            "_view_module_version": "1.2.0",
            "grid_template_areas": null,
            "object_position": null,
            "object_fit": null,
            "grid_auto_columns": null,
            "margin": null,
            "display": null,
            "left": null
          }
        },
        "eb6800473f4349faaa6941aa4fb157f8": {
          "model_module": "@jupyter-widgets/controls",
          "model_name": "HBoxModel",
          "state": {
            "_view_name": "HBoxView",
            "_dom_classes": [],
            "_model_name": "HBoxModel",
            "_view_module": "@jupyter-widgets/controls",
            "_model_module_version": "1.5.0",
            "_view_count": null,
            "_view_module_version": "1.5.0",
            "box_style": "",
            "layout": "IPY_MODEL_0f34337963994fd292038e6caef9566b",
            "_model_module": "@jupyter-widgets/controls",
            "children": [
              "IPY_MODEL_ae63174f96bf489fa6a0462d0c5447eb",
              "IPY_MODEL_bcbd5394599e49739874eaf8edf28911"
            ]
          }
        },
        "0f34337963994fd292038e6caef9566b": {
          "model_module": "@jupyter-widgets/base",
          "model_name": "LayoutModel",
          "state": {
            "_view_name": "LayoutView",
            "grid_template_rows": null,
            "right": null,
            "justify_content": null,
            "_view_module": "@jupyter-widgets/base",
            "overflow": null,
            "_model_module_version": "1.2.0",
            "_view_count": null,
            "flex_flow": null,
            "width": null,
            "min_width": null,
            "border": null,
            "align_items": null,
            "bottom": null,
            "_model_module": "@jupyter-widgets/base",
            "top": null,
            "grid_column": null,
            "overflow_y": null,
            "overflow_x": null,
            "grid_auto_flow": null,
            "grid_area": null,
            "grid_template_columns": null,
            "flex": null,
            "_model_name": "LayoutModel",
            "justify_items": null,
            "grid_row": null,
            "max_height": null,
            "align_content": null,
            "visibility": null,
            "align_self": null,
            "height": null,
            "min_height": null,
            "padding": null,
            "grid_auto_rows": null,
            "grid_gap": null,
            "max_width": null,
            "order": null,
            "_view_module_version": "1.2.0",
            "grid_template_areas": null,
            "object_position": null,
            "object_fit": null,
            "grid_auto_columns": null,
            "margin": null,
            "display": null,
            "left": null
          }
        },
        "ae63174f96bf489fa6a0462d0c5447eb": {
          "model_module": "@jupyter-widgets/controls",
          "model_name": "FloatProgressModel",
          "state": {
            "_view_name": "ProgressView",
            "style": "IPY_MODEL_70a994fce492460e906fb730f7373b0d",
            "_dom_classes": [],
            "description": "",
            "_model_name": "FloatProgressModel",
            "bar_style": "success",
            "max": 28881,
            "_view_module": "@jupyter-widgets/controls",
            "_model_module_version": "1.5.0",
            "value": 28881,
            "_view_count": null,
            "_view_module_version": "1.5.0",
            "orientation": "horizontal",
            "min": 0,
            "description_tooltip": null,
            "_model_module": "@jupyter-widgets/controls",
            "layout": "IPY_MODEL_e65abd119de14aa98c7ffd77f5e49016"
          }
        },
        "bcbd5394599e49739874eaf8edf28911": {
          "model_module": "@jupyter-widgets/controls",
          "model_name": "HTMLModel",
          "state": {
            "_view_name": "HTMLView",
            "style": "IPY_MODEL_4fcdccde65ba424990c62040c1da25bc",
            "_dom_classes": [],
            "description": "",
            "_model_name": "HTMLModel",
            "placeholder": "​",
            "_view_module": "@jupyter-widgets/controls",
            "_model_module_version": "1.5.0",
            "value": " 29696/? [00:05&lt;00:00, 5253.12it/s]",
            "_view_count": null,
            "_view_module_version": "1.5.0",
            "description_tooltip": null,
            "_model_module": "@jupyter-widgets/controls",
            "layout": "IPY_MODEL_03f034fbc872426abdb4957806c001e9"
          }
        },
        "70a994fce492460e906fb730f7373b0d": {
          "model_module": "@jupyter-widgets/controls",
          "model_name": "ProgressStyleModel",
          "state": {
            "_view_name": "StyleView",
            "_model_name": "ProgressStyleModel",
            "description_width": "initial",
            "_view_module": "@jupyter-widgets/base",
            "_model_module_version": "1.5.0",
            "_view_count": null,
            "_view_module_version": "1.2.0",
            "bar_color": null,
            "_model_module": "@jupyter-widgets/controls"
          }
        },
        "e65abd119de14aa98c7ffd77f5e49016": {
          "model_module": "@jupyter-widgets/base",
          "model_name": "LayoutModel",
          "state": {
            "_view_name": "LayoutView",
            "grid_template_rows": null,
            "right": null,
            "justify_content": null,
            "_view_module": "@jupyter-widgets/base",
            "overflow": null,
            "_model_module_version": "1.2.0",
            "_view_count": null,
            "flex_flow": null,
            "width": null,
            "min_width": null,
            "border": null,
            "align_items": null,
            "bottom": null,
            "_model_module": "@jupyter-widgets/base",
            "top": null,
            "grid_column": null,
            "overflow_y": null,
            "overflow_x": null,
            "grid_auto_flow": null,
            "grid_area": null,
            "grid_template_columns": null,
            "flex": null,
            "_model_name": "LayoutModel",
            "justify_items": null,
            "grid_row": null,
            "max_height": null,
            "align_content": null,
            "visibility": null,
            "align_self": null,
            "height": null,
            "min_height": null,
            "padding": null,
            "grid_auto_rows": null,
            "grid_gap": null,
            "max_width": null,
            "order": null,
            "_view_module_version": "1.2.0",
            "grid_template_areas": null,
            "object_position": null,
            "object_fit": null,
            "grid_auto_columns": null,
            "margin": null,
            "display": null,
            "left": null
          }
        },
        "4fcdccde65ba424990c62040c1da25bc": {
          "model_module": "@jupyter-widgets/controls",
          "model_name": "DescriptionStyleModel",
          "state": {
            "_view_name": "StyleView",
            "_model_name": "DescriptionStyleModel",
            "description_width": "",
            "_view_module": "@jupyter-widgets/base",
            "_model_module_version": "1.5.0",
            "_view_count": null,
            "_view_module_version": "1.2.0",
            "_model_module": "@jupyter-widgets/controls"
          }
        },
        "03f034fbc872426abdb4957806c001e9": {
          "model_module": "@jupyter-widgets/base",
          "model_name": "LayoutModel",
          "state": {
            "_view_name": "LayoutView",
            "grid_template_rows": null,
            "right": null,
            "justify_content": null,
            "_view_module": "@jupyter-widgets/base",
            "overflow": null,
            "_model_module_version": "1.2.0",
            "_view_count": null,
            "flex_flow": null,
            "width": null,
            "min_width": null,
            "border": null,
            "align_items": null,
            "bottom": null,
            "_model_module": "@jupyter-widgets/base",
            "top": null,
            "grid_column": null,
            "overflow_y": null,
            "overflow_x": null,
            "grid_auto_flow": null,
            "grid_area": null,
            "grid_template_columns": null,
            "flex": null,
            "_model_name": "LayoutModel",
            "justify_items": null,
            "grid_row": null,
            "max_height": null,
            "align_content": null,
            "visibility": null,
            "align_self": null,
            "height": null,
            "min_height": null,
            "padding": null,
            "grid_auto_rows": null,
            "grid_gap": null,
            "max_width": null,
            "order": null,
            "_view_module_version": "1.2.0",
            "grid_template_areas": null,
            "object_position": null,
            "object_fit": null,
            "grid_auto_columns": null,
            "margin": null,
            "display": null,
            "left": null
          }
        },
        "b6aa70945dac4a9aa5b4c85304861af6": {
          "model_module": "@jupyter-widgets/controls",
          "model_name": "HBoxModel",
          "state": {
            "_view_name": "HBoxView",
            "_dom_classes": [],
            "_model_name": "HBoxModel",
            "_view_module": "@jupyter-widgets/controls",
            "_model_module_version": "1.5.0",
            "_view_count": null,
            "_view_module_version": "1.5.0",
            "box_style": "",
            "layout": "IPY_MODEL_069ddb323bf94e62b37cf82fb761abb8",
            "_model_module": "@jupyter-widgets/controls",
            "children": [
              "IPY_MODEL_7cfaf2ff481c4679aed1e8be18c43874",
              "IPY_MODEL_b2e2e3f884134e50b5346b4d136dc333"
            ]
          }
        },
        "069ddb323bf94e62b37cf82fb761abb8": {
          "model_module": "@jupyter-widgets/base",
          "model_name": "LayoutModel",
          "state": {
            "_view_name": "LayoutView",
            "grid_template_rows": null,
            "right": null,
            "justify_content": null,
            "_view_module": "@jupyter-widgets/base",
            "overflow": null,
            "_model_module_version": "1.2.0",
            "_view_count": null,
            "flex_flow": null,
            "width": null,
            "min_width": null,
            "border": null,
            "align_items": null,
            "bottom": null,
            "_model_module": "@jupyter-widgets/base",
            "top": null,
            "grid_column": null,
            "overflow_y": null,
            "overflow_x": null,
            "grid_auto_flow": null,
            "grid_area": null,
            "grid_template_columns": null,
            "flex": null,
            "_model_name": "LayoutModel",
            "justify_items": null,
            "grid_row": null,
            "max_height": null,
            "align_content": null,
            "visibility": null,
            "align_self": null,
            "height": null,
            "min_height": null,
            "padding": null,
            "grid_auto_rows": null,
            "grid_gap": null,
            "max_width": null,
            "order": null,
            "_view_module_version": "1.2.0",
            "grid_template_areas": null,
            "object_position": null,
            "object_fit": null,
            "grid_auto_columns": null,
            "margin": null,
            "display": null,
            "left": null
          }
        },
        "7cfaf2ff481c4679aed1e8be18c43874": {
          "model_module": "@jupyter-widgets/controls",
          "model_name": "FloatProgressModel",
          "state": {
            "_view_name": "ProgressView",
            "style": "IPY_MODEL_6e9a7017a6604935b344b32bb06f86c3",
            "_dom_classes": [],
            "description": "",
            "_model_name": "FloatProgressModel",
            "bar_style": "success",
            "max": 1648877,
            "_view_module": "@jupyter-widgets/controls",
            "_model_module_version": "1.5.0",
            "value": 1648877,
            "_view_count": null,
            "_view_module_version": "1.5.0",
            "orientation": "horizontal",
            "min": 0,
            "description_tooltip": null,
            "_model_module": "@jupyter-widgets/controls",
            "layout": "IPY_MODEL_1ef78aeeec374b2a922c56e11475f0eb"
          }
        },
        "b2e2e3f884134e50b5346b4d136dc333": {
          "model_module": "@jupyter-widgets/controls",
          "model_name": "HTMLModel",
          "state": {
            "_view_name": "HTMLView",
            "style": "IPY_MODEL_30b05377ddb94c208454902201cbc098",
            "_dom_classes": [],
            "description": "",
            "_model_name": "HTMLModel",
            "placeholder": "​",
            "_view_module": "@jupyter-widgets/controls",
            "_model_module_version": "1.5.0",
            "value": " 1649664/? [00:03&lt;00:00, 475484.72it/s]",
            "_view_count": null,
            "_view_module_version": "1.5.0",
            "description_tooltip": null,
            "_model_module": "@jupyter-widgets/controls",
            "layout": "IPY_MODEL_19b372ba4ad044fe9017ef08c32d4996"
          }
        },
        "6e9a7017a6604935b344b32bb06f86c3": {
          "model_module": "@jupyter-widgets/controls",
          "model_name": "ProgressStyleModel",
          "state": {
            "_view_name": "StyleView",
            "_model_name": "ProgressStyleModel",
            "description_width": "initial",
            "_view_module": "@jupyter-widgets/base",
            "_model_module_version": "1.5.0",
            "_view_count": null,
            "_view_module_version": "1.2.0",
            "bar_color": null,
            "_model_module": "@jupyter-widgets/controls"
          }
        },
        "1ef78aeeec374b2a922c56e11475f0eb": {
          "model_module": "@jupyter-widgets/base",
          "model_name": "LayoutModel",
          "state": {
            "_view_name": "LayoutView",
            "grid_template_rows": null,
            "right": null,
            "justify_content": null,
            "_view_module": "@jupyter-widgets/base",
            "overflow": null,
            "_model_module_version": "1.2.0",
            "_view_count": null,
            "flex_flow": null,
            "width": null,
            "min_width": null,
            "border": null,
            "align_items": null,
            "bottom": null,
            "_model_module": "@jupyter-widgets/base",
            "top": null,
            "grid_column": null,
            "overflow_y": null,
            "overflow_x": null,
            "grid_auto_flow": null,
            "grid_area": null,
            "grid_template_columns": null,
            "flex": null,
            "_model_name": "LayoutModel",
            "justify_items": null,
            "grid_row": null,
            "max_height": null,
            "align_content": null,
            "visibility": null,
            "align_self": null,
            "height": null,
            "min_height": null,
            "padding": null,
            "grid_auto_rows": null,
            "grid_gap": null,
            "max_width": null,
            "order": null,
            "_view_module_version": "1.2.0",
            "grid_template_areas": null,
            "object_position": null,
            "object_fit": null,
            "grid_auto_columns": null,
            "margin": null,
            "display": null,
            "left": null
          }
        },
        "30b05377ddb94c208454902201cbc098": {
          "model_module": "@jupyter-widgets/controls",
          "model_name": "DescriptionStyleModel",
          "state": {
            "_view_name": "StyleView",
            "_model_name": "DescriptionStyleModel",
            "description_width": "",
            "_view_module": "@jupyter-widgets/base",
            "_model_module_version": "1.5.0",
            "_view_count": null,
            "_view_module_version": "1.2.0",
            "_model_module": "@jupyter-widgets/controls"
          }
        },
        "19b372ba4ad044fe9017ef08c32d4996": {
          "model_module": "@jupyter-widgets/base",
          "model_name": "LayoutModel",
          "state": {
            "_view_name": "LayoutView",
            "grid_template_rows": null,
            "right": null,
            "justify_content": null,
            "_view_module": "@jupyter-widgets/base",
            "overflow": null,
            "_model_module_version": "1.2.0",
            "_view_count": null,
            "flex_flow": null,
            "width": null,
            "min_width": null,
            "border": null,
            "align_items": null,
            "bottom": null,
            "_model_module": "@jupyter-widgets/base",
            "top": null,
            "grid_column": null,
            "overflow_y": null,
            "overflow_x": null,
            "grid_auto_flow": null,
            "grid_area": null,
            "grid_template_columns": null,
            "flex": null,
            "_model_name": "LayoutModel",
            "justify_items": null,
            "grid_row": null,
            "max_height": null,
            "align_content": null,
            "visibility": null,
            "align_self": null,
            "height": null,
            "min_height": null,
            "padding": null,
            "grid_auto_rows": null,
            "grid_gap": null,
            "max_width": null,
            "order": null,
            "_view_module_version": "1.2.0",
            "grid_template_areas": null,
            "object_position": null,
            "object_fit": null,
            "grid_auto_columns": null,
            "margin": null,
            "display": null,
            "left": null
          }
        },
        "1d18e071c3bc4f50a79038f5cf5edb32": {
          "model_module": "@jupyter-widgets/controls",
          "model_name": "HBoxModel",
          "state": {
            "_view_name": "HBoxView",
            "_dom_classes": [],
            "_model_name": "HBoxModel",
            "_view_module": "@jupyter-widgets/controls",
            "_model_module_version": "1.5.0",
            "_view_count": null,
            "_view_module_version": "1.5.0",
            "box_style": "",
            "layout": "IPY_MODEL_2b59c2bb342541ef864a88e211bcf904",
            "_model_module": "@jupyter-widgets/controls",
            "children": [
              "IPY_MODEL_02105d549dbe4459bcdbfbe81ee723d7",
              "IPY_MODEL_f4d297a72742437fb939d8786656a4e4"
            ]
          }
        },
        "2b59c2bb342541ef864a88e211bcf904": {
          "model_module": "@jupyter-widgets/base",
          "model_name": "LayoutModel",
          "state": {
            "_view_name": "LayoutView",
            "grid_template_rows": null,
            "right": null,
            "justify_content": null,
            "_view_module": "@jupyter-widgets/base",
            "overflow": null,
            "_model_module_version": "1.2.0",
            "_view_count": null,
            "flex_flow": null,
            "width": null,
            "min_width": null,
            "border": null,
            "align_items": null,
            "bottom": null,
            "_model_module": "@jupyter-widgets/base",
            "top": null,
            "grid_column": null,
            "overflow_y": null,
            "overflow_x": null,
            "grid_auto_flow": null,
            "grid_area": null,
            "grid_template_columns": null,
            "flex": null,
            "_model_name": "LayoutModel",
            "justify_items": null,
            "grid_row": null,
            "max_height": null,
            "align_content": null,
            "visibility": null,
            "align_self": null,
            "height": null,
            "min_height": null,
            "padding": null,
            "grid_auto_rows": null,
            "grid_gap": null,
            "max_width": null,
            "order": null,
            "_view_module_version": "1.2.0",
            "grid_template_areas": null,
            "object_position": null,
            "object_fit": null,
            "grid_auto_columns": null,
            "margin": null,
            "display": null,
            "left": null
          }
        },
        "02105d549dbe4459bcdbfbe81ee723d7": {
          "model_module": "@jupyter-widgets/controls",
          "model_name": "FloatProgressModel",
          "state": {
            "_view_name": "ProgressView",
            "style": "IPY_MODEL_58507235f1b14f9fae3c44d69c1ed9c1",
            "_dom_classes": [],
            "description": "",
            "_model_name": "FloatProgressModel",
            "bar_style": "success",
            "max": 4542,
            "_view_module": "@jupyter-widgets/controls",
            "_model_module_version": "1.5.0",
            "value": 4542,
            "_view_count": null,
            "_view_module_version": "1.5.0",
            "orientation": "horizontal",
            "min": 0,
            "description_tooltip": null,
            "_model_module": "@jupyter-widgets/controls",
            "layout": "IPY_MODEL_7cdbc7e62e0a4ba1a20f38a871fa03ca"
          }
        },
        "f4d297a72742437fb939d8786656a4e4": {
          "model_module": "@jupyter-widgets/controls",
          "model_name": "HTMLModel",
          "state": {
            "_view_name": "HTMLView",
            "style": "IPY_MODEL_e7ff26bf06a04caea4d4c9a96016efbf",
            "_dom_classes": [],
            "description": "",
            "_model_name": "HTMLModel",
            "placeholder": "​",
            "_view_module": "@jupyter-widgets/controls",
            "_model_module_version": "1.5.0",
            "value": " 5120/? [00:00&lt;00:00, 19417.83it/s]",
            "_view_count": null,
            "_view_module_version": "1.5.0",
            "description_tooltip": null,
            "_model_module": "@jupyter-widgets/controls",
            "layout": "IPY_MODEL_106298df34f847b8805ba595c4ddcc86"
          }
        },
        "58507235f1b14f9fae3c44d69c1ed9c1": {
          "model_module": "@jupyter-widgets/controls",
          "model_name": "ProgressStyleModel",
          "state": {
            "_view_name": "StyleView",
            "_model_name": "ProgressStyleModel",
            "description_width": "initial",
            "_view_module": "@jupyter-widgets/base",
            "_model_module_version": "1.5.0",
            "_view_count": null,
            "_view_module_version": "1.2.0",
            "bar_color": null,
            "_model_module": "@jupyter-widgets/controls"
          }
        },
        "7cdbc7e62e0a4ba1a20f38a871fa03ca": {
          "model_module": "@jupyter-widgets/base",
          "model_name": "LayoutModel",
          "state": {
            "_view_name": "LayoutView",
            "grid_template_rows": null,
            "right": null,
            "justify_content": null,
            "_view_module": "@jupyter-widgets/base",
            "overflow": null,
            "_model_module_version": "1.2.0",
            "_view_count": null,
            "flex_flow": null,
            "width": null,
            "min_width": null,
            "border": null,
            "align_items": null,
            "bottom": null,
            "_model_module": "@jupyter-widgets/base",
            "top": null,
            "grid_column": null,
            "overflow_y": null,
            "overflow_x": null,
            "grid_auto_flow": null,
            "grid_area": null,
            "grid_template_columns": null,
            "flex": null,
            "_model_name": "LayoutModel",
            "justify_items": null,
            "grid_row": null,
            "max_height": null,
            "align_content": null,
            "visibility": null,
            "align_self": null,
            "height": null,
            "min_height": null,
            "padding": null,
            "grid_auto_rows": null,
            "grid_gap": null,
            "max_width": null,
            "order": null,
            "_view_module_version": "1.2.0",
            "grid_template_areas": null,
            "object_position": null,
            "object_fit": null,
            "grid_auto_columns": null,
            "margin": null,
            "display": null,
            "left": null
          }
        },
        "e7ff26bf06a04caea4d4c9a96016efbf": {
          "model_module": "@jupyter-widgets/controls",
          "model_name": "DescriptionStyleModel",
          "state": {
            "_view_name": "StyleView",
            "_model_name": "DescriptionStyleModel",
            "description_width": "",
            "_view_module": "@jupyter-widgets/base",
            "_model_module_version": "1.5.0",
            "_view_count": null,
            "_view_module_version": "1.2.0",
            "_model_module": "@jupyter-widgets/controls"
          }
        },
        "106298df34f847b8805ba595c4ddcc86": {
          "model_module": "@jupyter-widgets/base",
          "model_name": "LayoutModel",
          "state": {
            "_view_name": "LayoutView",
            "grid_template_rows": null,
            "right": null,
            "justify_content": null,
            "_view_module": "@jupyter-widgets/base",
            "overflow": null,
            "_model_module_version": "1.2.0",
            "_view_count": null,
            "flex_flow": null,
            "width": null,
            "min_width": null,
            "border": null,
            "align_items": null,
            "bottom": null,
            "_model_module": "@jupyter-widgets/base",
            "top": null,
            "grid_column": null,
            "overflow_y": null,
            "overflow_x": null,
            "grid_auto_flow": null,
            "grid_area": null,
            "grid_template_columns": null,
            "flex": null,
            "_model_name": "LayoutModel",
            "justify_items": null,
            "grid_row": null,
            "max_height": null,
            "align_content": null,
            "visibility": null,
            "align_self": null,
            "height": null,
            "min_height": null,
            "padding": null,
            "grid_auto_rows": null,
            "grid_gap": null,
            "max_width": null,
            "order": null,
            "_view_module_version": "1.2.0",
            "grid_template_areas": null,
            "object_position": null,
            "object_fit": null,
            "grid_auto_columns": null,
            "margin": null,
            "display": null,
            "left": null
          }
        }
      }
    }
  },
  "cells": [
    {
      "cell_type": "markdown",
      "metadata": {
        "id": "view-in-github",
        "colab_type": "text"
      },
      "source": [
        "<a href=\"https://colab.research.google.com/github/AkshayViru/CorrMCNN/blob/main/project_final.ipynb\" target=\"_parent\"><img src=\"https://colab.research.google.com/assets/colab-badge.svg\" alt=\"Open In Colab\"/></a>"
      ]
    },
    {
      "cell_type": "markdown",
      "metadata": {
        "id": "rPF84vjXjIhy"
      },
      "source": [
        "# **Importing all the necessary packages**"
      ]
    },
    {
      "cell_type": "code",
      "metadata": {
        "id": "qrDPVWlYi5mK"
      },
      "source": [
        "import torch\n",
        "import pprint\n",
        "import numpy as np\n",
        "import torchvision\n",
        "import pandas as pd\n",
        "import torch.nn as nn\n",
        "import torch.optim as optim\n",
        "import matplotlib.pyplot as plt\n",
        "import torch.nn.functional as F\n",
        "from torchsummary import summary\n",
        "from matplotlib.pyplot import figure\n",
        "import torchvision.transforms as transforms\n",
        "from torch.optim.lr_scheduler import ExponentialLR"
      ],
      "execution_count": null,
      "outputs": []
    },
    {
      "cell_type": "code",
      "metadata": {
        "id": "9Ngh1LjUqdh1",
        "colab": {
          "base_uri": "https://localhost:8080/",
          "height": 904,
          "referenced_widgets": [
            "3068ed125f12451897c2a8949c654f21",
            "80c46b7fd46640d38d3eaed947bdfffb",
            "ea248b87c1e7447ba847dc5a92fa0d23",
            "66a1526a4b0c4439b08575ff870a06b5",
            "470e3848f36b4575952c8ec0648b0441",
            "3e1192875a2141f582ea41cba3ee661f",
            "a5569939956f4ef0ba2c03049941c96f",
            "f9a03a91e21a4da9820b8961e9dc5f10",
            "eb6800473f4349faaa6941aa4fb157f8",
            "0f34337963994fd292038e6caef9566b",
            "ae63174f96bf489fa6a0462d0c5447eb",
            "bcbd5394599e49739874eaf8edf28911",
            "70a994fce492460e906fb730f7373b0d",
            "e65abd119de14aa98c7ffd77f5e49016",
            "4fcdccde65ba424990c62040c1da25bc",
            "03f034fbc872426abdb4957806c001e9",
            "b6aa70945dac4a9aa5b4c85304861af6",
            "069ddb323bf94e62b37cf82fb761abb8",
            "7cfaf2ff481c4679aed1e8be18c43874",
            "b2e2e3f884134e50b5346b4d136dc333",
            "6e9a7017a6604935b344b32bb06f86c3",
            "1ef78aeeec374b2a922c56e11475f0eb",
            "30b05377ddb94c208454902201cbc098",
            "19b372ba4ad044fe9017ef08c32d4996",
            "1d18e071c3bc4f50a79038f5cf5edb32",
            "2b59c2bb342541ef864a88e211bcf904",
            "02105d549dbe4459bcdbfbe81ee723d7",
            "f4d297a72742437fb939d8786656a4e4",
            "58507235f1b14f9fae3c44d69c1ed9c1",
            "7cdbc7e62e0a4ba1a20f38a871fa03ca",
            "e7ff26bf06a04caea4d4c9a96016efbf",
            "106298df34f847b8805ba595c4ddcc86"
          ]
        },
        "outputId": "f31491ba-f9d2-4018-dffe-abd2ab389c88"
      },
      "source": [
        "batch_size=100\n",
        "train_loader = torch.utils.data.DataLoader(torchvision.datasets.MNIST(root='dataset/',train=True,transform=transforms.ToTensor(),download=True),batch_size=batch_size)\n",
        "test_loader = torch.utils.data.DataLoader(torchvision.datasets.MNIST(root='dataset/',train=False,transform=transforms.ToTensor(),download=True),batch_size=batch_size)"
      ],
      "execution_count": null,
      "outputs": [
        {
          "output_type": "stream",
          "text": [
            "Downloading http://yann.lecun.com/exdb/mnist/train-images-idx3-ubyte.gz\n",
            "Failed to download (trying next):\n",
            "HTTP Error 503: Service Unavailable\n",
            "\n",
            "Downloading https://ossci-datasets.s3.amazonaws.com/mnist/train-images-idx3-ubyte.gz\n",
            "Downloading https://ossci-datasets.s3.amazonaws.com/mnist/train-images-idx3-ubyte.gz to dataset/MNIST/raw/train-images-idx3-ubyte.gz\n"
          ],
          "name": "stdout"
        },
        {
          "output_type": "display_data",
          "data": {
            "application/vnd.jupyter.widget-view+json": {
              "model_id": "3068ed125f12451897c2a8949c654f21",
              "version_minor": 0,
              "version_major": 2
            },
            "text/plain": [
              "HBox(children=(FloatProgress(value=0.0, max=9912422.0), HTML(value='')))"
            ]
          },
          "metadata": {
            "tags": []
          }
        },
        {
          "output_type": "stream",
          "text": [
            "\n",
            "Extracting dataset/MNIST/raw/train-images-idx3-ubyte.gz to dataset/MNIST/raw\n",
            "\n",
            "Downloading http://yann.lecun.com/exdb/mnist/train-labels-idx1-ubyte.gz\n",
            "Failed to download (trying next):\n",
            "HTTP Error 503: Service Unavailable\n",
            "\n",
            "Downloading https://ossci-datasets.s3.amazonaws.com/mnist/train-labels-idx1-ubyte.gz\n",
            "Downloading https://ossci-datasets.s3.amazonaws.com/mnist/train-labels-idx1-ubyte.gz to dataset/MNIST/raw/train-labels-idx1-ubyte.gz\n"
          ],
          "name": "stdout"
        },
        {
          "output_type": "display_data",
          "data": {
            "application/vnd.jupyter.widget-view+json": {
              "model_id": "eb6800473f4349faaa6941aa4fb157f8",
              "version_minor": 0,
              "version_major": 2
            },
            "text/plain": [
              "HBox(children=(FloatProgress(value=0.0, max=28881.0), HTML(value='')))"
            ]
          },
          "metadata": {
            "tags": []
          }
        },
        {
          "output_type": "stream",
          "text": [
            "\n",
            "Extracting dataset/MNIST/raw/train-labels-idx1-ubyte.gz to dataset/MNIST/raw\n",
            "\n",
            "Downloading http://yann.lecun.com/exdb/mnist/t10k-images-idx3-ubyte.gz\n",
            "Failed to download (trying next):\n",
            "HTTP Error 503: Service Unavailable\n",
            "\n",
            "Downloading https://ossci-datasets.s3.amazonaws.com/mnist/t10k-images-idx3-ubyte.gz\n",
            "Downloading https://ossci-datasets.s3.amazonaws.com/mnist/t10k-images-idx3-ubyte.gz to dataset/MNIST/raw/t10k-images-idx3-ubyte.gz\n"
          ],
          "name": "stdout"
        },
        {
          "output_type": "display_data",
          "data": {
            "application/vnd.jupyter.widget-view+json": {
              "model_id": "b6aa70945dac4a9aa5b4c85304861af6",
              "version_minor": 0,
              "version_major": 2
            },
            "text/plain": [
              "HBox(children=(FloatProgress(value=0.0, max=1648877.0), HTML(value='')))"
            ]
          },
          "metadata": {
            "tags": []
          }
        },
        {
          "output_type": "stream",
          "text": [
            "\n",
            "Extracting dataset/MNIST/raw/t10k-images-idx3-ubyte.gz to dataset/MNIST/raw\n",
            "\n",
            "Downloading http://yann.lecun.com/exdb/mnist/t10k-labels-idx1-ubyte.gz\n",
            "Failed to download (trying next):\n",
            "HTTP Error 503: Service Unavailable\n",
            "\n",
            "Downloading https://ossci-datasets.s3.amazonaws.com/mnist/t10k-labels-idx1-ubyte.gz\n",
            "Downloading https://ossci-datasets.s3.amazonaws.com/mnist/t10k-labels-idx1-ubyte.gz to dataset/MNIST/raw/t10k-labels-idx1-ubyte.gz\n"
          ],
          "name": "stdout"
        },
        {
          "output_type": "display_data",
          "data": {
            "application/vnd.jupyter.widget-view+json": {
              "model_id": "1d18e071c3bc4f50a79038f5cf5edb32",
              "version_minor": 0,
              "version_major": 2
            },
            "text/plain": [
              "HBox(children=(FloatProgress(value=0.0, max=4542.0), HTML(value='')))"
            ]
          },
          "metadata": {
            "tags": []
          }
        },
        {
          "output_type": "stream",
          "text": [
            "\n",
            "Extracting dataset/MNIST/raw/t10k-labels-idx1-ubyte.gz to dataset/MNIST/raw\n",
            "\n",
            "Processing...\n",
            "Done!\n"
          ],
          "name": "stdout"
        },
        {
          "output_type": "stream",
          "text": [
            "/usr/local/lib/python3.7/dist-packages/torchvision/datasets/mnist.py:502: UserWarning: The given NumPy array is not writeable, and PyTorch does not support non-writeable tensors. This means you can write to the underlying (supposedly non-writeable) NumPy array using the tensor. You may want to copy the array to protect its data or make it writeable before converting it to a tensor. This type of warning will be suppressed for the rest of this program. (Triggered internally at  /pytorch/torch/csrc/utils/tensor_numpy.cpp:143.)\n",
            "  return torch.from_numpy(parsed.astype(m[2], copy=False)).view(*s)\n"
          ],
          "name": "stderr"
        }
      ]
    },
    {
      "cell_type": "markdown",
      "metadata": {
        "id": "55l2r4cR0Ti6"
      },
      "source": [
        "# Overview of the dataset\n",
        "\n"
      ]
    },
    {
      "cell_type": "code",
      "metadata": {
        "colab": {
          "base_uri": "https://localhost:8080/",
          "height": 538
        },
        "id": "HoRXoqx2IEpE",
        "outputId": "8840b39a-3bb2-473d-965c-019fc00f6c29"
      },
      "source": [
        "i = 1\n",
        "j = 1\n",
        "img_itr = 52\n",
        "\n",
        "figure(figsize=(14, 8), dpi=80)\n",
        "\n",
        "print('**************************** 9 images split into 2 halves ****************************')\n",
        "\n",
        "for image_batch in train_loader:\n",
        "    view1_batch = image_batch[0][img_itr:img_itr+9,0:1,0:28,0:14]\n",
        "    view2_batch = image_batch[0][img_itr:img_itr+9,0:1,0:28,14:28]\n",
        "\n",
        "    plt.subplot(3, 6, (6*(i-1))+j)\n",
        "    plt.xticks([])\n",
        "    plt.yticks([])\n",
        "    plt.imshow(view1_batch[0].reshape(28,14), cmap='gray', interpolation='none')\n",
        "\n",
        "    plt.subplot(3, 6, (6*(i-1))+j+1)\n",
        "    plt.imshow(view2_batch[0].reshape(28,14), cmap='gray', interpolation='none')\n",
        "    plt.xticks([])\n",
        "    plt.yticks([])\n",
        "    j+=2\n",
        "    if(j > 6):\n",
        "      j = 1\n",
        "      i += 1\n",
        "    if(i == 4):\n",
        "      break\n",
        "\n",
        "plt.show()"
      ],
      "execution_count": null,
      "outputs": [
        {
          "output_type": "stream",
          "text": [
            "**************************** 9 images split into 2 halves ****************************\n"
          ],
          "name": "stdout"
        },
        {
          "output_type": "display_data",
          "data": {
            "image/png": "[encoded data removed]",
            "text/plain": [
              "<Figure size 1120x640 with 18 Axes>"
            ]
          },
          "metadata": {
            "tags": []
          }
        }
      ]
    },
    {
      "cell_type": "code",
      "metadata": {
        "id": "Cl_xJYfl0awt"
      },
      "source": [
        "def correlaton(x,y):\n",
        "  vx = x - torch.mean(x)\n",
        "  vy = y - torch.mean(y)\n",
        "  cost = torch.sum(vx * vy) / (torch.sqrt(torch.sum(vx ** 2)) * torch.sqrt(torch.sum(vy ** 2)))\n",
        "  return cost\n",
        "\n",
        "def plot_gp(x,y,str1,str2):\n",
        "    plt.plot(x, y)\n",
        "    plt.xlabel('Epochs')\n",
        "    plt.ylabel(str1)\n",
        "    plt.title(str2)\n",
        "    plt.show()\n",
        "      "
      ],
      "execution_count": null,
      "outputs": []
    },
    {
      "cell_type": "markdown",
      "metadata": {
        "id": "N9zgyZqmFMvR"
      },
      "source": [
        "# Model"
      ]
    },
    {
      "cell_type": "code",
      "metadata": {
        "id": "vKPeBcLpJF86"
      },
      "source": [
        "class MAE(nn.Module):\n",
        "    def __init__(self):\n",
        "        super(MAE,self).__init__()\n",
        "        self.view1_convolution_L1=nn.Conv2d(1,200,3)\n",
        "        self.view2_convolution_L1=nn.Conv2d(1,200,3)\n",
        "        self.view1_pooling_L=nn.MaxPool2d(2)\n",
        "        self.view2_pooling_L=nn.MaxPool2d(2)\n",
        "        self.view1_batch_norm_L1=nn.BatchNorm2d(200)\n",
        "        self.view2_batch_norm_L1=nn.BatchNorm2d(200)\n",
        "        self.view1_convolution_L2=nn.Conv2d(200,100,3)\n",
        "        self.view2_convolution_L2=nn.Conv2d(200,100,3)\n",
        "        self.view1_batch_norm_L2=nn.BatchNorm2d(100)\n",
        "        self.view2_batch_norm_L2=nn.BatchNorm2d(100)\n",
        "        self.view1_hidden_layer_1=nn.Linear(1000,640)\n",
        "        self.view2_hidden_layer_1=nn.Linear(1000,640)\n",
        "        self.view1_hidden_layer_2=nn.Linear(640,320)\n",
        "        self.view2_hidden_layer_2=nn.Linear(640,320)\n",
        "        self.joint_common_rep=nn.Linear(320,100)\n",
        "        self.view1_hidden_Layer_decoding=nn.Linear(100,294)\n",
        "        self.view2_hidden_Layer_decoding=nn.Linear(100,294)\n",
        "        self.view1_Upsampling=nn.Upsample(size=(26,12))\n",
        "        self.view2_Upsampling=nn.Upsample(size=(26,12))\n",
        "        self.view1_deconvolution=nn.ConvTranspose2d(3,1,3)\n",
        "        self.view2_deconvolution=nn.ConvTranspose2d(3,1,3)\n",
        "\n",
        "\n",
        "    def forward(self,inp_view1,inp_view2):\n",
        "        view1={}\n",
        "        view2={}\n",
        "        view1[\"Layer\"] = self.view1_convolution_L1(inp_view1)\n",
        "        view2[\"Layer\"] = self.view2_convolution_L1(inp_view2)\n",
        "        view1[\"Layer\"] = F.relu(view1[\"Layer\"])\n",
        "        view2[\"Layer\"] = F.relu(view2[\"Layer\"])\n",
        "        view1[\"Layer\"] = self.view1_pooling_L(view1[\"Layer\"])\n",
        "        view2[\"Layer\"] = self.view2_pooling_L(view2[\"Layer\"])\n",
        "        view1[\"Layer\"] = self.view1_batch_norm_L1(view1[\"Layer\"])\n",
        "        view2[\"Layer\"] = self.view2_batch_norm_L1(view2[\"Layer\"])\n",
        "        view1[\"Layer\"] = self.view1_convolution_L2(view1[\"Layer\"])\n",
        "        view2[\"Layer\"] = self.view2_convolution_L2(view2[\"Layer\"])\n",
        "        view1[\"Layer\"] = F.relu(view1[\"Layer\"])\n",
        "        view2[\"Layer\"] = F.relu(view2[\"Layer\"])\n",
        "        view1[\"Layer\"] = self.view1_pooling_L(view1[\"Layer\"])\n",
        "        view2[\"Layer\"] = self.view2_pooling_L(view2[\"Layer\"])\n",
        "        view1[\"Layer\"] = self.view1_batch_norm_L2(view1[\"Layer\"])\n",
        "        view2[\"Layer\"] = self.view2_batch_norm_L2(view2[\"Layer\"])\n",
        "        view1[\"Layer\"] = view1[\"Layer\"].view(-1,1000)\n",
        "        view2[\"Layer\"] = view2[\"Layer\"].view(-1,1000)\n",
        "        view1[\"Hidden_Layer_1\"] = self.view1_hidden_layer_1(view1[\"Layer\"])\n",
        "        view2[\"Hidden_Layer_1\"] = self.view2_hidden_layer_1(view2[\"Layer\"])\n",
        "        view1[\"Hidden_Layer_1\"] = F.relu(view1[\"Hidden_Layer_1\"])\n",
        "        view2[\"Hidden_Layer_1\"] = F.relu(view2[\"Hidden_Layer_1\"])\n",
        "        view1[\"Hidden_Layer_2\"] = self.view1_hidden_layer_2(view1[\"Hidden_Layer_1\"])\n",
        "        view2[\"Hidden_Layer_2\"] = self.view2_hidden_layer_2(view2[\"Hidden_Layer_1\"])\n",
        "        view1[\"Hidden_Layer_2\"] = F.relu(view1[\"Hidden_Layer_2\"])\n",
        "        view2[\"Hidden_Layer_2\"] = F.relu(view2[\"Hidden_Layer_2\"])\n",
        "        joint_common_representation = view1[\"Hidden_Layer_2\"] + view2[\"Hidden_Layer_2\"]\n",
        "        joint_common_representation = self.joint_common_rep(joint_common_representation)\n",
        "        joint_common_representation = F.relu(joint_common_representation)\n",
        "        view1[\"reconstructed\"] = self.view1_hidden_Layer_decoding(joint_common_representation)\n",
        "        view2[\"reconstructed\"] = self.view2_hidden_Layer_decoding(joint_common_representation)\n",
        "        view1[\"reconstructed\"] = F.relu(view1[\"reconstructed\"])\n",
        "        view2[\"reconstructed\"] = F.relu(view2[\"reconstructed\"])\n",
        "        view1[\"reconstructed\"] = view1[\"reconstructed\"].reshape(-1,3,14,7)\n",
        "        view2[\"reconstructed\"] = view2[\"reconstructed\"].reshape(-1,3,14,7)\n",
        "        view1[\"reconstructed\"] = self.view1_Upsampling(view1[\"reconstructed\"])\n",
        "        view2[\"reconstructed\"] = self.view2_Upsampling(view2[\"reconstructed\"])\n",
        "        view1[\"reconstructed\"] = self.view1_deconvolution(view1[\"reconstructed\"])\n",
        "        view2[\"reconstructed\"] = self.view2_deconvolution(view2[\"reconstructed\"])\n",
        "        return view1,view2,joint_common_representation"
      ],
      "execution_count": null,
      "outputs": []
    },
    {
      "cell_type": "code",
      "metadata": {
        "id": "ODqwgLLRTl4K"
      },
      "source": [
        "def fit(model,train_loader,num_epoch,optimizer):\n",
        "    ep=[]\n",
        "    losses=[]\n",
        "        \n",
        "    for epoch in range(num_epoch):\n",
        "        count=0\n",
        "        print(\"epoch: \",epoch,end=\" \")\n",
        "        epoch_loss=0.0\n",
        "        l1,l2,l3,l4,l5,l6,l7=0,0,0,0,0,0,0\n",
        "        for image_batch in train_loader:\n",
        "            self_reconstruction_loss={}\n",
        "            cross_reconstruction_loss={}\n",
        "            step_computation_loss={}\n",
        "            view1_batch = image_batch[0][0:batch_size,0:1,0:28,0:14]\n",
        "            init_view1 = torch.zeros(view1_batch.shape)\n",
        "            view2_batch = image_batch[0][0:batch_size,0:1,0:28,14:28]\n",
        "            init_view2 = torch.zeros(view2_batch.shape)\n",
        "            view1_original,view2_original,joint_common_representation = model(view1_batch,view2_batch)\n",
        "            self_reconstruction_loss[\"L1\"]=F.mse_loss(view1_original[\"reconstructed\"],view1_batch)\n",
        "            self_reconstruction_loss[\"L1\"]+=F.mse_loss(view2_original[\"reconstructed\"],view2_batch)\n",
        "            view1_left,view2_left,JCR_left = model(view1_batch,init_view2)\n",
        "            view1_right,view2_right,JCR_right = model(init_view1,view2_batch)\n",
        "            cross_reconstruction_loss[\"L2\"]=F.mse_loss(view1_left[\"reconstructed\"],view1_batch)\n",
        "            cross_reconstruction_loss[\"L2\"]+=F.mse_loss(view2_left[\"reconstructed\"],view2_batch)\n",
        "            cross_reconstruction_loss[\"L3\"]=F.mse_loss(view1_right[\"reconstructed\"],view1_batch)\n",
        "            cross_reconstruction_loss[\"L3\"]+=F.mse_loss(view2_right[\"reconstructed\"],view2_batch)\n",
        "            cross_reconstruction_loss[\"L5\"]=F.mse_loss(view1_left[\"reconstructed\"],view1_right[\"reconstructed\"])\n",
        "            cross_reconstruction_loss[\"L5\"]+=F.mse_loss(view2_left[\"reconstructed\"],view2_right[\"reconstructed\"])\n",
        "            step_computation_loss[\"L4\"]=F.mse_loss(view1_original[\"Hidden_Layer_1\"],view2_original[\"Hidden_Layer_1\"])\n",
        "            step_computation_loss[\"L4\"]+=F.mse_loss(view1_original[\"Hidden_Layer_2\"],view2_original[\"Hidden_Layer_2\"])\n",
        "            correlation_loss={}\n",
        "            lambda_L6=-0.02\n",
        "            lambda1_L7=-0.003\n",
        "            lambda2_L7=-0.05\n",
        "            correlation_loss[\"L6\"]=lambda_L6*correlaton(JCR_left,JCR_right)\n",
        "            correlation_loss[\"L7\"]=lambda1_L7*correlaton(view1_original[\"Hidden_Layer_1\"],view2_original[\"Hidden_Layer_1\"]) \n",
        "            correlation_loss[\"L7\"]+=lambda2_L7*correlaton(view1_original[\"Hidden_Layer_2\"],view2_original[\"Hidden_Layer_2\"])\n",
        "            l1+=self_reconstruction_loss[\"L1\"].item()\n",
        "            l2+=cross_reconstruction_loss[\"L2\"].item()\n",
        "            l3+=cross_reconstruction_loss[\"L3\"].item()\n",
        "            l4+=step_computation_loss[\"L4\"].item()\n",
        "            l5+=cross_reconstruction_loss[\"L5\"].item()\n",
        "            l6+=correlation_loss[\"L6\"].item()\n",
        "            l7+=correlation_loss[\"L7\"].item()\n",
        "            batch_loss=self_reconstruction_loss[\"L1\"]+cross_reconstruction_loss[\"L2\"]+cross_reconstruction_loss[\"L3\"]+step_computation_loss[\"L4\"]+cross_reconstruction_loss[\"L5\"]+correlation_loss[\"L6\"]+correlation_loss[\"L7\"]\n",
        "            epoch_loss+=batch_loss.item()\n",
        "            optimizer.zero_grad()\n",
        "            batch_loss.backward()\n",
        "            optimizer.step()\n",
        "        print(\"L1 loss:\",l1,\"L2 loss:\",l2,\"L3 loss:\",l3,\"L4 loss:\",l4,\"L5 loss:\",l5,\"L6 loss:\",l6,\"L7 loss:\",l7)\n",
        "        loss_epoch[\"L1\"].append(l1)\n",
        "        loss_epoch[\"L2\"].append(l2)\n",
        "        loss_epoch[\"L3\"].append(l3)\n",
        "        loss_epoch[\"L4\"].append(l4)\n",
        "        loss_epoch[\"L5\"].append(l5)\n",
        "        loss_epoch[\"L6\"].append(l6)\n",
        "        loss_epoch[\"L7\"].append(l7)\n",
        "        losses.append(epoch_loss)\n",
        "        print(\"Loss\",epoch_loss)\n",
        "        torch.save(model.state_dict(), \"model_\"+str(epoch)+\".pth\")\n",
        "        ep.append(epoch)\n",
        "    return losses,model,ep\n",
        "        "
      ],
      "execution_count": null,
      "outputs": []
    },
    {
      "cell_type": "markdown",
      "metadata": {
        "id": "Yrxe1DAzhhy8"
      },
      "source": [
        "# Training"
      ]
    },
    {
      "cell_type": "code",
      "metadata": {
        "colab": {
          "base_uri": "https://localhost:8080/"
        },
        "id": "uExCDYw0EvvX",
        "outputId": "225f57f7-ed17-41b6-9d21-f2b5bced08d5"
      },
      "source": [
        "loss_epoch={\"L1\":[],\"L2\":[],\"L3\":[],\"L4\":[],\"L5\":[],\"L6\":[],\"L7\":[]}\n",
        "ep = [i for i in range(0,21)]\n",
        "\n",
        "num_of_epochs=21\n",
        "\n",
        "model = MAE()\n",
        "optimizer = optim.Adam(model.parameters(),lr=0.001)\n",
        "loss,model,ep=fit(model,train_loader,num_of_epochs,optimizer)"
      ],
      "execution_count": null,
      "outputs": [
        {
          "output_type": "stream",
          "text": [
            "epoch:  0 L1 loss: 91.66947425156832 L2 loss: 92.43685837090015 L3 loss: 92.95785794407129 L4 loss: 2.5340027920901775 L5 loss: 0.9364670814320561 L6 loss: -11.802657188382 L7 loss: -30.689355457572674\n",
            "Loss 238.0426478087902\n",
            "epoch:  1 L1 loss: 54.98774892091751 L2 loss: 57.25545237213373 L3 loss: 57.84252808243036 L4 loss: 3.023673102259636 L5 loss: 3.6447012743446976 L6 loss: -11.603429576382041 L7 loss: -30.795212510973215\n",
            "Loss 134.35546138882637\n",
            "epoch:  2 L1 loss: 45.97940455377102 L2 loss: 48.580193392932415 L3 loss: 48.96583329886198 L4 loss: 2.896673657465726 L5 loss: 4.821461538784206 L6 loss: -11.587145203724504 L7 loss: -30.986665841192007\n",
            "Loss 108.66975544393063\n",
            "epoch:  3 L1 loss: 42.4029133208096 L2 loss: 45.1824923530221 L3 loss: 45.33924228698015 L4 loss: 2.5970817061606795 L5 loss: 5.21667426917702 L6 loss: -11.603582460433245 L7 loss: -31.09411682933569\n",
            "Loss 98.04070501029491\n",
            "epoch:  4 L1 loss: 40.490847524255514 L2 loss: 43.32989762350917 L3 loss: 43.49200006201863 L4 loss: 2.329996353480965 L5 loss: 5.476468425709754 L6 loss: -11.615992112085223 L7 loss: -31.15730133280158\n",
            "Loss 92.3459163159132\n",
            "epoch:  5 L1 loss: 39.30326582118869 L2 loss: 42.184499353170395 L3 loss: 42.317727237939835 L4 loss: 2.115690069505945 L5 loss: 5.615375022869557 L6 loss: -11.630422005429864 L7 loss: -31.201682820916176\n",
            "Loss 88.70445241034031\n",
            "epoch:  6 L1 loss: 38.42972728610039 L2 loss: 41.35530972480774 L3 loss: 41.41574673727155 L4 loss: 1.9345039362087846 L5 loss: 5.700321936514229 L6 loss: -11.644959354773164 L7 loss: -31.238188285380602\n",
            "Loss 85.95246177911758\n",
            "epoch:  7 L1 loss: 37.68155134096742 L2 loss: 40.63687855005264 L3 loss: 40.632287446409464 L4 loss: 1.795099452137947 L5 loss: 5.772134141530842 L6 loss: -11.656979188323021 L7 loss: -31.265061728656292\n",
            "Loss 83.59590981155634\n",
            "epoch:  8 L1 loss: 37.10928713530302 L2 loss: 40.08257205784321 L3 loss: 40.03551298752427 L4 loss: 1.678074635565281 L5 loss: 5.831079283729196 L6 loss: -11.665739906951785 L7 loss: -31.286480467766523\n",
            "Loss 81.78430540114641\n",
            "epoch:  9 L1 loss: 36.584627363830805 L2 loss: 39.638971623033285 L3 loss: 39.44706196710467 L4 loss: 1.6053661981131881 L5 loss: 5.89931294741109 L6 loss: -11.67188941501081 L7 loss: -31.29845828935504\n",
            "Loss 80.20499236136675\n",
            "epoch:  10 L1 loss: 36.053603775799274 L2 loss: 39.267688021063805 L3 loss: 38.833175115287304 L4 loss: 1.5677581497002393 L5 loss: 6.004074650350958 L6 loss: -11.678468996658921 L7 loss: -31.311912167817354\n",
            "Loss 78.73591870069504\n",
            "epoch:  11 L1 loss: 35.58957599103451 L2 loss: 38.91484711319208 L3 loss: 38.29318906366825 L4 loss: 1.494939406402409 L5 loss: 6.067783819511533 L6 loss: -11.683743733912706 L7 loss: -31.331085290759802\n",
            "Loss 77.34550658613443\n",
            "epoch:  12 L1 loss: 35.13248063996434 L2 loss: 38.5618167296052 L3 loss: 37.838702633976936 L4 loss: 1.4295598753960803 L5 loss: 6.148220311850309 L6 loss: -11.688597673550248 L7 loss: -31.345074757933617\n",
            "Loss 76.07710793614388\n",
            "epoch:  13 L1 loss: 34.726226687431335 L2 loss: 38.19780108332634 L3 loss: 37.48761135339737 L4 loss: 1.3836379958083853 L5 loss: 6.216760884039104 L6 loss: -11.693768376484513 L7 loss: -31.353598784655333\n",
            "Loss 74.96467112749815\n",
            "epoch:  14 L1 loss: 34.33125800639391 L2 loss: 37.789344027638435 L3 loss: 37.14575370773673 L4 loss: 1.343803645344451 L5 loss: 6.251109281554818 L6 loss: -11.701036740094423 L7 loss: -31.364198334515095\n",
            "Loss 73.79603339731693\n",
            "epoch:  15 L1 loss: 33.976378723978996 L2 loss: 37.414113987237215 L3 loss: 36.81354780495167 L4 loss: 1.291628240258433 L5 loss: 6.248655371833593 L6 loss: -11.710133112967014 L7 loss: -31.377495367079973\n",
            "Loss 72.65669552236795\n",
            "epoch:  16 L1 loss: 33.68570627272129 L2 loss: 37.090936213731766 L3 loss: 36.55345135182142 L4 loss: 1.219572204630822 L5 loss: 6.277276746463031 L6 loss: -11.715907888486981 L7 loss: -31.38699097931385\n",
            "Loss 71.72404382377863\n",
            "epoch:  17 L1 loss: 33.369740191847086 L2 loss: 36.747914645820856 L3 loss: 36.31400279328227 L4 loss: 1.16695674858056 L5 loss: 6.320015654433519 L6 loss: -11.72092299349606 L7 loss: -31.39086391031742\n",
            "Loss 70.80684312433004\n",
            "epoch:  18 L1 loss: 33.041167210787535 L2 loss: 36.36361360549927 L3 loss: 36.11315203085542 L4 loss: 1.1302205115789548 L5 loss: 6.392801193520427 L6 loss: -11.724009569734335 L7 loss: -31.391453828662634\n",
            "Loss 69.92549137026072\n",
            "epoch:  19 L1 loss: 32.70491663739085 L2 loss: 35.963200371712446 L3 loss: 35.92747399583459 L4 loss: 1.09388217527885 L5 loss: 6.450051584746689 L6 loss: -11.72770931571722 L7 loss: -31.392123352736235\n",
            "Loss 69.01969217509031\n",
            "epoch:  20 L1 loss: 32.39763470366597 L2 loss: 35.59320276975632 L3 loss: 35.75062336400151 L4 loss: 1.0444766141008586 L5 loss: 6.497349931392819 L6 loss: -11.732439137995243 L7 loss: -31.395346507430077\n",
            "Loss 68.155502140522\n"
          ],
          "name": "stdout"
        }
      ]
    },
    {
      "cell_type": "code",
      "metadata": {
        "id": "ozE3gwz-xzE_"
      },
      "source": [
        "torch.save(model.state_dict(), \"model_final.pth\")"
      ],
      "execution_count": null,
      "outputs": []
    },
    {
      "cell_type": "markdown",
      "metadata": {
        "id": "OhNQzu3wFF47"
      },
      "source": [
        "# Graphs"
      ]
    },
    {
      "cell_type": "code",
      "metadata": {
        "colab": {
          "base_uri": "https://localhost:8080/",
          "height": 1000
        },
        "id": "471M3qgZxkW_",
        "outputId": "7cd35c62-9ee5-4595-914f-5e0a14bed02a"
      },
      "source": [
        "plot_gp(ep,loss_epoch[\"L1\"],\"L1 Loss\",\"epoch vs L1 loss\")\n",
        "plot_gp(ep,loss_epoch[\"L2\"],\"L2 Loss\",\"epoch vs L2 loss\")\n",
        "plot_gp(ep,loss_epoch[\"L3\"],\"L3 Loss\",\"epoch vs L3 loss\")\n",
        "plot_gp(ep,loss_epoch[\"L4\"],\"L4 Loss\",\"epoch vs L4 loss\")\n",
        "plot_gp(ep,loss_epoch[\"L5\"],\"L5 Loss\",\"epoch vs L5 loss\")\n",
        "l6_pos=np.array(loss_epoch[\"L6\"])*-1\n",
        "l6_pos=list(l6_pos)\n",
        "plot_gp(ep,l6_pos,\"L6 Loss\",\"epoch vs L6 loss\")\n",
        "l7_pos=np.array(loss_epoch[\"L7\"])*-1\n",
        "l7_pos=list(l7_pos)\n",
        "plot_gp(ep,l7_pos,\"L7 Loss\",\"epoch vs L7 loss\")"
      ],
      "execution_count": null,
      "outputs": [
        {
          "output_type": "display_data",
          "data": {
            "image/png": "[encoded data removed]",
            "text/plain": [
              "<Figure size 432x288 with 1 Axes>"
            ]
          },
          "metadata": {
            "tags": [],
            "needs_background": "light"
          }
        },
        {
          "output_type": "display_data",
          "data": {
            "image/png": "[encoded data removed]",
            "text/plain": [
              "<Figure size 432x288 with 1 Axes>"
            ]
          },
          "metadata": {
            "tags": [],
            "needs_background": "light"
          }
        },
        {
          "output_type": "display_data",
          "data": {
            "image/png": "[encoded data removed]",
            "text/plain": [
              "<Figure size 432x288 with 1 Axes>"
            ]
          },
          "metadata": {
            "tags": [],
            "needs_background": "light"
          }
        },
        {
          "output_type": "display_data",
          "data": {
            "image/png": "[encoded data removed]",
            "text/plain": [
              "<Figure size 432x288 with 1 Axes>"
            ]
          },
          "metadata": {
            "tags": [],
            "needs_background": "light"
          }
        },
        {
          "output_type": "display_data",
          "data": {
            "image/png": "[encoded data removed]",
            "text/plain": [
              "<Figure size 432x288 with 1 Axes>"
            ]
          },
          "metadata": {
            "tags": [],
            "needs_background": "light"
          }
        },
        {
          "output_type": "display_data",
          "data": {
            "image/png": "[encoded data removed]",
            "text/plain": [
              "<Figure size 432x288 with 1 Axes>"
            ]
          },
          "metadata": {
            "tags": [],
            "needs_background": "light"
          }
        },
        {
          "output_type": "display_data",
          "data": {
            "image/png": "[encoded data removed]",
            "text/plain": [
              "<Figure size 432x288 with 1 Axes>"
            ]
          },
          "metadata": {
            "tags": [],
            "needs_background": "light"
          }
        }
      ]
    },
    {
      "cell_type": "code",
      "metadata": {
        "colab": {
          "base_uri": "https://localhost:8080/",
          "height": 295
        },
        "id": "31mXbNbNCrl1",
        "outputId": "2c9b040e-5731-49ca-e0b7-1e0ed512723a"
      },
      "source": [
        "plot_gp(ep,loss,\"Total Loss\",\"epoch vs Total loss\")"
      ],
      "execution_count": null,
      "outputs": [
        {
          "output_type": "display_data",
          "data": {
            "image/png": "[encoded data removed]",
            "text/plain": [
              "<Figure size 432x288 with 1 Axes>"
            ]
          },
          "metadata": {
            "tags": [],
            "needs_background": "light"
          }
        }
      ]
    },
    {
      "cell_type": "markdown",
      "metadata": {
        "id": "Ea5Wfw8XFiY0"
      },
      "source": [
        "# Reconstructions"
      ]
    },
    {
      "cell_type": "code",
      "metadata": {
        "id": "yQC3aXd6Vbkt"
      },
      "source": [
        "batch = next(iter(test_loader))\n",
        "images = batch[0]\n",
        "view1 = images[0:batch_size,0:1,0:28,0:14]\n",
        "init_view1 = torch.zeros(view1.shape)\n",
        "view2 = images[0:batch_size,0:1,0:28,14:28]\n",
        "init_view2 = torch.zeros(view2.shape)\n",
        "view1_original,view2_original,joint_common_representation = model(view1,view2)\n",
        "view1_left,view2_left,JCR_left = model(view1,init_view2)\n",
        "view1_right,view2_right,JCR_right = model(init_view1,view2)"
      ],
      "execution_count": null,
      "outputs": []
    },
    {
      "cell_type": "code",
      "metadata": {
        "id": "b8ksHHddGXpj"
      },
      "source": [
        "def plot_result(view1,view2,view2_original,view1_original,id):\n",
        "    fig, axs = plt.subplots(1, 4,figsize=(70,70))\n",
        "    axs[0].tick_params(bottom=False,left=False,labelbottom=False,labelleft=False)\n",
        "    axs[0].imshow(view1[id].detach().reshape(28,14))\n",
        "    axs[1].tick_params(bottom=False,left=False,labelbottom=False,labelleft=False)\n",
        "    axs[1].imshow(view2_original[id].detach().reshape(28,14))\n",
        "    axs[2].tick_params(bottom=False,left=False,labelbottom=False,labelleft=False)\n",
        "    axs[2].imshow(view1_original[id].detach().reshape(28,14))\n",
        "    axs[3].tick_params(bottom=False,left=False,labelbottom=False,labelleft=False)\n",
        "    axs[3].imshow(view2[id].detach().reshape(28,14))\n",
        "    plt.subplots_adjust(left=0.65,bottom=0.1,right=0.7,top=0.2,wspace=0.1,hspace=0.1)\n",
        "    plt.show()"
      ],
      "execution_count": null,
      "outputs": []
    },
    {
      "cell_type": "code",
      "metadata": {
        "colab": {
          "base_uri": "https://localhost:8080/",
          "height": 1000
        },
        "id": "RW-Lx_nTGXpl",
        "outputId": "94df813a-81d7-483c-8f0d-ae921423ea62"
      },
      "source": [
        "for id in range(0,30):\n",
        "  print('Self - reconstruction')\n",
        "  plot_result(view1,view2_original[\"reconstructed\"],view2,view1_original[\"reconstructed\"],id)\n",
        "  print('Cross - reconstruction')\n",
        "  plot_result(view1,view2,view2_left[\"reconstructed\"],view1_right[\"reconstructed\"],id)\n",
        "  print(\"\\n\"*2)"
      ],
      "execution_count": null,
      "outputs": [
        {
          "output_type": "stream",
          "text": [
            "Self - reconstruction\n"
          ],
          "name": "stdout"
        },
        {
          "output_type": "display_data",
          "data": {
            "image/png": "[encoded data removed]",
            "text/plain": [
              "<Figure size 5040x5040 with 4 Axes>"
            ]
          },
          "metadata": {
            "tags": []
          }
        },
        {
          "output_type": "stream",
          "text": [
            "Cross - reconstruction\n"
          ],
          "name": "stdout"
        },
        {
          "output_type": "display_data",
          "data": {
            "image/png": "[encoded data removed]",
            "text/plain": [
              "<Figure size 5040x5040 with 4 Axes>"
            ]
          },
          "metadata": {
            "tags": []
          }
        },
        {
          "output_type": "stream",
          "text": [
            "\n",
            "\n",
            "\n",
            "Self - reconstruction\n"
          ],
          "name": "stdout"
        },
        {
          "output_type": "display_data",
          "data": {
            "image/png": "[encoded data removed]",
            "text/plain": [
              "<Figure size 5040x5040 with 4 Axes>"
            ]
          },
          "metadata": {
            "tags": []
          }
        },
        {
          "output_type": "stream",
          "text": [
            "Cross - reconstruction\n"
          ],
          "name": "stdout"
        },
        {
          "output_type": "display_data",
          "data": {
            "image/png": "[encoded data removed]",
            "text/plain": [
              "<Figure size 5040x5040 with 4 Axes>"
            ]
          },
          "metadata": {
            "tags": []
          }
        },
        {
          "output_type": "stream",
          "text": [
            "\n",
            "\n",
            "\n",
            "Self - reconstruction\n"
          ],
          "name": "stdout"
        },
        {
          "output_type": "display_data",
          "data": {
            "image/png": "[encoded data removed]",
            "text/plain": [
              "<Figure size 5040x5040 with 4 Axes>"
            ]
          },
          "metadata": {
            "tags": []
          }
        },
        {
          "output_type": "stream",
          "text": [
            "Cross - reconstruction\n"
          ],
          "name": "stdout"
        },
        {
          "output_type": "display_data",
          "data": {
            "image/png": "[encoded data removed]",
            "text/plain": [
              "<Figure size 5040x5040 with 4 Axes>"
            ]
          },
          "metadata": {
            "tags": []
          }
        },
        {
          "output_type": "stream",
          "text": [
            "\n",
            "\n",
            "\n",
            "Self - reconstruction\n"
          ],
          "name": "stdout"
        },
        {
          "output_type": "display_data",
          "data": {
            "image/png": "[encoded data removed]",
            "text/plain": [
              "<Figure size 5040x5040 with 4 Axes>"
            ]
          },
          "metadata": {
            "tags": []
          }
        },
        {
          "output_type": "stream",
          "text": [
            "Cross - reconstruction\n"
          ],
          "name": "stdout"
        },
        {
          "output_type": "display_data",
          "data": {
            "image/png": "[encoded data removed]",
            "text/plain": [
              "<Figure size 5040x5040 with 4 Axes>"
            ]
          },
          "metadata": {
            "tags": []
          }
        },
        {
          "output_type": "stream",
          "text": [
            "\n",
            "\n",
            "\n",
            "Self - reconstruction\n"
          ],
          "name": "stdout"
        },
        {
          "output_type": "display_data",
          "data": {
            "image/png": "[encoded data removed]",
            "text/plain": [
              "<Figure size 5040x5040 with 4 Axes>"
            ]
          },
          "metadata": {
            "tags": []
          }
        },
        {
          "output_type": "stream",
          "text": [
            "Cross - reconstruction\n"
          ],
          "name": "stdout"
        },
        {
          "output_type": "display_data",
          "data": {
            "image/png": "[encoded data removed]",
            "text/plain": [
              "<Figure size 5040x5040 with 4 Axes>"
            ]
          },
          "metadata": {
            "tags": []
          }
        },
        {
          "output_type": "stream",
          "text": [
            "\n",
            "\n",
            "\n",
            "Self - reconstruction\n"
          ],
          "name": "stdout"
        },
        {
          "output_type": "display_data",
          "data": {
            "image/png": "[encoded data removed]",
            "text/plain": [
              "<Figure size 5040x5040 with 4 Axes>"
            ]
          },
          "metadata": {
            "tags": []
          }
        },
        {
          "output_type": "stream",
          "text": [
            "Cross - reconstruction\n"
          ],
          "name": "stdout"
        },
        {
          "output_type": "display_data",
          "data": {
            "image/png": "[encoded data removed]",
            "text/plain": [
              "<Figure size 5040x5040 with 4 Axes>"
            ]
          },
          "metadata": {
            "tags": []
          }
        },
        {
          "output_type": "stream",
          "text": [
            "\n",
            "\n",
            "\n",
            "Self - reconstruction\n"
          ],
          "name": "stdout"
        },
        {
          "output_type": "display_data",
          "data": {
            "image/png": "[encoded data removed]",
            "text/plain": [
              "<Figure size 5040x5040 with 4 Axes>"
            ]
          },
          "metadata": {
            "tags": []
          }
        },
        {
          "output_type": "stream",
          "text": [
            "Cross - reconstruction\n"
          ],
          "name": "stdout"
        },
        {
          "output_type": "display_data",
          "data": {
            "image/png": "[encoded data removed]",
            "text/plain": [
              "<Figure size 5040x5040 with 4 Axes>"
            ]
          },
          "metadata": {
            "tags": []
          }
        },
        {
          "output_type": "stream",
          "text": [
            "\n",
            "\n",
            "\n",
            "Self - reconstruction\n"
          ],
          "name": "stdout"
        },
        {
          "output_type": "display_data",
          "data": {
            "image/png": "[encoded data removed]",
            "text/plain": [
              "<Figure size 5040x5040 with 4 Axes>"
            ]
          },
          "metadata": {
            "tags": []
          }
        },
        {
          "output_type": "stream",
          "text": [
            "Cross - reconstruction\n"
          ],
          "name": "stdout"
        },
        {
          "output_type": "display_data",
          "data": {
            "image/png": "[encoded data removed]",
            "text/plain": [
              "<Figure size 5040x5040 with 4 Axes>"
            ]
          },
          "metadata": {
            "tags": []
          }
        },
        {
          "output_type": "stream",
          "text": [
            "\n",
            "\n",
            "\n",
            "Self - reconstruction\n"
          ],
          "name": "stdout"
        },
        {
          "output_type": "display_data",
          "data": {
            "image/png": "[encoded data removed]",
            "text/plain": [
              "<Figure size 5040x5040 with 4 Axes>"
            ]
          },
          "metadata": {
            "tags": []
          }
        },
        {
          "output_type": "stream",
          "text": [
            "Cross - reconstruction\n"
          ],
          "name": "stdout"
        },
        {
          "output_type": "display_data",
          "data": {
            "image/png": "[encoded data removed]",
            "text/plain": [
              "<Figure size 5040x5040 with 4 Axes>"
            ]
          },
          "metadata": {
            "tags": []
          }
        },
        {
          "output_type": "stream",
          "text": [
            "\n",
            "\n",
            "\n",
            "Self - reconstruction\n"
          ],
          "name": "stdout"
        },
        {
          "output_type": "display_data",
          "data": {
            "image/png": "[encoded data removed]",
            "text/plain": [
              "<Figure size 5040x5040 with 4 Axes>"
            ]
          },
          "metadata": {
            "tags": []
          }
        },
        {
          "output_type": "stream",
          "text": [
            "Cross - reconstruction\n"
          ],
          "name": "stdout"
        },
        {
          "output_type": "display_data",
          "data": {
            "image/png": "[encoded data removed]",
            "text/plain": [
              "<Figure size 5040x5040 with 4 Axes>"
            ]
          },
          "metadata": {
            "tags": []
          }
        },
        {
          "output_type": "stream",
          "text": [
            "\n",
            "\n",
            "\n",
            "Self - reconstruction\n"
          ],
          "name": "stdout"
        },
        {
          "output_type": "display_data",
          "data": {
            "image/png": "[encoded data removed]",
            "text/plain": [
              "<Figure size 5040x5040 with 4 Axes>"
            ]
          },
          "metadata": {
            "tags": []
          }
        },
        {
          "output_type": "stream",
          "text": [
            "Cross - reconstruction\n"
          ],
          "name": "stdout"
        },
        {
          "output_type": "display_data",
          "data": {
            "image/png": "[encoded data removed]",
            "text/plain": [
              "<Figure size 5040x5040 with 4 Axes>"
            ]
          },
          "metadata": {
            "tags": []
          }
        },
        {
          "output_type": "stream",
          "text": [
            "\n",
            "\n",
            "\n",
            "Self - reconstruction\n"
          ],
          "name": "stdout"
        },
        {
          "output_type": "display_data",
          "data": {
            "image/png": "[encoded data removed]",
            "text/plain": [
              "<Figure size 5040x5040 with 4 Axes>"
            ]
          },
          "metadata": {
            "tags": []
          }
        },
        {
          "output_type": "stream",
          "text": [
            "Cross - reconstruction\n"
          ],
          "name": "stdout"
        },
        {
          "output_type": "display_data",
          "data": {
            "image/png": "[encoded data removed]",
            "text/plain": [
              "<Figure size 5040x5040 with 4 Axes>"
            ]
          },
          "metadata": {
            "tags": []
          }
        },
        {
          "output_type": "stream",
          "text": [
            "\n",
            "\n",
            "\n",
            "Self - reconstruction\n"
          ],
          "name": "stdout"
        },
        {
          "output_type": "display_data",
          "data": {
            "image/png": "[encoded data removed]",
            "text/plain": [
              "<Figure size 5040x5040 with 4 Axes>"
            ]
          },
          "metadata": {
            "tags": []
          }
        },
        {
          "output_type": "stream",
          "text": [
            "Cross - reconstruction\n"
          ],
          "name": "stdout"
        },
        {
          "output_type": "display_data",
          "data": {
            "image/png": "[encoded data removed]",
            "text/plain": [
              "<Figure size 5040x5040 with 4 Axes>"
            ]
          },
          "metadata": {
            "tags": []
          }
        },
        {
          "output_type": "stream",
          "text": [
            "\n",
            "\n",
            "\n",
            "Self - reconstruction\n"
          ],
          "name": "stdout"
        },
        {
          "output_type": "display_data",
          "data": {
            "image/png": "[encoded data removed]",
            "text/plain": [
              "<Figure size 5040x5040 with 4 Axes>"
            ]
          },
          "metadata": {
            "tags": []
          }
        },
        {
          "output_type": "stream",
          "text": [
            "Cross - reconstruction\n"
          ],
          "name": "stdout"
        },
        {
          "output_type": "display_data",
          "data": {
            "image/png": "[encoded data removed]",
            "text/plain": [
              "<Figure size 5040x5040 with 4 Axes>"
            ]
          },
          "metadata": {
            "tags": []
          }
        },
        {
          "output_type": "stream",
          "text": [
            "\n",
            "\n",
            "\n",
            "Self - reconstruction\n"
          ],
          "name": "stdout"
        },
        {
          "output_type": "display_data",
          "data": {
            "image/png": "[encoded data removed]",
            "text/plain": [
              "<Figure size 5040x5040 with 4 Axes>"
            ]
          },
          "metadata": {
            "tags": []
          }
        },
        {
          "output_type": "stream",
          "text": [
            "Cross - reconstruction\n"
          ],
          "name": "stdout"
        },
        {
          "output_type": "display_data",
          "data": {
            "image/png": "[encoded data removed]",
            "text/plain": [
              "<Figure size 5040x5040 with 4 Axes>"
            ]
          },
          "metadata": {
            "tags": []
          }
        },
        {
          "output_type": "stream",
          "text": [
            "\n",
            "\n",
            "\n",
            "Self - reconstruction\n"
          ],
          "name": "stdout"
        },
        {
          "output_type": "display_data",
          "data": {
            "image/png": "[encoded data removed]",
            "text/plain": [
              "<Figure size 5040x5040 with 4 Axes>"
            ]
          },
          "metadata": {
            "tags": []
          }
        },
        {
          "output_type": "stream",
          "text": [
            "Cross - reconstruction\n"
          ],
          "name": "stdout"
        },
        {
          "output_type": "display_data",
          "data": {
            "image/png": "[encoded data removed]",
            "text/plain": [
              "<Figure size 5040x5040 with 4 Axes>"
            ]
          },
          "metadata": {
            "tags": []
          }
        },
        {
          "output_type": "stream",
          "text": [
            "\n",
            "\n",
            "\n",
            "Self - reconstruction\n"
          ],
          "name": "stdout"
        },
        {
          "output_type": "display_data",
          "data": {
            "image/png": "[encoded data removed]",
            "text/plain": [
              "<Figure size 5040x5040 with 4 Axes>"
            ]
          },
          "metadata": {
            "tags": []
          }
        },
        {
          "output_type": "stream",
          "text": [
            "Cross - reconstruction\n"
          ],
          "name": "stdout"
        },
        {
          "output_type": "display_data",
          "data": {
            "image/png": "[encoded data removed]",
            "text/plain": [
              "<Figure size 5040x5040 with 4 Axes>"
            ]
          },
          "metadata": {
            "tags": []
          }
        },
        {
          "output_type": "stream",
          "text": [
            "\n",
            "\n",
            "\n",
            "Self - reconstruction\n"
          ],
          "name": "stdout"
        },
        {
          "output_type": "display_data",
          "data": {
            "image/png": "[encoded data removed]",
            "text/plain": [
              "<Figure size 5040x5040 with 4 Axes>"
            ]
          },
          "metadata": {
            "tags": []
          }
        },
        {
          "output_type": "stream",
          "text": [
            "Cross - reconstruction\n"
          ],
          "name": "stdout"
        },
        {
          "output_type": "display_data",
          "data": {
            "image/png": "[encoded data removed]",
            "text/plain": [
              "<Figure size 5040x5040 with 4 Axes>"
            ]
          },
          "metadata": {
            "tags": []
          }
        },
        {
          "output_type": "stream",
          "text": [
            "\n",
            "\n",
            "\n",
            "Self - reconstruction\n"
          ],
          "name": "stdout"
        },
        {
          "output_type": "display_data",
          "data": {
            "image/png": "[encoded data removed]",
            "text/plain": [
              "<Figure size 5040x5040 with 4 Axes>"
            ]
          },
          "metadata": {
            "tags": []
          }
        },
        {
          "output_type": "stream",
          "text": [
            "Cross - reconstruction\n"
          ],
          "name": "stdout"
        },
        {
          "output_type": "display_data",
          "data": {
            "image/png": "[encoded data removed]",
            "text/plain": [
              "<Figure size 5040x5040 with 4 Axes>"
            ]
          },
          "metadata": {
            "tags": []
          }
        },
        {
          "output_type": "stream",
          "text": [
            "\n",
            "\n",
            "\n",
            "Self - reconstruction\n"
          ],
          "name": "stdout"
        },
        {
          "output_type": "display_data",
          "data": {
            "image/png": "[encoded data removed]",
            "text/plain": [
              "<Figure size 5040x5040 with 4 Axes>"
            ]
          },
          "metadata": {
            "tags": []
          }
        },
        {
          "output_type": "stream",
          "text": [
            "Cross - reconstruction\n"
          ],
          "name": "stdout"
        },
        {
          "output_type": "display_data",
          "data": {
            "image/png": "[encoded data removed]",
            "text/plain": [
              "<Figure size 5040x5040 with 4 Axes>"
            ]
          },
          "metadata": {
            "tags": []
          }
        },
        {
          "output_type": "stream",
          "text": [
            "\n",
            "\n",
            "\n",
            "Self - reconstruction\n"
          ],
          "name": "stdout"
        },
        {
          "output_type": "display_data",
          "data": {
            "image/png": "[encoded data removed]",
            "text/plain": [
              "<Figure size 5040x5040 with 4 Axes>"
            ]
          },
          "metadata": {
            "tags": []
          }
        },
        {
          "output_type": "stream",
          "text": [
            "Cross - reconstruction\n"
          ],
          "name": "stdout"
        },
        {
          "output_type": "display_data",
          "data": {
            "image/png": "[encoded data removed]",
            "text/plain": [
              "<Figure size 5040x5040 with 4 Axes>"
            ]
          },
          "metadata": {
            "tags": []
          }
        },
        {
          "output_type": "stream",
          "text": [
            "\n",
            "\n",
            "\n",
            "Self - reconstruction\n"
          ],
          "name": "stdout"
        },
        {
          "output_type": "display_data",
          "data": {
            "image/png": "[encoded data removed]",
            "text/plain": [
              "<Figure size 5040x5040 with 4 Axes>"
            ]
          },
          "metadata": {
            "tags": []
          }
        },
        {
          "output_type": "stream",
          "text": [
            "Cross - reconstruction\n"
          ],
          "name": "stdout"
        },
        {
          "output_type": "display_data",
          "data": {
            "image/png": "[encoded data removed]",
            "text/plain": [
              "<Figure size 5040x5040 with 4 Axes>"
            ]
          },
          "metadata": {
            "tags": []
          }
        },
        {
          "output_type": "stream",
          "text": [
            "\n",
            "\n",
            "\n",
            "Self - reconstruction\n"
          ],
          "name": "stdout"
        },
        {
          "output_type": "display_data",
          "data": {
            "image/png": "[encoded data removed]",
            "text/plain": [
              "<Figure size 5040x5040 with 4 Axes>"
            ]
          },
          "metadata": {
            "tags": []
          }
        },
        {
          "output_type": "stream",
          "text": [
            "Cross - reconstruction\n"
          ],
          "name": "stdout"
        },
        {
          "output_type": "display_data",
          "data": {
            "image/png": "[encoded data removed]",
            "text/plain": [
              "<Figure size 5040x5040 with 4 Axes>"
            ]
          },
          "metadata": {
            "tags": []
          }
        },
        {
          "output_type": "stream",
          "text": [
            "\n",
            "\n",
            "\n",
            "Self - reconstruction\n"
          ],
          "name": "stdout"
        },
        {
          "output_type": "display_data",
          "data": {
            "image/png": "[encoded data removed]",
            "text/plain": [
              "<Figure size 5040x5040 with 4 Axes>"
            ]
          },
          "metadata": {
            "tags": []
          }
        },
        {
          "output_type": "stream",
          "text": [
            "Cross - reconstruction\n"
          ],
          "name": "stdout"
        },
        {
          "output_type": "display_data",
          "data": {
            "image/png": "[encoded data removed]",
            "text/plain": [
              "<Figure size 5040x5040 with 4 Axes>"
            ]
          },
          "metadata": {
            "tags": []
          }
        },
        {
          "output_type": "stream",
          "text": [
            "\n",
            "\n",
            "\n",
            "Self - reconstruction\n"
          ],
          "name": "stdout"
        },
        {
          "output_type": "display_data",
          "data": {
            "image/png": "[encoded data removed]",
            "text/plain": [
              "<Figure size 5040x5040 with 4 Axes>"
            ]
          },
          "metadata": {
            "tags": []
          }
        },
        {
          "output_type": "stream",
          "text": [
            "Cross - reconstruction\n"
          ],
          "name": "stdout"
        },
        {
          "output_type": "display_data",
          "data": {
            "image/png": "[encoded data removed]",
            "text/plain": [
              "<Figure size 5040x5040 with 4 Axes>"
            ]
          },
          "metadata": {
            "tags": []
          }
        },
        {
          "output_type": "stream",
          "text": [
            "\n",
            "\n",
            "\n",
            "Self - reconstruction\n"
          ],
          "name": "stdout"
        },
        {
          "output_type": "display_data",
          "data": {
            "image/png": "[encoded data removed]",
            "text/plain": [
              "<Figure size 5040x5040 with 4 Axes>"
            ]
          },
          "metadata": {
            "tags": []
          }
        },
        {
          "output_type": "stream",
          "text": [
            "Cross - reconstruction\n"
          ],
          "name": "stdout"
        },
        {
          "output_type": "display_data",
          "data": {
            "image/png": "[encoded data removed]",
            "text/plain": [
              "<Figure size 5040x5040 with 4 Axes>"
            ]
          },
          "metadata": {
            "tags": []
          }
        },
        {
          "output_type": "stream",
          "text": [
            "\n",
            "\n",
            "\n",
            "Self - reconstruction\n"
          ],
          "name": "stdout"
        },
        {
          "output_type": "display_data",
          "data": {
            "image/png": "[encoded data removed]",
            "text/plain": [
              "<Figure size 5040x5040 with 4 Axes>"
            ]
          },
          "metadata": {
            "tags": []
          }
        },
        {
          "output_type": "stream",
          "text": [
            "Cross - reconstruction\n"
          ],
          "name": "stdout"
        },
        {
          "output_type": "display_data",
          "data": {
            "image/png": "[encoded data removed]",
            "text/plain": [
              "<Figure size 5040x5040 with 4 Axes>"
            ]
          },
          "metadata": {
            "tags": []
          }
        },
        {
          "output_type": "stream",
          "text": [
            "\n",
            "\n",
            "\n",
            "Self - reconstruction\n"
          ],
          "name": "stdout"
        },
        {
          "output_type": "display_data",
          "data": {
            "image/png": "[encoded data removed]",
            "text/plain": [
              "<Figure size 5040x5040 with 4 Axes>"
            ]
          },
          "metadata": {
            "tags": []
          }
        },
        {
          "output_type": "stream",
          "text": [
            "Cross - reconstruction\n"
          ],
          "name": "stdout"
        },
        {
          "output_type": "display_data",
          "data": {
            "image/png": "[encoded data removed]",
            "text/plain": [
              "<Figure size 5040x5040 with 4 Axes>"
            ]
          },
          "metadata": {
            "tags": []
          }
        },
        {
          "output_type": "stream",
          "text": [
            "\n",
            "\n",
            "\n",
            "Self - reconstruction\n"
          ],
          "name": "stdout"
        },
        {
          "output_type": "display_data",
          "data": {
            "image/png": "[encoded data removed]",
            "text/plain": [
              "<Figure size 5040x5040 with 4 Axes>"
            ]
          },
          "metadata": {
            "tags": []
          }
        },
        {
          "output_type": "stream",
          "text": [
            "Cross - reconstruction\n"
          ],
          "name": "stdout"
        },
        {
          "output_type": "display_data",
          "data": {
            "image/png": "[encoded data removed]",
            "text/plain": [
              "<Figure size 5040x5040 with 4 Axes>"
            ]
          },
          "metadata": {
            "tags": []
          }
        },
        {
          "output_type": "stream",
          "text": [
            "\n",
            "\n",
            "\n",
            "Self - reconstruction\n"
          ],
          "name": "stdout"
        },
        {
          "output_type": "display_data",
          "data": {
            "image/png": "[encoded data removed]",
            "text/plain": [
              "<Figure size 5040x5040 with 4 Axes>"
            ]
          },
          "metadata": {
            "tags": []
          }
        },
        {
          "output_type": "stream",
          "text": [
            "Cross - reconstruction\n"
          ],
          "name": "stdout"
        },
        {
          "output_type": "display_data",
          "data": {
            "image/png": "[encoded data removed]",
            "text/plain": [
              "<Figure size 5040x5040 with 4 Axes>"
            ]
          },
          "metadata": {
            "tags": []
          }
        },
        {
          "output_type": "stream",
          "text": [
            "\n",
            "\n",
            "\n"
          ],
          "name": "stdout"
        }
      ]
    }
  ]
}