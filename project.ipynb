{
  "nbformat": 4,
  "nbformat_minor": 0,
  "metadata": {
    "colab": {
      "name": "project.ipynb",
      "provenance": [],
      "collapsed_sections": [],
      "include_colab_link": true
    },
    "kernelspec": {
      "name": "python3",
      "display_name": "Python 3"
    },
    "language_info": {
      "name": "python"
    },
    "accelerator": "GPU"
  },
  "cells": [
    {
      "cell_type": "markdown",
      "metadata": {
        "id": "view-in-github",
        "colab_type": "text"
      },
      "source": [
        "<a href=\"https://colab.research.google.com/github/AkshayViru/CorrMCNN/blob/main/project.ipynb\" target=\"_parent\"><img src=\"https://colab.research.google.com/assets/colab-badge.svg\" alt=\"Open In Colab\"/></a>"
      ]
    },
    {
      "cell_type": "code",
      "metadata": {
        "id": "5nnPUqU7g56q"
      },
      "source": [
        "import sys\n",
        "import math\n",
        "import random\n",
        "import warnings\n",
        "import numpy as np\n",
        "from sklearn import svm\n",
        "import keras.backend as K\n",
        "from keras.models import Model\n",
        "from theano import tensor as T\n",
        "import matplotlib.pyplot as plt\n",
        "from keras.datasets import mnist\n",
        "from keras.layers import Input, Add\n",
        "from keras.engine.topology import Layer\n",
        "from sklearn.metrics import accuracy_score\n",
        "from keras.layers.core import  Activation, Dense, Reshape\n",
        "from keras.layers import Conv2D, MaxPooling2D, UpSampling2D, Flatten, Conv2DTranspose"
      ],
      "execution_count": 1,
      "outputs": []
    },
    {
      "cell_type": "code",
      "metadata": {
        "id": "ZY9SHPG4g8h4"
      },
      "source": [
        "warnings.simplefilter(\"ignore\")\n",
        "\n",
        "HIDDEN_DIM_1 = 500\n",
        "HIDDEN_DIM_2 = 300\n",
        "HIDDEN_DIM_3 = 50      \n",
        "EPOCHS = 100\n",
        "BATCH_SIZE = 100\n",
        "IMG_DIM = 392         \n",
        "LAMBDA_1 = 0.02\n",
        "LAMBDA_2 = 0.001\n",
        "LAMBDA_3 = 0.05"
      ],
      "execution_count": 2,
      "outputs": []
    },
    {
      "cell_type": "code",
      "metadata": {
        "id": "PSMZrHSVhcmp"
      },
      "source": [
        "class ZeroPadding(Layer):\n",
        "    def __init__(self, **kwargs):\n",
        "        super(ZeroPadding, self).__init__(**kwargs)\n",
        "\n",
        "    def call(self, x, mask=None):\n",
        "        return K.zeros_like(x)\n",
        "\n",
        "    def get_output_shape_for(self, input_shape):\n",
        "        return input_shape"
      ],
      "execution_count": 4,
      "outputs": []
    },
    {
      "cell_type": "code",
      "metadata": {
        "id": "HJlQ6D5YXv7b"
      },
      "source": [
        "# Custom layer for finding MSE in L4 and L5 losses\n",
        "class MSE_Loss_Calculator(Layer):\n",
        "    def __init__(self, **kwargs):\n",
        "        super(MSE_Loss_Calculator, self).__init__(**kwargs)\n",
        "\n",
        "    def call(self, x, mask=None):\n",
        "        return K.mean(K.square(x[0] - x[1]), axis=-1)\n",
        "\n",
        "    def get_output_shape_for(self, input_shape):\n",
        "        return (input_shape[0][0],input_shape[0][1])"
      ],
      "execution_count": 5,
      "outputs": []
    },
    {
      "cell_type": "code",
      "metadata": {
        "id": "sFKcrnchha1U"
      },
      "source": [
        "# Custom layer for finding Correlation loss in L6 and L7 losses\n",
        "class Correlation_Loss_Calculator(Layer):\n",
        "    def __init__(self, LAMBDA, **kwargs):\n",
        "        super(Correlation_Loss_Calculator, self).__init__(**kwargs)\n",
        "        self.LAMBDA = LAMBDA\n",
        "\n",
        "    def call(self, x, y, mask=None):\n",
        "        x_center = x - K.mean(x, axis=0)\n",
        "        y_center = y - K.mean(y, axis=0)\n",
        "        corr_dr = K.sqrt(K.sum(x_center * x_center, axis=0) + 1e-8) * K.sqrt(K.sum(y_center * y_center, axis=0) + 1e-8)\n",
        "        return K.sum((K.sum(x_center * y_center, axis=0)) / corr_dr) * self.LAMBDA\n",
        "\n",
        "    def get_output_shape_for(self, input_shape):\n",
        "        return (input_shape[0][0],input_shape[0][1])"
      ],
      "execution_count": 6,
      "outputs": []
    },
    {
      "cell_type": "code",
      "metadata": {
        "id": "3qAzkEyrXa5L"
      },
      "source": [
        "# dummy loss functions -> actual loss is calculated using MSE_Loss_Calculator and Correlation_Loss_Calculator above\n",
        "\n",
        "def mse_loss(y_true, y_pred):\n",
        "    return y_pred\n",
        "\n",
        "def corr_loss(y_true, y_pred):\n",
        "    return y_pred"
      ],
      "execution_count": 7,
      "outputs": []
    },
    {
      "cell_type": "code",
      "metadata": {
        "id": "Do1nZdg8hPb_"
      },
      "source": [
        "def encode(x):\n",
        "\n",
        "    x = Reshape((28,14,1))(x)\n",
        "    x = Conv2D(128, (3, 3), activation='relu', padding='same')(x)\n",
        "    x = MaxPooling2D((2, 2), padding='same')(x)\n",
        "    x = Conv2D(64, (3, 3), activation='relu', padding='same')(x)\n",
        "    x = MaxPooling2D((2, 2), padding='same')(x)\n",
        "    x = Conv2D(49, (3, 3), activation='relu', padding='same')(x)\n",
        "    x = MaxPooling2D((2, 2), padding='same')(x)\n",
        "    x = Flatten()(x)\n",
        "\n",
        "    hidden_out_1 = Dense(HIDDEN_DIM_1,activation='sigmoid')(x)\n",
        "    hidden_out_2 = Dense(HIDDEN_DIM_2, activation='sigmoid')(hidden_out_1)\n",
        "    out = Dense(HIDDEN_DIM_3, activation='sigmoid')(hidden_out_2)\n",
        "\n",
        "    return hidden_out_1, hidden_out_2, out\n",
        "\n",
        "def decode(x):\n",
        "\n",
        "    x = Dense(HIDDEN_DIM_2,activation='sigmoid')(x)\n",
        "    x = Dense(HIDDEN_DIM_1, activation='sigmoid')(x)\n",
        "    x = Dense(IMG_DIM, activation='sigmoid')(x)\n",
        "\n",
        "    x = Reshape((4, 2, 49))(x)\n",
        "    x = UpSampling2D((2, 2))(x)\n",
        "    x = Conv2D(64, (2, 1), activation='relu')(x)\n",
        "    x = UpSampling2D((2, 2))(x)\n",
        "    x = Conv2D(128, (1, 2), activation='relu')(x)\n",
        "    x = UpSampling2D((2, 2))(x)\n",
        "    x = Conv2D(392, (3, 3), activation='relu', padding='same')(x)\n",
        "    x = Conv2D(1, (3, 3), activation='relu', padding='same')(x)\n",
        "    x = Reshape((IMG_DIM,))(x)\n",
        "\n",
        "    return x\n",
        "\n",
        "def get_model():\n",
        "    \n",
        "    # Notations Used:\n",
        "    # 1 = 1st hidden layer, 2 = 2nd hidden layer \n",
        "    # a = first view, b = second view\n",
        "\n",
        "    inpx = Input(shape=(IMG_DIM,))\n",
        "    inpy = Input(shape=(IMG_DIM,))\n",
        "\n",
        "    # Encoding part\n",
        "    # For first view\n",
        "    hidden_out_1a, hidden_out_2a, out_a = encode(inpx)\n",
        "    \n",
        "    # For second view\n",
        "    hidden_out_1b, hidden_out_2b, out_b = encode(inpy)\n",
        "\n",
        "    # Joint common representation\n",
        "    combined_out =  Add()([out_a, out_b]) \n",
        "    \n",
        "    # Decoding\n",
        "    rec_a = decode(combined_out)\n",
        "    rec_b = decode(combined_out)   \n",
        "    \n",
        "    # Model after the encoding stage\n",
        "    intermediate_model = Model([inpx,inpy],[rec_a, rec_b, combined_out, hidden_out_1a, hidden_out_1b, hidden_out_2a, hidden_out_2b])\n",
        "\n",
        "    # for left view of image (x_i in paper)\n",
        "    [rec_xa,rec_xb,hX,hx_1a,hx_1b,hx_2a,hx_2b] = intermediate_model([inpx, ZeroPadding()(inpy)])\n",
        "    [rec_ya,rec_yb,hY,hy_1a,hy_1b,hy_2a,hy_2b] = intermediate_model([ZeroPadding()(inpx), inpy ])\n",
        "    [rec_za,rec_zb,hZ,hz_1a,hz_1b,hz_2a,hz_2b] = intermediate_model([inpx, inpy])\n",
        "    \n",
        "    l4_loss_1a = MSE_Loss_Calculator()([hx_1a, hy_1a])\n",
        "    l4_loss_1b = MSE_Loss_Calculator()([hx_1b, hy_1b])\n",
        "    l4_loss_2a = MSE_Loss_Calculator()([hx_2a, hy_2a])\n",
        "    l4_loss_2b = MSE_Loss_Calculator()([hx_2b, hy_2b])\n",
        "\n",
        "    l5_loss_a = MSE_Loss_Calculator()([rec_xa, rec_ya])\n",
        "    l5_loss_b = MSE_Loss_Calculator()([rec_xb, rec_yb])\n",
        "\n",
        "    l6_loss = Correlation_Loss_Calculator(-LAMBDA_1)(hX,hY)\n",
        "\n",
        "    l7_loss_1 = Correlation_Loss_Calculator(-LAMBDA_2)(hz_1a,hz_1b)\n",
        "    l7_loss_2 = Correlation_Loss_Calculator(-LAMBDA_3)(hz_2a,hz_2b)\n",
        "\n",
        "    # rec_za, rec_zb -> take L1 loss of these\n",
        "    # rec_xa, rec_xb -> take L2 loss of these\n",
        "    # rec_ya, rec_yb -> take L3 loss of these\n",
        "    model = Model([inpx,inpy],[rec_za, rec_zb, rec_xa, rec_xb, rec_ya, rec_yb, l4_loss_1a, l4_loss_1b, l4_loss_2a, l4_loss_2b, l5_loss_a, l5_loss_b, l6_loss, l7_loss_1, l7_loss_2])\n",
        "    model.compile(loss=[\"mse\",\"mse\",\"mse\",\"mse\",\"mse\",\"mse\",mse_loss,mse_loss,mse_loss,mse_loss,mse_loss,mse_loss,corr_loss,corr_loss,corr_loss], optimizer=\"adam\")\n",
        "    \n",
        "    return model, intermediate_model"
      ],
      "execution_count": 30,
      "outputs": []
    },
    {
      "cell_type": "code",
      "metadata": {
        "id": "QPWHkF9Lf_Hn"
      },
      "source": [
        "def get_data():\n",
        "    (x_train, y_train), (x_test, y_test) = mnist.load_data()\n",
        "    X_train_l = x_train[:, :, :14]\n",
        "    X_train_r = x_train[:, :, 14:]\n",
        "    X_test_l = x_test[:, :, :14]\n",
        "    X_test_r = x_test[:, :, 14:]\n",
        "    \n",
        "    return X_train_l, X_train_r, y_train, X_test_l, X_test_r, y_test"
      ],
      "execution_count": 9,
      "outputs": []
    },
    {
      "cell_type": "code",
      "metadata": {
        "id": "m2vyCnyNkvhY"
      },
      "source": [
        "def visualize(left_view, right_view, y_train):\n",
        "\n",
        "  for i in range(4):\n",
        "    plt.subplot(1, 2, 1)\n",
        "    left = left_view[i]\n",
        "    pixels = np.array(left, dtype='uint8')\n",
        "    pixels = pixels.reshape((28, 14))\n",
        "    plt.title('Label is {label}'.format(label=y_train[i]))\n",
        "    plt.imshow(pixels, cmap='gray')\n",
        "\n",
        "    plt.subplot(1, 2, 2)\n",
        "    right = right_view[i]\n",
        "    pixels = np.array(right, dtype='uint8')\n",
        "    pixels = pixels.reshape((28, 14))\n",
        "    plt.title('Label is {label}'.format(label=y_train[i]))\n",
        "    plt.imshow(pixels, cmap='gray')\n",
        "\n",
        "    plt.show()"
      ],
      "execution_count": 10,
      "outputs": []
    },
    {
      "cell_type": "code",
      "metadata": {
        "colab": {
          "base_uri": "https://localhost:8080/",
          "height": 1000
        },
        "id": "0p9JRRfnhJkS",
        "outputId": "20536684-463d-472f-8eea-fda7daafc462"
      },
      "source": [
        "train_left, train_right, y_train, test_left, test_right, y_test = get_data()\n",
        "\n",
        "visualize(train_left, train_right, y_train)"
      ],
      "execution_count": 11,
      "outputs": [
        {
          "output_type": "stream",
          "text": [
            "Downloading data from https://storage.googleapis.com/tensorflow/tf-keras-datasets/mnist.npz\n",
            "11493376/11490434 [==============================] - 0s 0us/step\n"
          ],
          "name": "stdout"
        },
        {
          "output_type": "display_data",
          "data": {
            "image/png": "[encoded data removed]",
            "text/plain": [
              "<Figure size 432x288 with 2 Axes>"
            ]
          },
          "metadata": {
            "tags": [],
            "needs_background": "light"
          }
        },
        {
          "output_type": "display_data",
          "data": {
            "image/png": "[encoded data removed]",
            "text/plain": [
              "<Figure size 432x288 with 2 Axes>"
            ]
          },
          "metadata": {
            "tags": [],
            "needs_background": "light"
          }
        },
        {
          "output_type": "display_data",
          "data": {
            "image/png": "[encoded data removed]",
            "text/plain": [
              "<Figure size 432x288 with 2 Axes>"
            ]
          },
          "metadata": {
            "tags": [],
            "needs_background": "light"
          }
        },
        {
          "output_type": "display_data",
          "data": {
            "image/png": "[encoded data removed]",
            "text/plain": [
              "<Figure size 432x288 with 2 Axes>"
            ]
          },
          "metadata": {
            "tags": [],
            "needs_background": "light"
          }
        }
      ]
    },
    {
      "cell_type": "code",
      "metadata": {
        "id": "7Hrt2VHJsUuV"
      },
      "source": [
        "train_left = train_left.reshape(-1, IMG_DIM)\n",
        "train_right = train_right.reshape(-1, IMG_DIM)\n",
        "\n",
        "test_left = test_left.reshape(-1, IMG_DIM)\n",
        "test_right = test_right.reshape(-1, IMG_DIM)"
      ],
      "execution_count": 12,
      "outputs": []
    },
    {
      "cell_type": "code",
      "metadata": {
        "colab": {
          "base_uri": "https://localhost:8080/"
        },
        "id": "MK46m_TQqr1a",
        "outputId": "170ec578-237f-4016-f141-fade0397ae5c"
      },
      "source": [
        "model, intermediate_model = get_model()\n",
        "\n",
        "print(intermediate_model.summary())"
      ],
      "execution_count": 31,
      "outputs": [
        {
          "output_type": "stream",
          "text": [
            "Model: \"model_2\"\n",
            "__________________________________________________________________________________________________\n",
            "Layer (type)                    Output Shape         Param #     Connected to                     \n",
            "==================================================================================================\n",
            "input_17 (InputLayer)           [(None, 392)]        0                                            \n",
            "__________________________________________________________________________________________________\n",
            "input_18 (InputLayer)           [(None, 392)]        0                                            \n",
            "__________________________________________________________________________________________________\n",
            "reshape_34 (Reshape)            (None, 28, 14, 1)    0           input_17[0][0]                   \n",
            "__________________________________________________________________________________________________\n",
            "reshape_35 (Reshape)            (None, 28, 14, 1)    0           input_18[0][0]                   \n",
            "__________________________________________________________________________________________________\n",
            "conv2d_77 (Conv2D)              (None, 28, 14, 128)  1280        reshape_34[0][0]                 \n",
            "__________________________________________________________________________________________________\n",
            "conv2d_80 (Conv2D)              (None, 28, 14, 128)  1280        reshape_35[0][0]                 \n",
            "__________________________________________________________________________________________________\n",
            "max_pooling2d_48 (MaxPooling2D) (None, 14, 7, 128)   0           conv2d_77[0][0]                  \n",
            "__________________________________________________________________________________________________\n",
            "max_pooling2d_51 (MaxPooling2D) (None, 14, 7, 128)   0           conv2d_80[0][0]                  \n",
            "__________________________________________________________________________________________________\n",
            "conv2d_78 (Conv2D)              (None, 14, 7, 64)    73792       max_pooling2d_48[0][0]           \n",
            "__________________________________________________________________________________________________\n",
            "conv2d_81 (Conv2D)              (None, 14, 7, 64)    73792       max_pooling2d_51[0][0]           \n",
            "__________________________________________________________________________________________________\n",
            "max_pooling2d_49 (MaxPooling2D) (None, 7, 4, 64)     0           conv2d_78[0][0]                  \n",
            "__________________________________________________________________________________________________\n",
            "max_pooling2d_52 (MaxPooling2D) (None, 7, 4, 64)     0           conv2d_81[0][0]                  \n",
            "__________________________________________________________________________________________________\n",
            "conv2d_79 (Conv2D)              (None, 7, 4, 49)     28273       max_pooling2d_49[0][0]           \n",
            "__________________________________________________________________________________________________\n",
            "conv2d_82 (Conv2D)              (None, 7, 4, 49)     28273       max_pooling2d_52[0][0]           \n",
            "__________________________________________________________________________________________________\n",
            "max_pooling2d_50 (MaxPooling2D) (None, 4, 2, 49)     0           conv2d_79[0][0]                  \n",
            "__________________________________________________________________________________________________\n",
            "max_pooling2d_53 (MaxPooling2D) (None, 4, 2, 49)     0           conv2d_82[0][0]                  \n",
            "__________________________________________________________________________________________________\n",
            "flatten_16 (Flatten)            (None, 392)          0           max_pooling2d_50[0][0]           \n",
            "__________________________________________________________________________________________________\n",
            "flatten_17 (Flatten)            (None, 392)          0           max_pooling2d_53[0][0]           \n",
            "__________________________________________________________________________________________________\n",
            "dense_75 (Dense)                (None, 500)          196500      flatten_16[0][0]                 \n",
            "__________________________________________________________________________________________________\n",
            "dense_78 (Dense)                (None, 500)          196500      flatten_17[0][0]                 \n",
            "__________________________________________________________________________________________________\n",
            "dense_76 (Dense)                (None, 300)          150300      dense_75[0][0]                   \n",
            "__________________________________________________________________________________________________\n",
            "dense_79 (Dense)                (None, 300)          150300      dense_78[0][0]                   \n",
            "__________________________________________________________________________________________________\n",
            "dense_77 (Dense)                (None, 50)           15050       dense_76[0][0]                   \n",
            "__________________________________________________________________________________________________\n",
            "dense_80 (Dense)                (None, 50)           15050       dense_79[0][0]                   \n",
            "__________________________________________________________________________________________________\n",
            "add_8 (Add)                     (None, 50)           0           dense_77[0][0]                   \n",
            "                                                                 dense_80[0][0]                   \n",
            "__________________________________________________________________________________________________\n",
            "dense_81 (Dense)                (None, 300)          15300       add_8[0][0]                      \n",
            "__________________________________________________________________________________________________\n",
            "dense_84 (Dense)                (None, 300)          15300       add_8[0][0]                      \n",
            "__________________________________________________________________________________________________\n",
            "dense_82 (Dense)                (None, 500)          150500      dense_81[0][0]                   \n",
            "__________________________________________________________________________________________________\n",
            "dense_85 (Dense)                (None, 500)          150500      dense_84[0][0]                   \n",
            "__________________________________________________________________________________________________\n",
            "dense_83 (Dense)                (None, 392)          196392      dense_82[0][0]                   \n",
            "__________________________________________________________________________________________________\n",
            "dense_86 (Dense)                (None, 392)          196392      dense_85[0][0]                   \n",
            "__________________________________________________________________________________________________\n",
            "reshape_36 (Reshape)            (None, 4, 2, 49)     0           dense_83[0][0]                   \n",
            "__________________________________________________________________________________________________\n",
            "reshape_38 (Reshape)            (None, 4, 2, 49)     0           dense_86[0][0]                   \n",
            "__________________________________________________________________________________________________\n",
            "up_sampling2d_27 (UpSampling2D) (None, 8, 4, 49)     0           reshape_36[0][0]                 \n",
            "__________________________________________________________________________________________________\n",
            "up_sampling2d_30 (UpSampling2D) (None, 8, 4, 49)     0           reshape_38[0][0]                 \n",
            "__________________________________________________________________________________________________\n",
            "conv2d_83 (Conv2D)              (None, 7, 4, 64)     6336        up_sampling2d_27[0][0]           \n",
            "__________________________________________________________________________________________________\n",
            "conv2d_87 (Conv2D)              (None, 7, 4, 64)     6336        up_sampling2d_30[0][0]           \n",
            "__________________________________________________________________________________________________\n",
            "up_sampling2d_28 (UpSampling2D) (None, 14, 8, 64)    0           conv2d_83[0][0]                  \n",
            "__________________________________________________________________________________________________\n",
            "up_sampling2d_31 (UpSampling2D) (None, 14, 8, 64)    0           conv2d_87[0][0]                  \n",
            "__________________________________________________________________________________________________\n",
            "conv2d_84 (Conv2D)              (None, 14, 7, 128)   16512       up_sampling2d_28[0][0]           \n",
            "__________________________________________________________________________________________________\n",
            "conv2d_88 (Conv2D)              (None, 14, 7, 128)   16512       up_sampling2d_31[0][0]           \n",
            "__________________________________________________________________________________________________\n",
            "up_sampling2d_29 (UpSampling2D) (None, 28, 14, 128)  0           conv2d_84[0][0]                  \n",
            "__________________________________________________________________________________________________\n",
            "up_sampling2d_32 (UpSampling2D) (None, 28, 14, 128)  0           conv2d_88[0][0]                  \n",
            "__________________________________________________________________________________________________\n",
            "conv2d_85 (Conv2D)              (None, 28, 14, 392)  451976      up_sampling2d_29[0][0]           \n",
            "__________________________________________________________________________________________________\n",
            "conv2d_89 (Conv2D)              (None, 28, 14, 392)  451976      up_sampling2d_32[0][0]           \n",
            "__________________________________________________________________________________________________\n",
            "conv2d_86 (Conv2D)              (None, 28, 14, 1)    3529        conv2d_85[0][0]                  \n",
            "__________________________________________________________________________________________________\n",
            "conv2d_90 (Conv2D)              (None, 28, 14, 1)    3529        conv2d_89[0][0]                  \n",
            "__________________________________________________________________________________________________\n",
            "reshape_37 (Reshape)            (None, 392)          0           conv2d_86[0][0]                  \n",
            "__________________________________________________________________________________________________\n",
            "reshape_39 (Reshape)            (None, 392)          0           conv2d_90[0][0]                  \n",
            "==================================================================================================\n",
            "Total params: 2,611,480\n",
            "Trainable params: 2,611,480\n",
            "Non-trainable params: 0\n",
            "__________________________________________________________________________________________________\n",
            "None\n"
          ],
          "name": "stdout"
        }
      ]
    },
    {
      "cell_type": "code",
      "metadata": {
        "colab": {
          "base_uri": "https://localhost:8080/"
        },
        "id": "_KEmi8Sc7faL",
        "outputId": "1dcaca61-e3f0-4936-b8ca-e3e022189d44"
      },
      "source": [
        "model.fit([train_left,train_right], [train_left, train_right, \n",
        "                                     train_left, train_right, \n",
        "                                     train_left, train_right,\n",
        "                                     np.zeros((train_left.shape[0],HIDDEN_DIM_1)), np.zeros((train_left.shape[0],HIDDEN_DIM_1)), np.zeros((train_left.shape[0],HIDDEN_DIM_2)), np.zeros((train_left.shape[0],HIDDEN_DIM_2)),\n",
        "              np.zeros((train_left.shape)), np.zeros((train_left.shape)),\n",
        "              np.zeros((train_left.shape[0],HIDDEN_DIM_3)), \n",
        "              np.zeros((train_left.shape[0],HIDDEN_DIM_1)),np.zeros((train_left.shape[0],HIDDEN_DIM_2))],\n",
        "              epochs = EPOCHS, batch_size = BATCH_SIZE, verbose=1)"
      ],
      "execution_count": null,
      "outputs": [
        {
          "output_type": "stream",
          "text": [
            "Epoch 1/100\n",
            "600/600 [==============================] - 221s 357ms/step - loss: 27632.9162 - model_2_loss: 4277.2092 - model_2_1_loss: 4938.2388 - model_2_2_loss: 4277.3017 - model_2_3_loss: 4938.3318 - model_2_4_loss: 4277.4454 - model_2_5_loss: 4938.3017 - mse__loss__calculator_6_loss: 0.1003 - mse__loss__calculator_7_loss: 0.0926 - mse__loss__calculator_8_loss: 0.0140 - mse__loss__calculator_9_loss: 0.0111 - mse__loss__calculator_10_loss: 0.1494 - mse__loss__calculator_11_loss: 0.0301 - correlation__loss__calculator_3_loss: -0.8773 - correlation__loss__calculator_4_loss: -0.0622 - correlation__loss__calculator_5_loss: -13.3690\n",
            "Epoch 2/100\n",
            "600/600 [==============================] - 214s 356ms/step - loss: 23391.0505 - model_2_loss: 3666.6652 - model_2_1_loss: 4054.1584 - model_2_2_loss: 3653.4509 - model_2_3_loss: 4125.6921 - model_2_4_loss: 3717.0881 - model_2_5_loss: 4037.2794 - mse__loss__calculator_6_loss: 0.1675 - mse__loss__calculator_7_loss: 0.1418 - mse__loss__calculator_8_loss: 0.0704 - mse__loss__calculator_9_loss: 0.0682 - mse__loss__calculator_10_loss: 61.5045 - mse__loss__calculator_11_loss: 87.4921 - correlation__loss__calculator_3_loss: -0.7682 - correlation__loss__calculator_4_loss: -0.0153 - correlation__loss__calculator_5_loss: -11.9369\n",
            "Epoch 3/100\n",
            "600/600 [==============================] - 213s 356ms/step - loss: 19982.8795 - model_2_loss: 3024.2964 - model_2_1_loss: 3453.3925 - model_2_2_loss: 2986.6897 - model_2_3_loss: 3591.3114 - model_2_4_loss: 3146.8371 - model_2_5_loss: 3425.9716 - mse__loss__calculator_6_loss: 0.2160 - mse__loss__calculator_7_loss: 0.2168 - mse__loss__calculator_8_loss: 0.1400 - mse__loss__calculator_9_loss: 0.1287 - mse__loss__calculator_10_loss: 180.0920 - mse__loss__calculator_11_loss: 183.4810 - correlation__loss__calculator_3_loss: -0.7658 - correlation__loss__calculator_4_loss: -0.0067 - correlation__loss__calculator_5_loss: -9.1195\n",
            "Epoch 4/100\n",
            "600/600 [==============================] - 214s 356ms/step - loss: 17599.2971 - model_2_loss: 2596.0714 - model_2_1_loss: 3035.3514 - model_2_2_loss: 2514.8349 - model_2_3_loss: 3231.0641 - model_2_4_loss: 2760.1243 - model_2_5_loss: 2964.6833 - mse__loss__calculator_6_loss: 0.1876 - mse__loss__calculator_7_loss: 0.1764 - mse__loss__calculator_8_loss: 0.1208 - mse__loss__calculator_9_loss: 0.1107 - mse__loss__calculator_10_loss: 248.6408 - mse__loss__calculator_11_loss: 256.4377 - correlation__loss__calculator_3_loss: -0.7300 - correlation__loss__calculator_4_loss: -0.0033 - correlation__loss__calculator_5_loss: -7.7711\n",
            "Epoch 5/100\n",
            "600/600 [==============================] - 214s 356ms/step - loss: 16438.7704 - model_2_loss: 2379.1272 - model_2_1_loss: 2811.1789 - model_2_2_loss: 2307.4234 - model_2_3_loss: 3057.0371 - model_2_4_loss: 2580.0301 - model_2_5_loss: 2724.0144 - mse__loss__calculator_6_loss: 0.2110 - mse__loss__calculator_7_loss: 0.1969 - mse__loss__calculator_8_loss: 0.1402 - mse__loss__calculator_9_loss: 0.1319 - mse__loss__calculator_10_loss: 283.6553 - mse__loss__calculator_11_loss: 303.5212 - correlation__loss__calculator_3_loss: -0.7299 - correlation__loss__calculator_4_loss: -0.0026 - correlation__loss__calculator_5_loss: -7.1611\n",
            "Epoch 6/100\n",
            "600/600 [==============================] - 214s 356ms/step - loss: 15476.8983 - model_2_loss: 2195.3434 - model_2_1_loss: 2617.7483 - model_2_2_loss: 2120.2571 - model_2_3_loss: 2909.6725 - model_2_4_loss: 2453.7142 - model_2_5_loss: 2533.1358 - mse__loss__calculator_6_loss: 0.2189 - mse__loss__calculator_7_loss: 0.2083 - mse__loss__calculator_8_loss: 0.1593 - mse__loss__calculator_9_loss: 0.1526 - mse__loss__calculator_10_loss: 315.8700 - mse__loss__calculator_11_loss: 337.8718 - correlation__loss__calculator_3_loss: -0.7307 - correlation__loss__calculator_4_loss: -0.0050 - correlation__loss__calculator_5_loss: -6.7210\n",
            "Epoch 7/100\n",
            "600/600 [==============================] - 214s 356ms/step - loss: 14983.5764 - model_2_loss: 2076.3030 - model_2_1_loss: 2511.9328 - model_2_2_loss: 2016.2920 - model_2_3_loss: 2848.7135 - model_2_4_loss: 2389.6103 - model_2_5_loss: 2429.5894 - mse__loss__calculator_6_loss: 0.2296 - mse__loss__calculator_7_loss: 0.2245 - mse__loss__calculator_8_loss: 0.1759 - mse__loss__calculator_9_loss: 0.1724 - mse__loss__calculator_10_loss: 346.8699 - mse__loss__calculator_11_loss: 370.6241 - correlation__loss__calculator_3_loss: -0.7268 - correlation__loss__calculator_4_loss: -0.0049 - correlation__loss__calculator_5_loss: -6.4259\n",
            "Epoch 8/100\n",
            "600/600 [==============================] - 214s 356ms/step - loss: 14501.3242 - model_2_loss: 1993.2368 - model_2_1_loss: 2392.4590 - model_2_2_loss: 1945.1280 - model_2_3_loss: 2785.3574 - model_2_4_loss: 2324.9555 - model_2_5_loss: 2324.4072 - mse__loss__calculator_6_loss: 0.2306 - mse__loss__calculator_7_loss: 0.2285 - mse__loss__calculator_8_loss: 0.1794 - mse__loss__calculator_9_loss: 0.1866 - mse__loss__calculator_10_loss: 355.6291 - mse__loss__calculator_11_loss: 386.1777 - correlation__loss__calculator_3_loss: -0.7188 - correlation__loss__calculator_4_loss: -0.0040 - correlation__loss__calculator_5_loss: -6.1248\n",
            "Epoch 9/100\n",
            "600/600 [==============================] - 214s 356ms/step - loss: 14109.0711 - model_2_loss: 1924.2216 - model_2_1_loss: 2305.7558 - model_2_2_loss: 1880.8737 - model_2_3_loss: 2730.3664 - model_2_4_loss: 2269.4727 - model_2_5_loss: 2242.7258 - mse__loss__calculator_6_loss: 0.2297 - mse__loss__calculator_7_loss: 0.2173 - mse__loss__calculator_8_loss: 0.1814 - mse__loss__calculator_9_loss: 0.1793 - mse__loss__calculator_10_loss: 360.2276 - mse__loss__calculator_11_loss: 401.2989 - correlation__loss__calculator_3_loss: -0.7021 - correlation__loss__calculator_4_loss: -0.0048 - correlation__loss__calculator_5_loss: -5.9697\n",
            "Epoch 10/100\n",
            "600/600 [==============================] - 214s 357ms/step - loss: 13900.8466 - model_2_loss: 1876.3005 - model_2_1_loss: 2255.2913 - model_2_2_loss: 1837.4444 - model_2_3_loss: 2714.9198 - model_2_4_loss: 2244.2576 - model_2_5_loss: 2193.9533 - mse__loss__calculator_6_loss: 0.2229 - mse__loss__calculator_7_loss: 0.2218 - mse__loss__calculator_8_loss: 0.1837 - mse__loss__calculator_9_loss: 0.1797 - mse__loss__calculator_10_loss: 370.4103 - mse__loss__calculator_11_loss: 413.9598 - correlation__loss__calculator_3_loss: -0.6817 - correlation__loss__calculator_4_loss: -0.0050 - correlation__loss__calculator_5_loss: -5.8084\n",
            "Epoch 11/100\n",
            "600/600 [==============================] - 214s 356ms/step - loss: 13549.4851 - model_2_loss: 1815.0302 - model_2_1_loss: 2170.7224 - model_2_2_loss: 1782.7282 - model_2_3_loss: 2671.7655 - model_2_4_loss: 2197.3921 - model_2_5_loss: 2109.0834 - mse__loss__calculator_6_loss: 0.2231 - mse__loss__calculator_7_loss: 0.2190 - mse__loss__calculator_8_loss: 0.1766 - mse__loss__calculator_9_loss: 0.1741 - mse__loss__calculator_10_loss: 376.5327 - mse__loss__calculator_11_loss: 431.6800 - correlation__loss__calculator_3_loss: -0.6702 - correlation__loss__calculator_4_loss: -0.0028 - correlation__loss__calculator_5_loss: -5.5759\n",
            "Epoch 12/100\n",
            "600/600 [==============================] - 214s 356ms/step - loss: 13234.9252 - model_2_loss: 1721.6039 - model_2_1_loss: 2123.7623 - model_2_2_loss: 1689.0528 - model_2_3_loss: 2644.3655 - model_2_4_loss: 2151.2240 - model_2_5_loss: 2068.2317 - mse__loss__calculator_6_loss: 0.2169 - mse__loss__calculator_7_loss: 0.2219 - mse__loss__calculator_8_loss: 0.1767 - mse__loss__calculator_9_loss: 0.1723 - mse__loss__calculator_10_loss: 402.1404 - mse__loss__calculator_11_loss: 439.7112 - correlation__loss__calculator_3_loss: -0.6572 - correlation__loss__calculator_4_loss: -0.0016 - correlation__loss__calculator_5_loss: -5.2989\n",
            "Epoch 13/100\n",
            "600/600 [==============================] - 214s 356ms/step - loss: 12959.6627 - model_2_loss: 1646.9862 - model_2_1_loss: 2078.2287 - model_2_2_loss: 1617.1432 - model_2_3_loss: 2614.5934 - model_2_4_loss: 2109.2587 - model_2_5_loss: 2027.6330 - mse__loss__calculator_6_loss: 0.2205 - mse__loss__calculator_7_loss: 0.2324 - mse__loss__calculator_8_loss: 0.1834 - mse__loss__calculator_9_loss: 0.1774 - mse__loss__calculator_10_loss: 424.3954 - mse__loss__calculator_11_loss: 446.4365 - correlation__loss__calculator_3_loss: -0.6415 - correlation__loss__calculator_4_loss: -0.0034 - correlation__loss__calculator_5_loss: -5.1784\n",
            "Epoch 14/100\n",
            "600/600 [==============================] - 214s 356ms/step - loss: 12684.9925 - model_2_loss: 1603.4945 - model_2_1_loss: 2001.6228 - model_2_2_loss: 1572.8274 - model_2_3_loss: 2570.3843 - model_2_4_loss: 2087.3612 - model_2_5_loss: 1970.1228 - mse__loss__calculator_6_loss: 0.2172 - mse__loss__calculator_7_loss: 0.2574 - mse__loss__calculator_8_loss: 0.1840 - mse__loss__calculator_9_loss: 0.1851 - mse__loss__calculator_10_loss: 426.2883 - mse__loss__calculator_11_loss: 457.7467 - correlation__loss__calculator_3_loss: -0.6282 - correlation__loss__calculator_4_loss: -0.0030 - correlation__loss__calculator_5_loss: -5.0699\n",
            "Epoch 15/100\n",
            "600/600 [==============================] - 214s 356ms/step - loss: 12426.8531 - model_2_loss: 1549.6638 - model_2_1_loss: 1928.1845 - model_2_2_loss: 1522.8210 - model_2_3_loss: 2550.2245 - model_2_4_loss: 2051.5753 - model_2_5_loss: 1908.9217 - mse__loss__calculator_6_loss: 0.2236 - mse__loss__calculator_7_loss: 0.2771 - mse__loss__calculator_8_loss: 0.1812 - mse__loss__calculator_9_loss: 0.1908 - mse__loss__calculator_10_loss: 434.7424 - mse__loss__calculator_11_loss: 485.4224 - correlation__loss__calculator_3_loss: -0.6123 - correlation__loss__calculator_4_loss: -0.0012 - correlation__loss__calculator_5_loss: -4.9633\n",
            "Epoch 16/100\n",
            "600/600 [==============================] - 214s 357ms/step - loss: 12265.0170 - model_2_loss: 1511.0360 - model_2_1_loss: 1860.0483 - model_2_2_loss: 1494.0275 - model_2_3_loss: 2523.4043 - model_2_4_loss: 2048.1370 - model_2_5_loss: 1859.3057 - mse__loss__calculator_6_loss: 0.2251 - mse__loss__calculator_7_loss: 0.2813 - mse__loss__calculator_8_loss: 0.1840 - mse__loss__calculator_9_loss: 0.1938 - mse__loss__calculator_10_loss: 457.2920 - mse__loss__calculator_11_loss: 516.3075 - correlation__loss__calculator_3_loss: -0.5991 - correlation__loss__calculator_4_loss: -0.0023 - correlation__loss__calculator_5_loss: -4.8193\n",
            "Epoch 17/100\n",
            "600/600 [==============================] - 214s 356ms/step - loss: 11992.2856 - model_2_loss: 1458.9138 - model_2_1_loss: 1780.3943 - model_2_2_loss: 1448.8423 - model_2_3_loss: 2484.4403 - model_2_4_loss: 2025.8699 - model_2_5_loss: 1798.3744 - mse__loss__calculator_6_loss: 0.2295 - mse__loss__calculator_7_loss: 0.2661 - mse__loss__calculator_8_loss: 0.1861 - mse__loss__calculator_9_loss: 0.1938 - mse__loss__calculator_10_loss: 470.9704 - mse__loss__calculator_11_loss: 529.0307 - correlation__loss__calculator_3_loss: -0.5935 - correlation__loss__calculator_4_loss: -0.0019 - correlation__loss__calculator_5_loss: -4.8317\n",
            "Epoch 18/100\n",
            "600/600 [==============================] - 214s 356ms/step - loss: 11753.6562 - model_2_loss: 1413.4846 - model_2_1_loss: 1720.7108 - model_2_2_loss: 1409.3219 - model_2_3_loss: 2454.5602 - model_2_4_loss: 1998.5479 - model_2_5_loss: 1756.8903 - mse__loss__calculator_6_loss: 0.2297 - mse__loss__calculator_7_loss: 0.2911 - mse__loss__calculator_8_loss: 0.1897 - mse__loss__calculator_9_loss: 0.1968 - mse__loss__calculator_10_loss: 474.6813 - mse__loss__calculator_11_loss: 529.8693 - correlation__loss__calculator_3_loss: -0.5838 - correlation__loss__calculator_4_loss: -0.0024 - correlation__loss__calculator_5_loss: -4.7342\n",
            "Epoch 19/100\n",
            "242/600 [===========>..................] - ETA: 2:07 - loss: 11719.9578 - model_2_loss: 1400.6070 - model_2_1_loss: 1687.4380 - model_2_2_loss: 1410.8968 - model_2_3_loss: 2463.4749 - model_2_4_loss: 1996.8175 - model_2_5_loss: 1743.0590 - mse__loss__calculator_6_loss: 0.2241 - mse__loss__calculator_7_loss: 0.2947 - mse__loss__calculator_8_loss: 0.1894 - mse__loss__calculator_9_loss: 0.1996 - mse__loss__calculator_10_loss: 481.5443 - mse__loss__calculator_11_loss: 540.4936 - correlation__loss__calculator_3_loss: -0.5765 - correlation__loss__calculator_4_loss: -0.0025 - correlation__loss__calculator_5_loss: -4.7032"
          ],
          "name": "stdout"
        }
      ]
    },
    {
      "cell_type": "code",
      "metadata": {
        "id": "DzQId0Zppbh_"
      },
      "source": [
        "def test(direction, model, inp, idx):\n",
        "    given = inp.reshape((28,14))\n",
        "    f, axarr = plt.subplots(1,2,sharey=False)\n",
        "    \n",
        "    plt.title(y_test[idx])\n",
        "\n",
        "    if(direction == 'left'):\n",
        "      pred = model.predict([inp,np.zeros_like(inp)])\n",
        "      axarr[0].imshow(given)\n",
        "      axarr[1].imshow(pred[0].reshape((28,14)))\n",
        "\n",
        "    else:\n",
        "      pred = model.predict([np.zeros_like(inp),inp])\n",
        "      axarr[1].imshow(given)\n",
        "      axarr[0].imshow(pred[1].reshape((28,14)))"
      ],
      "execution_count": null,
      "outputs": []
    },
    {
      "cell_type": "code",
      "metadata": {
        "id": "MiZ8-dvMp6ll"
      },
      "source": [
        "print('Left to Right testing')\n",
        "for i in range(10):\n",
        "  test('left', model, test_left[i:i+1], i)"
      ],
      "execution_count": null,
      "outputs": []
    },
    {
      "cell_type": "code",
      "metadata": {
        "id": "9YKFIDXvtihA"
      },
      "source": [
        "print('Right to Left testing')\n",
        "for i in range(10):\n",
        "  test('right', model, test_right[i:i+1], i)"
      ],
      "execution_count": null,
      "outputs": []
    }
  ]
}