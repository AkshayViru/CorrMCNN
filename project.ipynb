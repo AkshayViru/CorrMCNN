{
  "nbformat": 4,
  "nbformat_minor": 0,
  "metadata": {
    "colab": {
      "name": "project.ipynb",
      "provenance": [],
      "collapsed_sections": []
    },
    "kernelspec": {
      "name": "python3",
      "display_name": "Python 3"
    },
    "language_info": {
      "name": "python"
    },
    "accelerator": "GPU"
  },
  "cells": [
    {
      "cell_type": "code",
      "metadata": {
        "id": "5nnPUqU7g56q"
      },
      "source": [
        "import sys\n",
        "import math\n",
        "import random\n",
        "import warnings\n",
        "import numpy as np\n",
        "from sklearn import svm\n",
        "import keras.backend as K\n",
        "from keras.models import Model\n",
        "from theano import tensor as T\n",
        "import matplotlib.pyplot as plt\n",
        "from keras.datasets import mnist\n",
        "from keras.layers import Input, Add\n",
        "from keras.engine.topology import Layer\n",
        "from sklearn.metrics import accuracy_score\n",
        "from keras.layers.core import  Activation, Dense, Reshape\n",
        "from keras.layers import Conv2D, MaxPooling2D, UpSampling2D, Flatten"
      ],
      "execution_count": null,
      "outputs": []
    },
    {
      "cell_type": "code",
      "metadata": {
        "id": "ZY9SHPG4g8h4"
      },
      "source": [
        "warnings.simplefilter(\"ignore\")\n",
        "\n",
        "HIDDEN_DIM_1 = 500\n",
        "HIDDEN_DIM_2 = 300\n",
        "HIDDEN_DIM_3 = 50      \n",
        "EPOCHS = 100\n",
        "BATCH_SIZE = 100\n",
        "IMG_DIM = 392         \n",
        "LAMBDA_1 = 0.02\n",
        "LAMBDA_2 = 0.001\n",
        "LAMBDA_3 = 0.05\n",
        "H_LOSS = 50"
      ],
      "execution_count": null,
      "outputs": []
    },
    {
      "cell_type": "code",
      "metadata": {
        "id": "Gd52I3I7hefX"
      },
      "source": [
        "def svm_(train_x, train_y, test_x, test_y):\n",
        "    \n",
        "    clf = svm.LinearSVC()\n",
        "    clf.fit(train_x,train_y)\n",
        "    \n",
        "    pred = clf.predict(test_x)\n",
        "    return accuracy_score(np.ravel(test_y),np.ravel(pred))"
      ],
      "execution_count": null,
      "outputs": []
    },
    {
      "cell_type": "code",
      "metadata": {
        "id": "PSMZrHSVhcmp"
      },
      "source": [
        "class ZeroPadding(Layer):\n",
        "    def __init__(self, **kwargs):\n",
        "        super(ZeroPadding, self).__init__(**kwargs)\n",
        "\n",
        "    def call(self, x, mask=None):\n",
        "        return K.zeros_like(x)\n",
        "\n",
        "    def get_output_shape_for(self, input_shape):\n",
        "        return input_shape"
      ],
      "execution_count": null,
      "outputs": []
    },
    {
      "cell_type": "code",
      "metadata": {
        "id": "sFKcrnchha1U"
      },
      "source": [
        "class CorrnetCost(Layer):\n",
        "    def __init__(self, LAMBDA, **kwargs):\n",
        "        super(CorrnetCost, self).__init__(**kwargs)\n",
        "        self.LAMBDA = LAMBDA\n",
        "\n",
        "    def call(self, x ,mask=None):\n",
        "        y1_centered = x[0] - K.mean(x[0], axis=0)\n",
        "        y2_centered = x[1] - K.mean(x[1], axis=0)\n",
        "        corr_dr = K.sqrt(K.sum(y1_centered * y1_centered, axis=0) + 1e-8) * K.sqrt(K.sum(y2_centered * y2_centered, axis=0) + 1e-8)\n",
        "        return K.sum((K.sum(y1_centered * y2_centered, axis=0)) / corr_dr) * self.LAMBDA\n",
        "\n",
        "    def get_output_shape_for(self, input_shape):\n",
        "        return (input_shape[0][0],input_shape[0][1])\n",
        "\n",
        "def corr_loss(y_true, y_pred):\n",
        "    return y_pred"
      ],
      "execution_count": null,
      "outputs": []
    },
    {
      "cell_type": "code",
      "metadata": {
        "id": "jRhTKm2lhSD5"
      },
      "source": [
        "def test(test_left, test_right, labels):\n",
        "    acc = 0\n",
        "    parts = 5\n",
        "    batches = (len(test_left) // parts)\n",
        "\n",
        "    for i in range(parts):\n",
        "        print(int(i*batches), ' to ', int((i+1)*batches))\n",
        "        \n",
        "        test_x = test_right[int(i*batches):int((i+1)*batches)]\n",
        "        test_y = labels[i*batches:(i+1)*batches]\n",
        "        \n",
        "        train_x = np.concatenate((test_left[0:i*batches],test_left[(i+1)*batches:len(test_left)]))\n",
        "        train_y = np.concatenate((labels[0:i*batches],labels[(i+1)*batches:len(test_left)]))\n",
        "\n",
        "        acc += svm_(train_x, train_y, test_x, test_y)\n",
        "\n",
        "    return(100 * (acc/parts))"
      ],
      "execution_count": null,
      "outputs": []
    },
    {
      "cell_type": "code",
      "metadata": {
        "id": "Do1nZdg8hPb_"
      },
      "source": [
        "def get_model():\n",
        "  \n",
        "    inpx = Input(shape=(IMG_DIM,))\n",
        "    inpy = Input(shape=(IMG_DIM,))\n",
        "\n",
        "    hx = Reshape((28,14,1))(inpx)\n",
        "    hx = Conv2D(128, (3, 3), activation='relu', padding='same')(hx)\n",
        "    hx = MaxPooling2D((2, 2), padding='same')(hx)\n",
        "    hx = Conv2D(64, (3, 3), activation='relu', padding='same')(hx)\n",
        "    hx = MaxPooling2D((2, 2), padding='same')(hx)\n",
        "    hx = Conv2D(49, (3, 3), activation='relu', padding='same')(hx)\n",
        "    hx = MaxPooling2D((2, 2), padding='same')(hx)\n",
        "    hx = Flatten()(hx)\n",
        "    hidden_out_x1 = Dense(HIDDEN_DIM_1,activation='sigmoid')(hx)\n",
        "    hidden_out_x2 = Dense(HIDDEN_DIM_2, activation='sigmoid',name='hid_l1')(hidden_out_x1)\n",
        "    hidden_out_x3 = Dense(HIDDEN_DIM_3, activation='sigmoid',name='hid_l')(hidden_out_x2)\n",
        "\n",
        "    hy = Reshape((28,14,1))(inpy)\n",
        "    hy = Conv2D(128, (3, 3), activation='relu', padding='same')(hy)\n",
        "    hy = MaxPooling2D((2, 2), padding='same')(hy)\n",
        "    hy = Conv2D(64, (3, 3), activation='relu', padding='same')(hy)\n",
        "    hy = MaxPooling2D((2, 2), padding='same')(hy)\n",
        "    hy = Conv2D(49, (3, 3), activation='relu', padding='same')(hy)\n",
        "    hy = MaxPooling2D((2, 2), padding='same')(hy)\n",
        "    hy = Flatten()(hy)\n",
        "    hidden_out_y1 = Dense(HIDDEN_DIM_1, activation='sigmoid')(hy)\n",
        "    hidden_out_y2 = Dense(HIDDEN_DIM_2, activation='sigmoid',name='hid_r1')(hidden_out_y1)\n",
        "    hidden_out_y3 = Dense(HIDDEN_DIM_3, activation='sigmoid',name='hid_r')(hidden_out_y2)\n",
        "\n",
        "    combined_out =  Add()([hidden_out_x3,hidden_out_y3]) \n",
        "    \n",
        "    recx = Dense(IMG_DIM)(combined_out)\n",
        "    recy = Dense(IMG_DIM)(combined_out)\n",
        "    \n",
        "    intermediate_model = Model([inpx,inpy],[recx,recy,combined_out,hidden_out_x1,hidden_out_y1,hidden_out_x2,hidden_out_y2])\n",
        "\n",
        "    [recx1,recy1,h1,_,_,_,_] = intermediate_model([inpx, ZeroPadding()(inpy)])\n",
        "    [recx2,recy2,h2,_,_,_,_] = intermediate_model([ZeroPadding()(inpx), inpy ])\n",
        "    [recx3,recy3,h3,hx_1,hy_1,hx_2,hy_2] = intermediate_model([inpx, inpy])\n",
        "    \n",
        "    corr1 = CorrnetCost(-LAMBDA_1)([h1,h2])\n",
        "    corr2 = CorrnetCost(-LAMBDA_2)([hx_1,hy_1])\n",
        "    corr3 = CorrnetCost(-LAMBDA_3)([hx_2,hy_2])\n",
        "    \n",
        "    model = Model([inpx,inpy],[recy1,recx2,recx1,recy2,corr1,corr2,corr3])\n",
        "    model.compile(loss=[\"mse\",\"mse\",\"mse\",\"mse\",corr_loss,corr_loss,corr_loss],optimizer=\"rmsprop\")\n",
        "\n",
        "    return model, intermediate_model"
      ],
      "execution_count": null,
      "outputs": []
    },
    {
      "cell_type": "code",
      "metadata": {
        "id": "QPWHkF9Lf_Hn"
      },
      "source": [
        "def get_data():\n",
        "    (x_train, y_train), (x_test, y_test) = mnist.load_data()\n",
        "    X_train_l = x_train[:, :, :14]\n",
        "    X_train_r = x_train[:, :, 14:]\n",
        "    X_test_l = x_test[:, :, :14]\n",
        "    X_test_r = x_test[:, :, 14:]\n",
        "    \n",
        "    return X_train_l, X_train_r, y_train, X_test_l, X_test_r, y_test"
      ],
      "execution_count": null,
      "outputs": []
    },
    {
      "cell_type": "code",
      "metadata": {
        "id": "m2vyCnyNkvhY"
      },
      "source": [
        "def visualize(left_view, right_view, y_train):\n",
        "\n",
        "  for i in range(4):\n",
        "    plt.subplot(1, 2, 1)\n",
        "    left = left_view[i]\n",
        "    pixels = np.array(left, dtype='uint8')\n",
        "    pixels = pixels.reshape((28, 14))\n",
        "    plt.title('Label is {label}'.format(label=y_train[i]))\n",
        "    plt.imshow(pixels, cmap='gray')\n",
        "\n",
        "    plt.subplot(1, 2, 2)\n",
        "    right = right_view[i]\n",
        "    pixels = np.array(right, dtype='uint8')\n",
        "    pixels = pixels.reshape((28, 14))\n",
        "    plt.title('Label is {label}'.format(label=y_train[i]))\n",
        "    plt.imshow(pixels, cmap='gray')\n",
        "\n",
        "    plt.show()"
      ],
      "execution_count": null,
      "outputs": []
    },
    {
      "cell_type": "code",
      "metadata": {
        "colab": {
          "base_uri": "https://localhost:8080/",
          "height": 1000
        },
        "id": "0p9JRRfnhJkS",
        "outputId": "66ffa09c-b8f9-4bae-e7e1-d1d0eab5aa30"
      },
      "source": [
        "train_left, train_right, y_train, test_left, test_right, y_test = get_data()\n",
        "\n",
        "visualize(train_left, train_right, y_train)"
      ],
      "execution_count": null,
      "outputs": [
        {
          "output_type": "display_data",
          "data": {
            "image/png": "[encoded data removed]",
            "text/plain": [
              "<Figure size 432x288 with 2 Axes>"
            ]
          },
          "metadata": {
            "tags": [],
            "needs_background": "light"
          }
        },
        {
          "output_type": "display_data",
          "data": {
            "image/png": "[encoded data removed]",
            "text/plain": [
              "<Figure size 432x288 with 2 Axes>"
            ]
          },
          "metadata": {
            "tags": [],
            "needs_background": "light"
          }
        },
        {
          "output_type": "display_data",
          "data": {
            "image/png": "[encoded data removed]",
            "text/plain": [
              "<Figure size 432x288 with 2 Axes>"
            ]
          },
          "metadata": {
            "tags": [],
            "needs_background": "light"
          }
        },
        {
          "output_type": "display_data",
          "data": {
            "image/png": "[encoded data removed]",
            "text/plain": [
              "<Figure size 432x288 with 2 Axes>"
            ]
          },
          "metadata": {
            "tags": [],
            "needs_background": "light"
          }
        }
      ]
    },
    {
      "cell_type": "code",
      "metadata": {
        "id": "7Hrt2VHJsUuV"
      },
      "source": [
        "train_left = train_left.reshape(-1, IMG_DIM)\n",
        "train_right = train_right.reshape(-1, IMG_DIM)\n",
        "\n",
        "test_left = test_left.reshape(-1, IMG_DIM)\n",
        "test_right = test_right.reshape(-1, IMG_DIM)"
      ],
      "execution_count": null,
      "outputs": []
    },
    {
      "cell_type": "code",
      "metadata": {
        "colab": {
          "base_uri": "https://localhost:8080/"
        },
        "id": "MK46m_TQqr1a",
        "outputId": "89cf1c52-527c-4d1a-f832-08198409731c"
      },
      "source": [
        "model, intermediate_model = get_model()\n",
        "\n",
        "model.fit([train_left,train_right], [train_right,train_left,train_left,train_right,\n",
        "              np.zeros((train_left.shape[0],H_LOSS)), np.zeros((train_left.shape[0],HIDDEN_DIM_1)),np.zeros((train_left.shape[0],HIDDEN_DIM_2))],\n",
        "              epochs = EPOCHS, batch_size = BATCH_SIZE, verbose=1)"
      ],
      "execution_count": null,
      "outputs": [
        {
          "output_type": "stream",
          "text": [
            "Epoch 1/100\n",
            "600/600 [==============================] - 50s 77ms/step - loss: 25663.6892 - model_6_loss: 7100.4780 - model_6_1_loss: 5738.2117 - model_6_2_loss: 5738.2049 - model_6_3_loss: 7100.4746 - corrnet_cost_9_loss: -0.7889 - corrnet_cost_10_loss: -0.0755 - corrnet_cost_11_loss: -12.8167\n",
            "Epoch 2/100\n",
            "600/600 [==============================] - 46s 77ms/step - loss: 18508.1801 - model_6_loss: 5023.8408 - model_6_1_loss: 4243.0031 - model_6_2_loss: 4238.0314 - model_6_3_loss: 5017.7505 - corrnet_cost_9_loss: -0.8029 - corrnet_cost_10_loss: -0.1875 - corrnet_cost_11_loss: -13.4526\n",
            "Epoch 3/100\n",
            "600/600 [==============================] - 46s 77ms/step - loss: 16955.5601 - model_6_loss: 4542.3843 - model_6_1_loss: 3969.0331 - model_6_2_loss: 3944.4619 - model_6_3_loss: 4512.9038 - corrnet_cost_9_loss: -0.7945 - corrnet_cost_10_loss: -0.1769 - corrnet_cost_11_loss: -12.2503\n",
            "Epoch 4/100\n",
            "600/600 [==============================] - 46s 76ms/step - loss: 16728.1304 - model_6_loss: 4474.8036 - model_6_1_loss: 3925.6308 - model_6_2_loss: 3896.7375 - model_6_3_loss: 4444.4929 - corrnet_cost_9_loss: -0.8242 - corrnet_cost_10_loss: -0.1819 - corrnet_cost_11_loss: -12.5246\n",
            "Epoch 5/100\n",
            "600/600 [==============================] - 46s 77ms/step - loss: 16639.3314 - model_6_loss: 4455.7876 - model_6_1_loss: 3898.7822 - model_6_2_loss: 3873.2470 - model_6_3_loss: 4425.2768 - corrnet_cost_9_loss: -0.8384 - corrnet_cost_10_loss: -0.1767 - corrnet_cost_11_loss: -12.7488\n",
            "Epoch 6/100\n",
            "600/600 [==============================] - 46s 77ms/step - loss: 16454.1713 - model_6_loss: 4405.7095 - model_6_1_loss: 3865.0106 - model_6_2_loss: 3837.8736 - model_6_3_loss: 4358.6055 - corrnet_cost_9_loss: -0.7977 - corrnet_cost_10_loss: -0.1580 - corrnet_cost_11_loss: -12.0692\n",
            "Epoch 7/100\n",
            "600/600 [==============================] - 46s 76ms/step - loss: 16115.4337 - model_6_loss: 4299.1408 - model_6_1_loss: 3814.6818 - model_6_2_loss: 3774.3209 - model_6_3_loss: 4239.7824 - corrnet_cost_9_loss: -0.7982 - corrnet_cost_10_loss: -0.1153 - corrnet_cost_11_loss: -11.5769\n",
            "Epoch 8/100\n",
            "600/600 [==============================] - 46s 77ms/step - loss: 15918.9315 - model_6_loss: 4246.7206 - model_6_1_loss: 3777.6439 - model_6_2_loss: 3734.2281 - model_6_3_loss: 4172.1075 - corrnet_cost_9_loss: -0.7660 - corrnet_cost_10_loss: -0.0989 - corrnet_cost_11_loss: -10.9039\n",
            "Epoch 9/100\n",
            "600/600 [==============================] - 46s 77ms/step - loss: 15675.4010 - model_6_loss: 4182.1818 - model_6_1_loss: 3726.6455 - model_6_2_loss: 3672.3423 - model_6_3_loss: 4106.1883 - corrnet_cost_9_loss: -0.8077 - corrnet_cost_10_loss: -0.0977 - corrnet_cost_11_loss: -11.0510\n",
            "Epoch 10/100\n",
            "600/600 [==============================] - 46s 77ms/step - loss: 15434.7507 - model_6_loss: 4125.6730 - model_6_1_loss: 3668.1047 - model_6_2_loss: 3607.9198 - model_6_3_loss: 4045.3744 - corrnet_cost_9_loss: -0.8179 - corrnet_cost_10_loss: -0.0875 - corrnet_cost_11_loss: -11.4109\n",
            "Epoch 11/100\n",
            "600/600 [==============================] - 46s 77ms/step - loss: 15212.5929 - model_6_loss: 4073.4407 - model_6_1_loss: 3614.5517 - model_6_2_loss: 3549.2455 - model_6_3_loss: 3987.7854 - corrnet_cost_9_loss: -0.8231 - corrnet_cost_10_loss: -0.0816 - corrnet_cost_11_loss: -11.5192\n",
            "Epoch 12/100\n",
            "600/600 [==============================] - 46s 77ms/step - loss: 15011.9538 - model_6_loss: 4027.5822 - model_6_1_loss: 3566.7035 - model_6_2_loss: 3494.6028 - model_6_3_loss: 3935.5344 - corrnet_cost_9_loss: -0.8262 - corrnet_cost_10_loss: -0.0740 - corrnet_cost_11_loss: -11.5743\n",
            "Epoch 13/100\n",
            "600/600 [==============================] - 46s 77ms/step - loss: 14839.2992 - model_6_loss: 3987.5673 - model_6_1_loss: 3527.1600 - model_6_2_loss: 3448.2296 - model_6_3_loss: 3888.7032 - corrnet_cost_9_loss: -0.8269 - corrnet_cost_10_loss: -0.0689 - corrnet_cost_11_loss: -11.4670\n",
            "Epoch 14/100\n",
            "600/600 [==============================] - 46s 77ms/step - loss: 14704.6649 - model_6_loss: 3962.3872 - model_6_1_loss: 3490.9195 - model_6_2_loss: 3407.4284 - model_6_3_loss: 3856.1313 - corrnet_cost_9_loss: -0.8257 - corrnet_cost_10_loss: -0.0622 - corrnet_cost_11_loss: -11.3134\n",
            "Epoch 15/100\n",
            "600/600 [==============================] - 46s 77ms/step - loss: 14542.4170 - model_6_loss: 3923.8435 - model_6_1_loss: 3455.0889 - model_6_2_loss: 3365.7904 - model_6_3_loss: 3809.5364 - corrnet_cost_9_loss: -0.8252 - corrnet_cost_10_loss: -0.0605 - corrnet_cost_11_loss: -10.9584\n",
            "Epoch 16/100\n",
            "600/600 [==============================] - 46s 77ms/step - loss: 14310.4048 - model_6_loss: 3871.8092 - model_6_1_loss: 3399.7580 - model_6_2_loss: 3301.0165 - model_6_3_loss: 3749.4483 - corrnet_cost_9_loss: -0.8275 - corrnet_cost_10_loss: -0.0575 - corrnet_cost_11_loss: -10.7469\n",
            "Epoch 17/100\n",
            "600/600 [==============================] - 46s 77ms/step - loss: 14130.7439 - model_6_loss: 3828.6571 - model_6_1_loss: 3356.4745 - model_6_2_loss: 3253.2750 - model_6_3_loss: 3703.8687 - corrnet_cost_9_loss: -0.8304 - corrnet_cost_10_loss: -0.0540 - corrnet_cost_11_loss: -10.6533\n",
            "Epoch 18/100\n",
            "600/600 [==============================] - 46s 77ms/step - loss: 13944.0763 - model_6_loss: 3781.9267 - model_6_1_loss: 3316.6662 - model_6_2_loss: 3206.0252 - model_6_3_loss: 3650.9715 - corrnet_cost_9_loss: -0.8302 - corrnet_cost_10_loss: -0.0515 - corrnet_cost_11_loss: -10.6358\n",
            "Epoch 19/100\n",
            "600/600 [==============================] - 46s 77ms/step - loss: 13758.3169 - model_6_loss: 3741.6401 - model_6_1_loss: 3270.9281 - model_6_2_loss: 3153.2899 - model_6_3_loss: 3603.9411 - corrnet_cost_9_loss: -0.8304 - corrnet_cost_10_loss: -0.0486 - corrnet_cost_11_loss: -10.6020\n",
            "Epoch 20/100\n",
            "600/600 [==============================] - 46s 77ms/step - loss: 13566.2803 - model_6_loss: 3694.6949 - model_6_1_loss: 3228.0271 - model_6_2_loss: 3104.4182 - model_6_3_loss: 3550.5244 - corrnet_cost_9_loss: -0.8300 - corrnet_cost_10_loss: -0.0436 - corrnet_cost_11_loss: -10.5083\n",
            "Epoch 21/100\n",
            "600/600 [==============================] - 46s 77ms/step - loss: 13368.1003 - model_6_loss: 3642.5338 - model_6_1_loss: 3187.0730 - model_6_2_loss: 3056.9997 - model_6_3_loss: 3492.7725 - corrnet_cost_9_loss: -0.8309 - corrnet_cost_10_loss: -0.0426 - corrnet_cost_11_loss: -10.4089\n",
            "Epoch 22/100\n",
            "600/600 [==============================] - 47s 78ms/step - loss: 13247.3704 - model_6_loss: 3615.1836 - model_6_1_loss: 3163.2796 - model_6_2_loss: 3023.1173 - model_6_3_loss: 3456.9343 - corrnet_cost_9_loss: -0.8287 - corrnet_cost_10_loss: -0.0380 - corrnet_cost_11_loss: -10.2793\n",
            "Epoch 23/100\n",
            "600/600 [==============================] - 46s 77ms/step - loss: 13065.9710 - model_6_loss: 3578.3865 - model_6_1_loss: 3116.5211 - model_6_2_loss: 2970.3527 - model_6_3_loss: 3411.6978 - corrnet_cost_9_loss: -0.8279 - corrnet_cost_10_loss: -0.0379 - corrnet_cost_11_loss: -10.1207\n",
            "Epoch 24/100\n",
            "600/600 [==============================] - 46s 77ms/step - loss: 12910.3552 - model_6_loss: 3546.0200 - model_6_1_loss: 3082.5412 - model_6_2_loss: 2925.3064 - model_6_3_loss: 3367.3087 - corrnet_cost_9_loss: -0.8251 - corrnet_cost_10_loss: -0.0346 - corrnet_cost_11_loss: -9.9655\n",
            "Epoch 25/100\n",
            "600/600 [==============================] - 46s 77ms/step - loss: 12817.6129 - model_6_loss: 3524.0898 - model_6_1_loss: 3068.3483 - model_6_2_loss: 2901.5122 - model_6_3_loss: 3334.3296 - corrnet_cost_9_loss: -0.8211 - corrnet_cost_10_loss: -0.0329 - corrnet_cost_11_loss: -9.8110\n",
            "Epoch 26/100\n",
            "600/600 [==============================] - 46s 77ms/step - loss: 12643.0676 - model_6_loss: 3484.3074 - model_6_1_loss: 3025.8882 - model_6_2_loss: 2853.5695 - model_6_3_loss: 3289.8352 - corrnet_cost_9_loss: -0.8208 - corrnet_cost_10_loss: -0.0313 - corrnet_cost_11_loss: -9.6823\n",
            "Epoch 27/100\n",
            "600/600 [==============================] - 46s 77ms/step - loss: 12505.6172 - model_6_loss: 3453.4692 - model_6_1_loss: 2996.3739 - model_6_2_loss: 2816.4755 - model_6_3_loss: 3249.7583 - corrnet_cost_9_loss: -0.8191 - corrnet_cost_10_loss: -0.0330 - corrnet_cost_11_loss: -9.6048\n",
            "Epoch 28/100\n",
            "600/600 [==============================] - 46s 77ms/step - loss: 12362.5093 - model_6_loss: 3424.4480 - model_6_1_loss: 2961.0285 - model_6_2_loss: 2774.5829 - model_6_3_loss: 3212.7685 - corrnet_cost_9_loss: -0.8163 - corrnet_cost_10_loss: -0.0343 - corrnet_cost_11_loss: -9.4711\n",
            "Epoch 29/100\n",
            "600/600 [==============================] - 46s 77ms/step - loss: 12235.9902 - model_6_loss: 3395.4312 - model_6_1_loss: 2938.1727 - model_6_2_loss: 2742.0325 - model_6_3_loss: 3170.5252 - corrnet_cost_9_loss: -0.8134 - corrnet_cost_10_loss: -0.0329 - corrnet_cost_11_loss: -9.3259\n",
            "Epoch 30/100\n",
            "600/600 [==============================] - 46s 77ms/step - loss: 12140.1475 - model_6_loss: 3374.3650 - model_6_1_loss: 2919.1904 - model_6_2_loss: 2712.4465 - model_6_3_loss: 3144.2262 - corrnet_cost_9_loss: -0.8124 - corrnet_cost_10_loss: -0.0322 - corrnet_cost_11_loss: -9.2390\n",
            "Epoch 31/100\n",
            "600/600 [==============================] - 47s 78ms/step - loss: 12024.7174 - model_6_loss: 3346.1534 - model_6_1_loss: 2897.5745 - model_6_2_loss: 2681.8197 - model_6_3_loss: 3109.0732 - corrnet_cost_9_loss: -0.8101 - corrnet_cost_10_loss: -0.0323 - corrnet_cost_11_loss: -9.0613\n",
            "Epoch 32/100\n",
            "600/600 [==============================] - 46s 77ms/step - loss: 11926.6714 - model_6_loss: 3325.4814 - model_6_1_loss: 2880.0389 - model_6_2_loss: 2650.1504 - model_6_3_loss: 3080.7847 - corrnet_cost_9_loss: -0.8084 - corrnet_cost_10_loss: -0.0297 - corrnet_cost_11_loss: -8.9467\n",
            "Epoch 33/100\n",
            "600/600 [==============================] - 46s 77ms/step - loss: 11816.8289 - model_6_loss: 3301.1387 - model_6_1_loss: 2856.1548 - model_6_2_loss: 2622.9359 - model_6_3_loss: 3046.2372 - corrnet_cost_9_loss: -0.8062 - corrnet_cost_10_loss: -0.0276 - corrnet_cost_11_loss: -8.8042\n",
            "Epoch 34/100\n",
            "600/600 [==============================] - 46s 77ms/step - loss: 11715.7533 - model_6_loss: 3278.3662 - model_6_1_loss: 2831.8447 - model_6_2_loss: 2594.5665 - model_6_3_loss: 3020.5399 - corrnet_cost_9_loss: -0.8055 - corrnet_cost_10_loss: -0.0279 - corrnet_cost_11_loss: -8.7276\n",
            "Epoch 35/100\n",
            "600/600 [==============================] - 46s 77ms/step - loss: 11653.1001 - model_6_loss: 3267.0420 - model_6_1_loss: 2823.3251 - model_6_2_loss: 2573.1643 - model_6_3_loss: 2999.0053 - corrnet_cost_9_loss: -0.8029 - corrnet_cost_10_loss: -0.0279 - corrnet_cost_11_loss: -8.6091\n",
            "Epoch 36/100\n",
            "600/600 [==============================] - 46s 77ms/step - loss: 11542.1100 - model_6_loss: 3249.8962 - model_6_1_loss: 2799.4071 - model_6_2_loss: 2534.6038 - model_6_3_loss: 2967.5662 - corrnet_cost_9_loss: -0.7993 - corrnet_cost_10_loss: -0.0295 - corrnet_cost_11_loss: -8.5323\n",
            "Epoch 37/100\n",
            "600/600 [==============================] - 46s 77ms/step - loss: 11438.6542 - model_6_loss: 3218.0768 - model_6_1_loss: 2777.4086 - model_6_2_loss: 2512.6911 - model_6_3_loss: 2939.6769 - corrnet_cost_9_loss: -0.8030 - corrnet_cost_10_loss: -0.0299 - corrnet_cost_11_loss: -8.3667\n",
            "Epoch 38/100\n",
            "600/600 [==============================] - 46s 77ms/step - loss: 11344.4387 - model_6_loss: 3196.2928 - model_6_1_loss: 2753.8793 - model_6_2_loss: 2489.6019 - model_6_3_loss: 2913.8094 - corrnet_cost_9_loss: -0.8020 - corrnet_cost_10_loss: -0.0260 - corrnet_cost_11_loss: -8.3157\n",
            "Epoch 39/100\n",
            "600/600 [==============================] - 46s 77ms/step - loss: 11273.6129 - model_6_loss: 3189.1562 - model_6_1_loss: 2737.0634 - model_6_2_loss: 2464.2531 - model_6_3_loss: 2892.1813 - corrnet_cost_9_loss: -0.7989 - corrnet_cost_10_loss: -0.0260 - corrnet_cost_11_loss: -8.2163\n",
            "Epoch 40/100\n",
            "600/600 [==============================] - 46s 77ms/step - loss: 11194.3982 - model_6_loss: 3167.9940 - model_6_1_loss: 2727.7334 - model_6_2_loss: 2449.4260 - model_6_3_loss: 2858.2127 - corrnet_cost_9_loss: -0.7959 - corrnet_cost_10_loss: -0.0256 - corrnet_cost_11_loss: -8.1479\n",
            "Epoch 41/100\n",
            "600/600 [==============================] - 46s 77ms/step - loss: 11113.8767 - model_6_loss: 3152.6113 - model_6_1_loss: 2704.4843 - model_6_2_loss: 2423.3887 - model_6_3_loss: 2842.2475 - corrnet_cost_9_loss: -0.7972 - corrnet_cost_10_loss: -0.0232 - corrnet_cost_11_loss: -8.0336\n",
            "Epoch 42/100\n",
            "600/600 [==============================] - 46s 77ms/step - loss: 11023.9275 - model_6_loss: 3132.4786 - model_6_1_loss: 2693.2129 - model_6_2_loss: 2397.5190 - model_6_3_loss: 2809.4887 - corrnet_cost_9_loss: -0.7951 - corrnet_cost_10_loss: -0.0249 - corrnet_cost_11_loss: -7.9495\n",
            "Epoch 43/100\n",
            "600/600 [==============================] - 46s 77ms/step - loss: 10929.3390 - model_6_loss: 3111.8198 - model_6_1_loss: 2669.8630 - model_6_2_loss: 2367.6527 - model_6_3_loss: 2788.6842 - corrnet_cost_9_loss: -0.7941 - corrnet_cost_10_loss: -0.0236 - corrnet_cost_11_loss: -7.8629\n",
            "Epoch 44/100\n",
            "600/600 [==============================] - 46s 77ms/step - loss: 10875.3187 - model_6_loss: 3095.8110 - model_6_1_loss: 2664.2518 - model_6_2_loss: 2354.1778 - model_6_3_loss: 2769.6238 - corrnet_cost_9_loss: -0.7926 - corrnet_cost_10_loss: -0.0205 - corrnet_cost_11_loss: -7.7328\n",
            "Epoch 45/100\n",
            "600/600 [==============================] - 46s 77ms/step - loss: 10787.4916 - model_6_loss: 3075.5509 - model_6_1_loss: 2648.3512 - model_6_2_loss: 2335.0328 - model_6_3_loss: 2737.1270 - corrnet_cost_9_loss: -0.7932 - corrnet_cost_10_loss: -0.0227 - corrnet_cost_11_loss: -7.7547\n",
            "Epoch 46/100\n",
            "600/600 [==============================] - 46s 77ms/step - loss: 10717.5307 - model_6_loss: 3063.5657 - model_6_1_loss: 2626.9895 - model_6_2_loss: 2312.7265 - model_6_3_loss: 2722.7787 - corrnet_cost_9_loss: -0.7920 - corrnet_cost_10_loss: -0.0219 - corrnet_cost_11_loss: -7.7178\n",
            "Epoch 47/100\n",
            "600/600 [==============================] - 46s 77ms/step - loss: 10644.4870 - model_6_loss: 3051.9407 - model_6_1_loss: 2612.0200 - model_6_2_loss: 2286.7273 - model_6_3_loss: 2702.2618 - corrnet_cost_9_loss: -0.7915 - corrnet_cost_10_loss: -0.0228 - corrnet_cost_11_loss: -7.6472\n",
            "Epoch 48/100\n",
            "600/600 [==============================] - 46s 77ms/step - loss: 10594.9499 - model_6_loss: 3045.1901 - model_6_1_loss: 2605.5818 - model_6_2_loss: 2269.3478 - model_6_3_loss: 2683.2134 - corrnet_cost_9_loss: -0.7907 - corrnet_cost_10_loss: -0.0234 - corrnet_cost_11_loss: -7.5692\n",
            "Epoch 49/100\n",
            "600/600 [==============================] - 46s 77ms/step - loss: 10499.3029 - model_6_loss: 3021.7171 - model_6_1_loss: 2580.0190 - model_6_2_loss: 2245.3952 - model_6_3_loss: 2660.4241 - corrnet_cost_9_loss: -0.7885 - corrnet_cost_10_loss: -0.0243 - corrnet_cost_11_loss: -7.4366\n",
            "Epoch 50/100\n",
            "600/600 [==============================] - 46s 77ms/step - loss: 10484.4353 - model_6_loss: 3019.2267 - model_6_1_loss: 2582.9832 - model_6_2_loss: 2248.4227 - model_6_3_loss: 2642.0418 - corrnet_cost_9_loss: -0.7833 - corrnet_cost_10_loss: -0.0238 - corrnet_cost_11_loss: -7.4319\n",
            "Epoch 51/100\n",
            "600/600 [==============================] - 46s 77ms/step - loss: 10415.8267 - model_6_loss: 3006.9271 - model_6_1_loss: 2562.9601 - model_6_2_loss: 2222.4595 - model_6_3_loss: 2631.6822 - corrnet_cost_9_loss: -0.7866 - corrnet_cost_10_loss: -0.0255 - corrnet_cost_11_loss: -7.3884\n",
            "Epoch 52/100\n",
            "600/600 [==============================] - 46s 77ms/step - loss: 10318.3275 - model_6_loss: 2978.4886 - model_6_1_loss: 2544.2570 - model_6_2_loss: 2199.2867 - model_6_3_loss: 2604.4157 - corrnet_cost_9_loss: -0.7888 - corrnet_cost_10_loss: -0.0244 - corrnet_cost_11_loss: -7.3088\n",
            "Epoch 53/100\n",
            "600/600 [==============================] - 46s 77ms/step - loss: 10277.1605 - model_6_loss: 2978.2543 - model_6_1_loss: 2541.1684 - model_6_2_loss: 2182.3107 - model_6_3_loss: 2583.5273 - corrnet_cost_9_loss: -0.7832 - corrnet_cost_10_loss: -0.0252 - corrnet_cost_11_loss: -7.2900\n",
            "Epoch 54/100\n",
            "600/600 [==============================] - 46s 77ms/step - loss: 10228.2552 - model_6_loss: 2974.2824 - model_6_1_loss: 2534.2508 - model_6_2_loss: 2161.0891 - model_6_3_loss: 2566.4868 - corrnet_cost_9_loss: -0.7765 - corrnet_cost_10_loss: -0.0246 - corrnet_cost_11_loss: -7.0513\n",
            "Epoch 55/100\n",
            "600/600 [==============================] - 46s 77ms/step - loss: 10190.0210 - model_6_loss: 2965.7349 - model_6_1_loss: 2530.5866 - model_6_2_loss: 2154.1605 - model_6_3_loss: 2547.3996 - corrnet_cost_9_loss: -0.7765 - corrnet_cost_10_loss: -0.0264 - corrnet_cost_11_loss: -7.0615\n",
            "Epoch 56/100\n",
            "600/600 [==============================] - 46s 77ms/step - loss: 10138.3592 - model_6_loss: 2949.5195 - model_6_1_loss: 2513.3911 - model_6_2_loss: 2146.9416 - model_6_3_loss: 2536.3552 - corrnet_cost_9_loss: -0.7812 - corrnet_cost_10_loss: -0.0242 - corrnet_cost_11_loss: -7.0419\n",
            "Epoch 57/100\n",
            "600/600 [==============================] - 46s 77ms/step - loss: 10063.1449 - model_6_loss: 2932.2560 - model_6_1_loss: 2497.6660 - model_6_2_loss: 2121.5178 - model_6_3_loss: 2519.5202 - corrnet_cost_9_loss: -0.7808 - corrnet_cost_10_loss: -0.0239 - corrnet_cost_11_loss: -7.0114\n",
            "Epoch 58/100\n",
            "600/600 [==============================] - 46s 77ms/step - loss: 10009.7213 - model_6_loss: 2918.2801 - model_6_1_loss: 2480.2438 - model_6_2_loss: 2115.1680 - model_6_3_loss: 2503.7168 - corrnet_cost_9_loss: -0.7802 - corrnet_cost_10_loss: -0.0224 - corrnet_cost_11_loss: -6.8850\n",
            "Epoch 59/100\n",
            "600/600 [==============================] - 46s 77ms/step - loss: 9987.8822 - model_6_loss: 2917.4716 - model_6_1_loss: 2485.2892 - model_6_2_loss: 2101.6548 - model_6_3_loss: 2491.1607 - corrnet_cost_9_loss: -0.7762 - corrnet_cost_10_loss: -0.0215 - corrnet_cost_11_loss: -6.8961\n",
            "Epoch 60/100\n",
            "600/600 [==============================] - 46s 77ms/step - loss: 9953.9439 - model_6_loss: 2912.2503 - model_6_1_loss: 2473.7242 - model_6_2_loss: 2095.1530 - model_6_3_loss: 2480.5144 - corrnet_cost_9_loss: -0.7776 - corrnet_cost_10_loss: -0.0242 - corrnet_cost_11_loss: -6.8977\n",
            "Epoch 61/100\n",
            "600/600 [==============================] - 46s 77ms/step - loss: 9885.5781 - model_6_loss: 2897.1928 - model_6_1_loss: 2464.2504 - model_6_2_loss: 2075.2486 - model_6_3_loss: 2456.5786 - corrnet_cost_9_loss: -0.7748 - corrnet_cost_10_loss: -0.0274 - corrnet_cost_11_loss: -6.8860\n",
            "Epoch 62/100\n",
            "600/600 [==============================] - 46s 77ms/step - loss: 9848.6287 - model_6_loss: 2884.3496 - model_6_1_loss: 2463.4324 - model_6_2_loss: 2069.5334 - model_6_3_loss: 2438.8642 - corrnet_cost_9_loss: -0.7709 - corrnet_cost_10_loss: -0.0230 - corrnet_cost_11_loss: -6.7557\n",
            "Epoch 63/100\n",
            "600/600 [==============================] - 46s 77ms/step - loss: 9805.7487 - model_6_loss: 2866.0570 - model_6_1_loss: 2461.3465 - model_6_2_loss: 2047.6931 - model_6_3_loss: 2438.1545 - corrnet_cost_9_loss: -0.7707 - corrnet_cost_10_loss: -0.0222 - corrnet_cost_11_loss: -6.7089\n",
            "Epoch 64/100\n",
            "600/600 [==============================] - 46s 77ms/step - loss: 9766.1943 - model_6_loss: 2860.9080 - model_6_1_loss: 2449.5488 - model_6_2_loss: 2043.3790 - model_6_3_loss: 2419.8870 - corrnet_cost_9_loss: -0.7696 - corrnet_cost_10_loss: -0.0221 - corrnet_cost_11_loss: -6.7360\n",
            "Epoch 65/100\n",
            "600/600 [==============================] - 46s 77ms/step - loss: 9699.0485 - model_6_loss: 2852.5708 - model_6_1_loss: 2428.3844 - model_6_2_loss: 2025.5837 - model_6_3_loss: 2399.9964 - corrnet_cost_9_loss: -0.7712 - corrnet_cost_10_loss: -0.0229 - corrnet_cost_11_loss: -6.6952\n",
            "Epoch 66/100\n",
            "600/600 [==============================] - 46s 77ms/step - loss: 9685.3111 - model_6_loss: 2857.7304 - model_6_1_loss: 2425.2967 - model_6_2_loss: 2015.7221 - model_6_3_loss: 2394.0249 - corrnet_cost_9_loss: -0.7702 - corrnet_cost_10_loss: -0.0242 - corrnet_cost_11_loss: -6.6740\n",
            "Epoch 67/100\n",
            "600/600 [==============================] - 46s 77ms/step - loss: 9615.1391 - model_6_loss: 2844.2354 - model_6_1_loss: 2420.1156 - model_6_2_loss: 1989.8845 - model_6_3_loss: 2368.3604 - corrnet_cost_9_loss: -0.7681 - corrnet_cost_10_loss: -0.0246 - corrnet_cost_11_loss: -6.6626\n",
            "Epoch 68/100\n",
            "600/600 [==============================] - 46s 77ms/step - loss: 9616.4128 - model_6_loss: 2852.2531 - model_6_1_loss: 2414.9088 - model_6_2_loss: 1999.1159 - model_6_3_loss: 2357.4483 - corrnet_cost_9_loss: -0.7635 - corrnet_cost_10_loss: -0.0210 - corrnet_cost_11_loss: -6.5300\n",
            "Epoch 69/100\n",
            "600/600 [==============================] - 46s 77ms/step - loss: 9587.1123 - model_6_loss: 2851.9070 - model_6_1_loss: 2394.2252 - model_6_2_loss: 1995.3136 - model_6_3_loss: 2353.0303 - corrnet_cost_9_loss: -0.7642 - corrnet_cost_10_loss: -0.0208 - corrnet_cost_11_loss: -6.5806\n",
            "Epoch 70/100\n",
            "600/600 [==============================] - 46s 77ms/step - loss: 9518.0511 - model_6_loss: 2830.5577 - model_6_1_loss: 2392.0981 - model_6_2_loss: 1967.4762 - model_6_3_loss: 2335.2996 - corrnet_cost_9_loss: -0.7639 - corrnet_cost_10_loss: -0.0214 - corrnet_cost_11_loss: -6.5974\n",
            "Epoch 71/100\n",
            "600/600 [==============================] - 46s 77ms/step - loss: 9489.8780 - model_6_loss: 2825.8409 - model_6_1_loss: 2394.5993 - model_6_2_loss: 1961.8742 - model_6_3_loss: 2314.9069 - corrnet_cost_9_loss: -0.7612 - corrnet_cost_10_loss: -0.0239 - corrnet_cost_11_loss: -6.5609\n",
            "Epoch 72/100\n",
            "600/600 [==============================] - 46s 77ms/step - loss: 9470.3162 - model_6_loss: 2816.1861 - model_6_1_loss: 2391.0155 - model_6_2_loss: 1961.5487 - model_6_3_loss: 2308.8765 - corrnet_cost_9_loss: -0.7618 - corrnet_cost_10_loss: -0.0229 - corrnet_cost_11_loss: -6.5230\n",
            "Epoch 73/100\n",
            "600/600 [==============================] - 46s 77ms/step - loss: 9435.1525 - model_6_loss: 2805.4289 - model_6_1_loss: 2389.1862 - model_6_2_loss: 1951.9153 - model_6_3_loss: 2295.8442 - corrnet_cost_9_loss: -0.7585 - corrnet_cost_10_loss: -0.0216 - corrnet_cost_11_loss: -6.4422\n",
            "Epoch 74/100\n",
            "600/600 [==============================] - 46s 77ms/step - loss: 9387.8017 - model_6_loss: 2803.9679 - model_6_1_loss: 2378.4317 - model_6_2_loss: 1935.7846 - model_6_3_loss: 2276.8062 - corrnet_cost_9_loss: -0.7548 - corrnet_cost_10_loss: -0.0242 - corrnet_cost_11_loss: -6.4121\n",
            "Epoch 75/100\n",
            "600/600 [==============================] - 46s 77ms/step - loss: 9327.9128 - model_6_loss: 2792.6192 - model_6_1_loss: 2361.4594 - model_6_2_loss: 1922.4892 - model_6_3_loss: 2258.5699 - corrnet_cost_9_loss: -0.7588 - corrnet_cost_10_loss: -0.0203 - corrnet_cost_11_loss: -6.4461\n",
            "Epoch 76/100\n",
            "600/600 [==============================] - 46s 77ms/step - loss: 9349.9034 - model_6_loss: 2804.2039 - model_6_1_loss: 2372.2340 - model_6_2_loss: 1925.3934 - model_6_3_loss: 2255.1786 - corrnet_cost_9_loss: -0.7515 - corrnet_cost_10_loss: -0.0169 - corrnet_cost_11_loss: -6.3385\n",
            "Epoch 77/100\n",
            "600/600 [==============================] - 46s 77ms/step - loss: 9282.6255 - model_6_loss: 2776.1650 - model_6_1_loss: 2349.6405 - model_6_2_loss: 1909.5181 - model_6_3_loss: 2254.4028 - corrnet_cost_9_loss: -0.7584 - corrnet_cost_10_loss: -0.0187 - corrnet_cost_11_loss: -6.3227\n",
            "Epoch 78/100\n",
            "600/600 [==============================] - 46s 77ms/step - loss: 9294.8640 - model_6_loss: 2782.9800 - model_6_1_loss: 2357.4222 - model_6_2_loss: 1908.4261 - model_6_3_loss: 2253.1215 - corrnet_cost_9_loss: -0.7546 - corrnet_cost_10_loss: -0.0188 - corrnet_cost_11_loss: -6.3107\n",
            "Epoch 79/100\n",
            "600/600 [==============================] - 46s 78ms/step - loss: 9243.7365 - model_6_loss: 2770.0949 - model_6_1_loss: 2351.8588 - model_6_2_loss: 1892.1100 - model_6_3_loss: 2236.6568 - corrnet_cost_9_loss: -0.7541 - corrnet_cost_10_loss: -0.0188 - corrnet_cost_11_loss: -6.2093\n",
            "Epoch 80/100\n",
            "600/600 [==============================] - 46s 77ms/step - loss: 9248.8760 - model_6_loss: 2779.6240 - model_6_1_loss: 2348.8506 - model_6_2_loss: 1895.0014 - model_6_3_loss: 2232.2654 - corrnet_cost_9_loss: -0.7488 - corrnet_cost_10_loss: -0.0151 - corrnet_cost_11_loss: -6.1049\n",
            "Epoch 81/100\n",
            "600/600 [==============================] - 47s 78ms/step - loss: 9186.1979 - model_6_loss: 2763.7868 - model_6_1_loss: 2342.9320 - model_6_2_loss: 1869.6559 - model_6_3_loss: 2216.7470 - corrnet_cost_9_loss: -0.7488 - corrnet_cost_10_loss: -0.0167 - corrnet_cost_11_loss: -6.1547\n",
            "Epoch 82/100\n",
            "600/600 [==============================] - 46s 77ms/step - loss: 9174.3952 - model_6_loss: 2758.7479 - model_6_1_loss: 2346.9951 - model_6_2_loss: 1870.3014 - model_6_3_loss: 2205.2402 - corrnet_cost_9_loss: -0.7503 - corrnet_cost_10_loss: -0.0175 - corrnet_cost_11_loss: -6.1196\n",
            "Epoch 83/100\n",
            "600/600 [==============================] - 47s 78ms/step - loss: 9127.4716 - model_6_loss: 2744.6818 - model_6_1_loss: 2342.5324 - model_6_2_loss: 1846.1624 - model_6_3_loss: 2200.9740 - corrnet_cost_9_loss: -0.7486 - corrnet_cost_10_loss: -0.0178 - corrnet_cost_11_loss: -6.1140\n",
            "Epoch 84/100\n",
            "600/600 [==============================] - 47s 78ms/step - loss: 9097.2177 - model_6_loss: 2740.7877 - model_6_1_loss: 2334.7297 - model_6_2_loss: 1843.5868 - model_6_3_loss: 2185.0071 - corrnet_cost_9_loss: -0.7513 - corrnet_cost_10_loss: -0.0186 - corrnet_cost_11_loss: -6.1238\n",
            "Epoch 85/100\n",
            "600/600 [==============================] - 46s 77ms/step - loss: 9093.9699 - model_6_loss: 2752.9490 - model_6_1_loss: 2326.4683 - model_6_2_loss: 1842.2161 - model_6_3_loss: 2179.1142 - corrnet_cost_9_loss: -0.7458 - corrnet_cost_10_loss: -0.0180 - corrnet_cost_11_loss: -6.0150\n",
            "Epoch 86/100\n",
            "600/600 [==============================] - 47s 78ms/step - loss: 9053.2127 - model_6_loss: 2746.0040 - model_6_1_loss: 2323.6570 - model_6_2_loss: 1821.2833 - model_6_3_loss: 2169.1113 - corrnet_cost_9_loss: -0.7462 - corrnet_cost_10_loss: -0.0170 - corrnet_cost_11_loss: -6.0783\n",
            "Epoch 87/100\n",
            "600/600 [==============================] - 47s 78ms/step - loss: 9037.3287 - model_6_loss: 2732.2362 - model_6_1_loss: 2326.8237 - model_6_2_loss: 1820.5287 - model_6_3_loss: 2164.6166 - corrnet_cost_9_loss: -0.7441 - corrnet_cost_10_loss: -0.0174 - corrnet_cost_11_loss: -6.1151\n",
            "Epoch 88/100\n",
            "600/600 [==============================] - 46s 77ms/step - loss: 8993.7375 - model_6_loss: 2735.7062 - model_6_1_loss: 2312.7643 - model_6_2_loss: 1804.2157 - model_6_3_loss: 2147.9123 - corrnet_cost_9_loss: -0.7445 - corrnet_cost_10_loss: -0.0193 - corrnet_cost_11_loss: -6.0974\n",
            "Epoch 89/100\n",
            "600/600 [==============================] - 46s 77ms/step - loss: 9026.7418 - model_6_loss: 2756.0845 - model_6_1_loss: 2314.6788 - model_6_2_loss: 1817.6228 - model_6_3_loss: 2145.1365 - corrnet_cost_9_loss: -0.7426 - corrnet_cost_10_loss: -0.0201 - corrnet_cost_11_loss: -6.0202\n",
            "Epoch 90/100\n",
            "600/600 [==============================] - 46s 77ms/step - loss: 8956.4963 - model_6_loss: 2718.1104 - model_6_1_loss: 2294.7153 - model_6_2_loss: 1813.2885 - model_6_3_loss: 2137.2696 - corrnet_cost_9_loss: -0.7479 - corrnet_cost_10_loss: -0.0207 - corrnet_cost_11_loss: -6.1198\n",
            "Epoch 91/100\n",
            "600/600 [==============================] - 47s 78ms/step - loss: 8947.5403 - model_6_loss: 2714.9473 - model_6_1_loss: 2298.4504 - model_6_2_loss: 1806.2224 - model_6_3_loss: 2134.7876 - corrnet_cost_9_loss: -0.7476 - corrnet_cost_10_loss: -0.0198 - corrnet_cost_11_loss: -6.1006\n",
            "Epoch 92/100\n",
            "600/600 [==============================] - 46s 77ms/step - loss: 8974.0853 - model_6_loss: 2729.0116 - model_6_1_loss: 2298.8218 - model_6_2_loss: 1826.9570 - model_6_3_loss: 2126.0761 - corrnet_cost_9_loss: -0.7389 - corrnet_cost_10_loss: -0.0181 - corrnet_cost_11_loss: -6.0234\n",
            "Epoch 93/100\n",
            "600/600 [==============================] - 46s 77ms/step - loss: 8901.1020 - model_6_loss: 2713.2686 - model_6_1_loss: 2282.9501 - model_6_2_loss: 1790.5962 - model_6_3_loss: 2121.0935 - corrnet_cost_9_loss: -0.7482 - corrnet_cost_10_loss: -0.0189 - corrnet_cost_11_loss: -6.0399\n",
            "Epoch 94/100\n",
            "600/600 [==============================] - 47s 78ms/step - loss: 8949.1191 - model_6_loss: 2696.1816 - model_6_1_loss: 2309.1944 - model_6_2_loss: 1792.4017 - model_6_3_loss: 2158.0146 - corrnet_cost_9_loss: -0.7379 - corrnet_cost_10_loss: -0.0167 - corrnet_cost_11_loss: -5.9159\n",
            "Epoch 95/100\n",
            "600/600 [==============================] - 47s 78ms/step - loss: 8818.9990 - model_6_loss: 2680.0571 - model_6_1_loss: 2278.2435 - model_6_2_loss: 1771.3557 - model_6_3_loss: 2096.1569 - corrnet_cost_9_loss: -0.7499 - corrnet_cost_10_loss: -0.0208 - corrnet_cost_11_loss: -6.0447\n",
            "Epoch 96/100\n",
            "600/600 [==============================] - 47s 78ms/step - loss: 8812.9116 - model_6_loss: 2676.7690 - model_6_1_loss: 2281.1723 - model_6_2_loss: 1774.3990 - model_6_3_loss: 2087.4083 - corrnet_cost_9_loss: -0.7487 - corrnet_cost_10_loss: -0.0197 - corrnet_cost_11_loss: -6.0653\n",
            "Epoch 97/100\n",
            "600/600 [==============================] - 47s 78ms/step - loss: 8795.3266 - model_6_loss: 2671.9925 - model_6_1_loss: 2287.8696 - model_6_2_loss: 1749.8432 - model_6_3_loss: 2092.4254 - corrnet_cost_9_loss: -0.7462 - corrnet_cost_10_loss: -0.0185 - corrnet_cost_11_loss: -6.0380\n",
            "Epoch 98/100\n",
            "600/600 [==============================] - 46s 77ms/step - loss: 8804.7689 - model_6_loss: 2693.8387 - model_6_1_loss: 2277.1046 - model_6_2_loss: 1762.8115 - model_6_3_loss: 2077.7744 - corrnet_cost_9_loss: -0.7414 - corrnet_cost_10_loss: -0.0161 - corrnet_cost_11_loss: -6.0005\n",
            "Epoch 99/100\n",
            "600/600 [==============================] - 47s 78ms/step - loss: 8791.6603 - model_6_loss: 2690.0582 - model_6_1_loss: 2276.2953 - model_6_2_loss: 1744.8580 - model_6_3_loss: 2087.1702 - corrnet_cost_9_loss: -0.7423 - corrnet_cost_10_loss: -0.0163 - corrnet_cost_11_loss: -5.9600\n",
            "Epoch 100/100\n",
            "600/600 [==============================] - 47s 78ms/step - loss: 8751.5059 - model_6_loss: 2681.0455 - model_6_1_loss: 2268.7126 - model_6_2_loss: 1739.6722 - model_6_3_loss: 2068.8040 - corrnet_cost_9_loss: -0.7429 - corrnet_cost_10_loss: -0.0168 - corrnet_cost_11_loss: -5.9687\n"
          ],
          "name": "stdout"
        },
        {
          "output_type": "execute_result",
          "data": {
            "text/plain": [
              "<tensorflow.python.keras.callbacks.History at 0x7f401582aa50>"
            ]
          },
          "metadata": {
            "tags": []
          },
          "execution_count": 36
        }
      ]
    },
    {
      "cell_type": "code",
      "metadata": {
        "colab": {
          "base_uri": "https://localhost:8080/"
        },
        "id": "vHaLoilmb_k_",
        "outputId": "7758248d-a8fc-4ca3-e46e-978fbb468bc1"
      },
      "source": [
        "test_left = intermediate_model.predict([test_left, np.zeros_like(test_left)])[2]\n",
        "test_right = intermediate_model.predict([np.zeros_like(test_right), test_right])[2] \n",
        "\n",
        "print(\"Left to Right: \")\n",
        "print(\"Accuracy = \", test(test_left, test_right, y_test))\n",
        "\n",
        "print(\"Right to Left: \")\n",
        "print(\"Accuracy = \", test(test_right, test_left, y_test))"
      ],
      "execution_count": null,
      "outputs": [
        {
          "output_type": "stream",
          "text": [
            "Left to Right: \n",
            "0  to  2000\n",
            "2000  to  4000\n",
            "4000  to  6000\n",
            "6000  to  8000\n",
            "8000  to  10000\n",
            "Accuracy =  83.14\n",
            "Right to Left: \n",
            "0  to  2000\n",
            "2000  to  4000\n",
            "4000  to  6000\n",
            "6000  to  8000\n",
            "8000  to  10000\n",
            "Accuracy =  83.35000000000001\n"
          ],
          "name": "stdout"
        }
      ]
    }
  ]
}