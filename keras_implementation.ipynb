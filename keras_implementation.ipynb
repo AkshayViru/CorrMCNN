{
  "nbformat": 4,
  "nbformat_minor": 0,
  "metadata": {
    "colab": {
      "name": "project_final_batch+dropout.ipynb",
      "provenance": [],
      "collapsed_sections": []
    },
    "kernelspec": {
      "name": "python3",
      "display_name": "Python 3"
    },
    "language_info": {
      "name": "python"
    },
    "accelerator": "GPU"
  },
  "cells": [
    {
      "cell_type": "code",
      "metadata": {
        "id": "5nnPUqU7g56q"
      },
      "source": [
        "import sys\n",
        "import math\n",
        "import random\n",
        "import warnings\n",
        "import numpy as np\n",
        "from sklearn import svm\n",
        "import keras.backend as K\n",
        "from keras.models import Model\n",
        "from theano import tensor as T\n",
        "import matplotlib.pyplot as plt\n",
        "from keras.datasets import mnist\n",
        "from keras.layers import Input, Add\n",
        "from keras.engine.topology import Layer\n",
        "from sklearn.metrics import accuracy_score\n",
        "from keras.layers import Dropout\n",
        "from keras.layers.core import  Activation, Dense, Reshape\n",
        "from keras.layers.normalization import BatchNormalization\n",
        "from keras.layers import Conv2D, MaxPooling2D, UpSampling2D, Flatten, Conv2DTranspose"
      ],
      "execution_count": null,
      "outputs": []
    },
    {
      "cell_type": "code",
      "metadata": {
        "id": "ZY9SHPG4g8h4"
      },
      "source": [
        "warnings.simplefilter(\"ignore\")\n",
        "\n",
        "HIDDEN_DIM_1 = 500\n",
        "HIDDEN_DIM_2 = 300\n",
        "HIDDEN_DIM_3 = 50      \n",
        "EPOCHS = 100\n",
        "BATCH_SIZE = 100\n",
        "IMG_DIM = 392         \n",
        "LAMBDA_1 = 0.02\n",
        "LAMBDA_2 = 0.001\n",
        "LAMBDA_3 = 0.05"
      ],
      "execution_count": null,
      "outputs": []
    },
    {
      "cell_type": "code",
      "metadata": {
        "id": "PSMZrHSVhcmp"
      },
      "source": [
        "class ZeroPadding(Layer):\n",
        "    def __init__(self, **kwargs):\n",
        "        super(ZeroPadding, self).__init__(**kwargs)\n",
        "\n",
        "    def call(self, x, mask=None):\n",
        "        return K.zeros_like(x)\n",
        "\n",
        "    def get_output_shape_for(self, input_shape):\n",
        "        return input_shape"
      ],
      "execution_count": null,
      "outputs": []
    },
    {
      "cell_type": "code",
      "metadata": {
        "id": "HJlQ6D5YXv7b"
      },
      "source": [
        "# Custom layer for finding MSE in L4 and L5 losses\n",
        "class MSE_Loss_Calculator(Layer):\n",
        "    def __init__(self, **kwargs):\n",
        "        super(MSE_Loss_Calculator, self).__init__(**kwargs)\n",
        "\n",
        "    def call(self, x, mask=None):\n",
        "        return K.mean(K.square(x[0] - x[1]), axis=-1)\n",
        "\n",
        "    def get_output_shape_for(self, input_shape):\n",
        "        return (input_shape[0][0],input_shape[0][1])"
      ],
      "execution_count": null,
      "outputs": []
    },
    {
      "cell_type": "code",
      "metadata": {
        "id": "sFKcrnchha1U"
      },
      "source": [
        "# Custom layer for finding Correlation loss in L6 and L7 losses\n",
        "class Correlation_Loss_Calculator(Layer):\n",
        "    def __init__(self, LAMBDA, **kwargs):\n",
        "        super(Correlation_Loss_Calculator, self).__init__(**kwargs)\n",
        "        self.LAMBDA = LAMBDA\n",
        "\n",
        "    def call(self, x, y, mask=None):\n",
        "        x_center = x - K.mean(x, axis=0)\n",
        "        y_center = y - K.mean(y, axis=0)\n",
        "        corr_dr = K.sqrt(K.sum(x_center * x_center, axis=0) + 1e-8) * K.sqrt(K.sum(y_center * y_center, axis=0) + 1e-8)\n",
        "        return K.sum((K.sum(x_center * y_center, axis=0)) / corr_dr) * self.LAMBDA\n",
        "\n",
        "    def get_output_shape_for(self, input_shape):\n",
        "        return (input_shape[0][0],input_shape[0][1])"
      ],
      "execution_count": null,
      "outputs": []
    },
    {
      "cell_type": "code",
      "metadata": {
        "id": "3qAzkEyrXa5L"
      },
      "source": [
        "# dummy loss functions -> actual loss is calculated using MSE_Loss_Calculator and Correlation_Loss_Calculator above\n",
        "\n",
        "def mse_loss(y_true, y_pred):\n",
        "    return y_pred\n",
        "\n",
        "def corr_loss(y_true, y_pred):\n",
        "    return y_pred"
      ],
      "execution_count": null,
      "outputs": []
    },
    {
      "cell_type": "code",
      "metadata": {
        "id": "Do1nZdg8hPb_"
      },
      "source": [
        "def encode(x):\n",
        "\n",
        "    x = Reshape((28,14,1))(x)\n",
        "    x = Conv2D(128, (3, 3), activation='relu', padding='same')(x)\n",
        "    x = MaxPooling2D((2, 2), padding='same')(x)\n",
        "    x = BatchNormalization()(x)\n",
        "    x = Conv2D(64, (3, 3), activation='relu', padding='same')(x)\n",
        "    x = MaxPooling2D((2, 2), padding='same')(x)\n",
        "    x = BatchNormalization()(x)\n",
        "    x = Conv2D(49, (3, 3), activation='relu', padding='same')(x)\n",
        "    x = MaxPooling2D((2, 2), padding='same')(x)\n",
        "    x = BatchNormalization()(x)\n",
        "    x = Dropout(0.2)(x)\n",
        "    x = Flatten()(x)\n",
        "\n",
        "    hidden_out_1 = Dense(HIDDEN_DIM_1,activation='sigmoid')(x)\n",
        "    hidden_out_2 = Dense(HIDDEN_DIM_2, activation='sigmoid')(hidden_out_1)\n",
        "    out = Dense(HIDDEN_DIM_3, activation='sigmoid')(hidden_out_2)\n",
        "\n",
        "    return hidden_out_1, hidden_out_2, out\n",
        "\n",
        "def decode(x):\n",
        "\n",
        "    x = Dense(HIDDEN_DIM_2,activation='sigmoid')(x)\n",
        "    x = Dense(HIDDEN_DIM_1, activation='sigmoid')(x)\n",
        "    x = Dense(IMG_DIM, activation='sigmoid')(x)\n",
        "\n",
        "    x = Reshape((4, 2, 49))(x)\n",
        "    x = UpSampling2D((2, 2))(x)\n",
        "    x = Conv2D(64, (2, 1), activation='relu')(x)\n",
        "    x = UpSampling2D((2, 2))(x)\n",
        "    x = Conv2D(128, (1, 2), activation='relu')(x)\n",
        "    x = UpSampling2D((2, 2))(x)\n",
        "    x = Conv2D(392, (3, 3), activation='relu', padding='same')(x)\n",
        "    x = Conv2D(1, (3, 3), activation='relu', padding='same')(x)\n",
        "    x = Reshape((IMG_DIM,))(x)\n",
        "\n",
        "    return x\n",
        "\n",
        "def get_model():\n",
        "    \n",
        "    # Notations Used:\n",
        "    # 1 = 1st hidden layer, 2 = 2nd hidden layer \n",
        "    # a = first view, b = second view\n",
        "\n",
        "    inpx = Input(shape=(IMG_DIM,))\n",
        "    inpy = Input(shape=(IMG_DIM,))\n",
        "\n",
        "    # Encoding part\n",
        "    # For first view\n",
        "    hidden_out_1a, hidden_out_2a, out_a = encode(inpx)\n",
        "    \n",
        "    # For second view\n",
        "    hidden_out_1b, hidden_out_2b, out_b = encode(inpy)\n",
        "\n",
        "    # Joint common representation\n",
        "    combined_out =  Add()([out_a, out_b]) \n",
        "    \n",
        "    # Decoding\n",
        "    rec_a = decode(combined_out)\n",
        "    rec_b = decode(combined_out)   \n",
        "    \n",
        "    # Model after the encoding stage\n",
        "    intermediate_model = Model([inpx,inpy],[rec_a, rec_b, combined_out, hidden_out_1a, hidden_out_1b, hidden_out_2a, hidden_out_2b])\n",
        "\n",
        "    # for left view of image (x_i in paper)\n",
        "    [rec_xa,rec_xb,hX,hx_1a,hx_1b,hx_2a,hx_2b] = intermediate_model([inpx, ZeroPadding()(inpy)])\n",
        "    [rec_ya,rec_yb,hY,hy_1a,hy_1b,hy_2a,hy_2b] = intermediate_model([ZeroPadding()(inpx), inpy ])\n",
        "    [rec_za,rec_zb,hZ,hz_1a,hz_1b,hz_2a,hz_2b] = intermediate_model([inpx, inpy])\n",
        "    \n",
        "    l4_loss_1a = MSE_Loss_Calculator()([hx_1a, hy_1a])\n",
        "    l4_loss_1b = MSE_Loss_Calculator()([hx_1b, hy_1b])\n",
        "    l4_loss_2a = MSE_Loss_Calculator()([hx_2a, hy_2a])\n",
        "    l4_loss_2b = MSE_Loss_Calculator()([hx_2b, hy_2b])\n",
        "\n",
        "    l5_loss_a = MSE_Loss_Calculator()([rec_xa, rec_ya])\n",
        "    l5_loss_b = MSE_Loss_Calculator()([rec_xb, rec_yb])\n",
        "\n",
        "    l6_loss = Correlation_Loss_Calculator(-LAMBDA_1)(hX,hY)\n",
        "\n",
        "    l7_loss_1 = Correlation_Loss_Calculator(-LAMBDA_2)(hz_1a,hz_1b)\n",
        "    l7_loss_2 = Correlation_Loss_Calculator(-LAMBDA_3)(hz_2a,hz_2b)\n",
        "\n",
        "    # rec_za, rec_zb -> take L1 loss of these\n",
        "    # rec_xa, rec_xb -> take L2 loss of these\n",
        "    # rec_ya, rec_yb -> take L3 loss of these\n",
        "    model = Model([inpx,inpy],[rec_za, rec_zb, rec_xa, rec_xb, rec_ya, rec_yb, l4_loss_1a, l4_loss_1b, l4_loss_2a, l4_loss_2b, l5_loss_a, l5_loss_b, l6_loss, l7_loss_1, l7_loss_2])\n",
        "    model.compile(loss=[\"mse\",\"mse\",\"mse\",\"mse\",\"mse\",\"mse\",mse_loss,mse_loss,mse_loss,mse_loss,mse_loss,mse_loss,corr_loss,corr_loss,corr_loss], optimizer=\"adam\")\n",
        "    \n",
        "    return model, intermediate_model"
      ],
      "execution_count": null,
      "outputs": []
    },
    {
      "cell_type": "code",
      "metadata": {
        "id": "QPWHkF9Lf_Hn"
      },
      "source": [
        "def get_data():\n",
        "    (x_train, y_train), (x_test, y_test) = mnist.load_data()\n",
        "    X_train_l = x_train[:, :, :14]\n",
        "    X_train_r = x_train[:, :, 14:]\n",
        "    X_test_l = x_test[:, :, :14]\n",
        "    X_test_r = x_test[:, :, 14:]\n",
        "    \n",
        "    return X_train_l, X_train_r, y_train, X_test_l, X_test_r, y_test"
      ],
      "execution_count": null,
      "outputs": []
    },
    {
      "cell_type": "code",
      "metadata": {
        "id": "m2vyCnyNkvhY"
      },
      "source": [
        "def visualize(left_view, right_view, y_train):\n",
        "\n",
        "  for i in range(4):\n",
        "    plt.subplot(1, 2, 1)\n",
        "    left = left_view[i]\n",
        "    pixels = np.array(left, dtype='uint8')\n",
        "    pixels = pixels.reshape((28, 14))\n",
        "    plt.title('Label is {label}'.format(label=y_train[i]))\n",
        "    plt.imshow(pixels, cmap='gray')\n",
        "\n",
        "    plt.subplot(1, 2, 2)\n",
        "    right = right_view[i]\n",
        "    pixels = np.array(right, dtype='uint8')\n",
        "    pixels = pixels.reshape((28, 14))\n",
        "    plt.title('Label is {label}'.format(label=y_train[i]))\n",
        "    plt.imshow(pixels, cmap='gray')\n",
        "\n",
        "    plt.show()"
      ],
      "execution_count": null,
      "outputs": []
    },
    {
      "cell_type": "code",
      "metadata": {
        "colab": {
          "base_uri": "https://localhost:8080/",
          "height": 1000
        },
        "id": "0p9JRRfnhJkS",
        "outputId": "f9970d1d-2a80-47eb-d0a0-0139251b8b04"
      },
      "source": [
        "train_left, train_right, y_train, test_left, test_right, y_test = get_data()\n",
        "\n",
        "visualize(train_left, train_right, y_train)"
      ],
      "execution_count": null,
      "outputs": [
        {
          "output_type": "display_data",
          "data": {
            "image/png": "[encoded data removed]",
            "text/plain": [
              "<Figure size 432x288 with 2 Axes>"
            ]
          },
          "metadata": {
            "tags": [],
            "needs_background": "light"
          }
        },
        {
          "output_type": "display_data",
          "data": {
            "image/png": "[encoded data removed]",
            "text/plain": [
              "<Figure size 432x288 with 2 Axes>"
            ]
          },
          "metadata": {
            "tags": [],
            "needs_background": "light"
          }
        },
        {
          "output_type": "display_data",
          "data": {
            "image/png": "[encoded data removed]",
            "text/plain": [
              "<Figure size 432x288 with 2 Axes>"
            ]
          },
          "metadata": {
            "tags": [],
            "needs_background": "light"
          }
        },
        {
          "output_type": "display_data",
          "data": {
            "image/png": "[encoded data removed]",
            "text/plain": [
              "<Figure size 432x288 with 2 Axes>"
            ]
          },
          "metadata": {
            "tags": [],
            "needs_background": "light"
          }
        }
      ]
    },
    {
      "cell_type": "code",
      "metadata": {
        "id": "7Hrt2VHJsUuV"
      },
      "source": [
        "train_left = train_left.reshape(-1, IMG_DIM)\n",
        "train_right = train_right.reshape(-1, IMG_DIM)\n",
        "\n",
        "test_left = test_left.reshape(-1, IMG_DIM)\n",
        "test_right = test_right.reshape(-1, IMG_DIM)"
      ],
      "execution_count": null,
      "outputs": []
    },
    {
      "cell_type": "code",
      "metadata": {
        "colab": {
          "base_uri": "https://localhost:8080/"
        },
        "id": "MK46m_TQqr1a",
        "outputId": "f0671224-f214-42bf-da0a-090792ffa743"
      },
      "source": [
        "model, intermediate_model = get_model()\n",
        "\n",
        "print(intermediate_model.summary())"
      ],
      "execution_count": null,
      "outputs": [
        {
          "output_type": "stream",
          "text": [
            "Model: \"model\"\n",
            "__________________________________________________________________________________________________\n",
            "Layer (type)                    Output Shape         Param #     Connected to                     \n",
            "==================================================================================================\n",
            "input_3 (InputLayer)            [(None, 392)]        0                                            \n",
            "__________________________________________________________________________________________________\n",
            "input_4 (InputLayer)            [(None, 392)]        0                                            \n",
            "__________________________________________________________________________________________________\n",
            "reshape_1 (Reshape)             (None, 28, 14, 1)    0           input_3[0][0]                    \n",
            "__________________________________________________________________________________________________\n",
            "reshape_2 (Reshape)             (None, 28, 14, 1)    0           input_4[0][0]                    \n",
            "__________________________________________________________________________________________________\n",
            "conv2d_3 (Conv2D)               (None, 28, 14, 128)  1280        reshape_1[0][0]                  \n",
            "__________________________________________________________________________________________________\n",
            "conv2d_6 (Conv2D)               (None, 28, 14, 128)  1280        reshape_2[0][0]                  \n",
            "__________________________________________________________________________________________________\n",
            "max_pooling2d_3 (MaxPooling2D)  (None, 14, 7, 128)   0           conv2d_3[0][0]                   \n",
            "__________________________________________________________________________________________________\n",
            "max_pooling2d_6 (MaxPooling2D)  (None, 14, 7, 128)   0           conv2d_6[0][0]                   \n",
            "__________________________________________________________________________________________________\n",
            "batch_normalization_3 (BatchNor (None, 14, 7, 128)   512         max_pooling2d_3[0][0]            \n",
            "__________________________________________________________________________________________________\n",
            "batch_normalization_6 (BatchNor (None, 14, 7, 128)   512         max_pooling2d_6[0][0]            \n",
            "__________________________________________________________________________________________________\n",
            "conv2d_4 (Conv2D)               (None, 14, 7, 64)    73792       batch_normalization_3[0][0]      \n",
            "__________________________________________________________________________________________________\n",
            "conv2d_7 (Conv2D)               (None, 14, 7, 64)    73792       batch_normalization_6[0][0]      \n",
            "__________________________________________________________________________________________________\n",
            "max_pooling2d_4 (MaxPooling2D)  (None, 7, 4, 64)     0           conv2d_4[0][0]                   \n",
            "__________________________________________________________________________________________________\n",
            "max_pooling2d_7 (MaxPooling2D)  (None, 7, 4, 64)     0           conv2d_7[0][0]                   \n",
            "__________________________________________________________________________________________________\n",
            "batch_normalization_4 (BatchNor (None, 7, 4, 64)     256         max_pooling2d_4[0][0]            \n",
            "__________________________________________________________________________________________________\n",
            "batch_normalization_7 (BatchNor (None, 7, 4, 64)     256         max_pooling2d_7[0][0]            \n",
            "__________________________________________________________________________________________________\n",
            "conv2d_5 (Conv2D)               (None, 7, 4, 49)     28273       batch_normalization_4[0][0]      \n",
            "__________________________________________________________________________________________________\n",
            "conv2d_8 (Conv2D)               (None, 7, 4, 49)     28273       batch_normalization_7[0][0]      \n",
            "__________________________________________________________________________________________________\n",
            "max_pooling2d_5 (MaxPooling2D)  (None, 4, 2, 49)     0           conv2d_5[0][0]                   \n",
            "__________________________________________________________________________________________________\n",
            "max_pooling2d_8 (MaxPooling2D)  (None, 4, 2, 49)     0           conv2d_8[0][0]                   \n",
            "__________________________________________________________________________________________________\n",
            "batch_normalization_5 (BatchNor (None, 4, 2, 49)     196         max_pooling2d_5[0][0]            \n",
            "__________________________________________________________________________________________________\n",
            "batch_normalization_8 (BatchNor (None, 4, 2, 49)     196         max_pooling2d_8[0][0]            \n",
            "__________________________________________________________________________________________________\n",
            "dropout (Dropout)               (None, 4, 2, 49)     0           batch_normalization_5[0][0]      \n",
            "__________________________________________________________________________________________________\n",
            "dropout_1 (Dropout)             (None, 4, 2, 49)     0           batch_normalization_8[0][0]      \n",
            "__________________________________________________________________________________________________\n",
            "flatten (Flatten)               (None, 392)          0           dropout[0][0]                    \n",
            "__________________________________________________________________________________________________\n",
            "flatten_1 (Flatten)             (None, 392)          0           dropout_1[0][0]                  \n",
            "__________________________________________________________________________________________________\n",
            "dense (Dense)                   (None, 500)          196500      flatten[0][0]                    \n",
            "__________________________________________________________________________________________________\n",
            "dense_3 (Dense)                 (None, 500)          196500      flatten_1[0][0]                  \n",
            "__________________________________________________________________________________________________\n",
            "dense_1 (Dense)                 (None, 300)          150300      dense[0][0]                      \n",
            "__________________________________________________________________________________________________\n",
            "dense_4 (Dense)                 (None, 300)          150300      dense_3[0][0]                    \n",
            "__________________________________________________________________________________________________\n",
            "dense_2 (Dense)                 (None, 50)           15050       dense_1[0][0]                    \n",
            "__________________________________________________________________________________________________\n",
            "dense_5 (Dense)                 (None, 50)           15050       dense_4[0][0]                    \n",
            "__________________________________________________________________________________________________\n",
            "add (Add)                       (None, 50)           0           dense_2[0][0]                    \n",
            "                                                                 dense_5[0][0]                    \n",
            "__________________________________________________________________________________________________\n",
            "dense_6 (Dense)                 (None, 300)          15300       add[0][0]                        \n",
            "__________________________________________________________________________________________________\n",
            "dense_9 (Dense)                 (None, 300)          15300       add[0][0]                        \n",
            "__________________________________________________________________________________________________\n",
            "dense_7 (Dense)                 (None, 500)          150500      dense_6[0][0]                    \n",
            "__________________________________________________________________________________________________\n",
            "dense_10 (Dense)                (None, 500)          150500      dense_9[0][0]                    \n",
            "__________________________________________________________________________________________________\n",
            "dense_8 (Dense)                 (None, 392)          196392      dense_7[0][0]                    \n",
            "__________________________________________________________________________________________________\n",
            "dense_11 (Dense)                (None, 392)          196392      dense_10[0][0]                   \n",
            "__________________________________________________________________________________________________\n",
            "reshape_3 (Reshape)             (None, 4, 2, 49)     0           dense_8[0][0]                    \n",
            "__________________________________________________________________________________________________\n",
            "reshape_5 (Reshape)             (None, 4, 2, 49)     0           dense_11[0][0]                   \n",
            "__________________________________________________________________________________________________\n",
            "up_sampling2d (UpSampling2D)    (None, 8, 4, 49)     0           reshape_3[0][0]                  \n",
            "__________________________________________________________________________________________________\n",
            "up_sampling2d_3 (UpSampling2D)  (None, 8, 4, 49)     0           reshape_5[0][0]                  \n",
            "__________________________________________________________________________________________________\n",
            "conv2d_9 (Conv2D)               (None, 7, 4, 64)     6336        up_sampling2d[0][0]              \n",
            "__________________________________________________________________________________________________\n",
            "conv2d_13 (Conv2D)              (None, 7, 4, 64)     6336        up_sampling2d_3[0][0]            \n",
            "__________________________________________________________________________________________________\n",
            "up_sampling2d_1 (UpSampling2D)  (None, 14, 8, 64)    0           conv2d_9[0][0]                   \n",
            "__________________________________________________________________________________________________\n",
            "up_sampling2d_4 (UpSampling2D)  (None, 14, 8, 64)    0           conv2d_13[0][0]                  \n",
            "__________________________________________________________________________________________________\n",
            "conv2d_10 (Conv2D)              (None, 14, 7, 128)   16512       up_sampling2d_1[0][0]            \n",
            "__________________________________________________________________________________________________\n",
            "conv2d_14 (Conv2D)              (None, 14, 7, 128)   16512       up_sampling2d_4[0][0]            \n",
            "__________________________________________________________________________________________________\n",
            "up_sampling2d_2 (UpSampling2D)  (None, 28, 14, 128)  0           conv2d_10[0][0]                  \n",
            "__________________________________________________________________________________________________\n",
            "up_sampling2d_5 (UpSampling2D)  (None, 28, 14, 128)  0           conv2d_14[0][0]                  \n",
            "__________________________________________________________________________________________________\n",
            "conv2d_11 (Conv2D)              (None, 28, 14, 392)  451976      up_sampling2d_2[0][0]            \n",
            "__________________________________________________________________________________________________\n",
            "conv2d_15 (Conv2D)              (None, 28, 14, 392)  451976      up_sampling2d_5[0][0]            \n",
            "__________________________________________________________________________________________________\n",
            "conv2d_12 (Conv2D)              (None, 28, 14, 1)    3529        conv2d_11[0][0]                  \n",
            "__________________________________________________________________________________________________\n",
            "conv2d_16 (Conv2D)              (None, 28, 14, 1)    3529        conv2d_15[0][0]                  \n",
            "__________________________________________________________________________________________________\n",
            "reshape_4 (Reshape)             (None, 392)          0           conv2d_12[0][0]                  \n",
            "__________________________________________________________________________________________________\n",
            "reshape_6 (Reshape)             (None, 392)          0           conv2d_16[0][0]                  \n",
            "==================================================================================================\n",
            "Total params: 2,613,408\n",
            "Trainable params: 2,612,444\n",
            "Non-trainable params: 964\n",
            "__________________________________________________________________________________________________\n",
            "None\n"
          ],
          "name": "stdout"
        }
      ]
    },
    {
      "cell_type": "code",
      "metadata": {
        "colab": {
          "base_uri": "https://localhost:8080/"
        },
        "id": "_KEmi8Sc7faL",
        "outputId": "f20491fe-ab45-4b06-867c-64e6929c42c0"
      },
      "source": [
        "model.fit([train_left,train_right], [train_left, train_right, \n",
        "                                     train_left, train_right, \n",
        "                                     train_left, train_right,\n",
        "                                     np.zeros((train_left.shape[0],HIDDEN_DIM_1)), np.zeros((train_left.shape[0],HIDDEN_DIM_1)), np.zeros((train_left.shape[0],HIDDEN_DIM_2)), np.zeros((train_left.shape[0],HIDDEN_DIM_2)),\n",
        "              np.zeros((train_left.shape)), np.zeros((train_left.shape)),\n",
        "              np.zeros((train_left.shape[0],HIDDEN_DIM_3)), \n",
        "              np.zeros((train_left.shape[0],HIDDEN_DIM_1)),np.zeros((train_left.shape[0],HIDDEN_DIM_2))],\n",
        "              epochs = EPOCHS, batch_size = BATCH_SIZE, verbose=1)"
      ],
      "execution_count": null,
      "outputs": [
        {
          "output_type": "stream",
          "text": [
            "Epoch 1/100\n",
            "600/600 [==============================] - 88s 87ms/step - loss: 27050.1467 - model_loss: 4199.7137 - model_1_loss: 4805.6218 - model_2_loss: 4197.9283 - model_3_loss: 4821.0427 - model_4_loss: 4209.3350 - model_5_loss: 4802.5580 - mse__loss__calculator_loss: 0.0953 - mse__loss__calculator_1_loss: 0.0990 - mse__loss__calculator_2_loss: 0.0499 - mse__loss__calculator_3_loss: 0.0515 - mse__loss__calculator_4_loss: 11.0663 - mse__loss__calculator_5_loss: 16.0811 - correlation__loss__calculator_loss: -0.8203 - correlation__loss__calculator_1_loss: -0.2008 - correlation__loss__calculator_2_loss: -12.4817\n",
            "Epoch 2/100\n",
            "600/600 [==============================] - 52s 87ms/step - loss: 21854.0795 - model_loss: 3401.7707 - model_1_loss: 3775.2884 - model_2_loss: 3365.7271 - model_3_loss: 3857.2590 - model_4_loss: 3452.1092 - model_5_loss: 3732.8706 - mse__loss__calculator_loss: 0.2333 - mse__loss__calculator_1_loss: 0.2521 - mse__loss__calculator_2_loss: 0.1534 - mse__loss__calculator_3_loss: 0.1539 - mse__loss__calculator_4_loss: 124.5500 - mse__loss__calculator_5_loss: 153.8470 - correlation__loss__calculator_loss: -0.8624 - correlation__loss__calculator_1_loss: -0.1678 - correlation__loss__calculator_2_loss: -9.1079\n",
            "Epoch 3/100\n",
            "600/600 [==============================] - 52s 87ms/step - loss: 17861.2814 - model_loss: 2705.5778 - model_1_loss: 3037.4074 - model_2_loss: 2630.4585 - model_3_loss: 3231.5832 - model_4_loss: 2851.6646 - model_5_loss: 2956.3818 - mse__loss__calculator_loss: 0.2408 - mse__loss__calculator_1_loss: 0.2657 - mse__loss__calculator_2_loss: 0.1523 - mse__loss__calculator_3_loss: 0.1512 - mse__loss__calculator_4_loss: 209.8763 - mse__loss__calculator_5_loss: 244.4649 - correlation__loss__calculator_loss: -0.8442 - correlation__loss__calculator_1_loss: -0.1076 - correlation__loss__calculator_2_loss: -5.9939\n",
            "Epoch 4/100\n",
            "600/600 [==============================] - 52s 87ms/step - loss: 16142.4812 - model_loss: 2350.6368 - model_1_loss: 2781.3336 - model_2_loss: 2255.4758 - model_3_loss: 2999.3646 - model_4_loss: 2551.2509 - model_5_loss: 2679.7587 - mse__loss__calculator_loss: 0.2550 - mse__loss__calculator_1_loss: 0.2741 - mse__loss__calculator_2_loss: 0.1586 - mse__loss__calculator_3_loss: 0.1574 - mse__loss__calculator_4_loss: 256.4933 - mse__loss__calculator_5_loss: 273.7003 - correlation__loss__calculator_loss: -0.8405 - correlation__loss__calculator_1_loss: -0.0794 - correlation__loss__calculator_2_loss: -5.4607\n",
            "Epoch 5/100\n",
            "600/600 [==============================] - 52s 87ms/step - loss: 14737.1826 - model_loss: 2043.9325 - model_1_loss: 2532.2132 - model_2_loss: 1964.5035 - model_3_loss: 2820.9366 - model_4_loss: 2336.1868 - model_5_loss: 2432.6130 - mse__loss__calculator_loss: 0.2605 - mse__loss__calculator_1_loss: 0.2783 - mse__loss__calculator_2_loss: 0.1680 - mse__loss__calculator_3_loss: 0.1620 - mse__loss__calculator_4_loss: 301.2839 - mse__loss__calculator_5_loss: 310.5748 - correlation__loss__calculator_loss: -0.8321 - correlation__loss__calculator_1_loss: -0.0678 - correlation__loss__calculator_2_loss: -5.0347\n",
            "Epoch 6/100\n",
            "600/600 [==============================] - 52s 87ms/step - loss: 13521.1738 - model_loss: 1790.0403 - model_1_loss: 2310.4083 - model_2_loss: 1715.3663 - model_3_loss: 2659.8133 - model_4_loss: 2151.9251 - model_5_loss: 2213.0138 - mse__loss__calculator_loss: 0.2580 - mse__loss__calculator_1_loss: 0.2851 - mse__loss__calculator_2_loss: 0.1745 - mse__loss__calculator_3_loss: 0.1682 - mse__loss__calculator_4_loss: 340.4893 - mse__loss__calculator_5_loss: 344.5549 - correlation__loss__calculator_loss: -0.8185 - correlation__loss__calculator_1_loss: -0.0602 - correlation__loss__calculator_2_loss: -4.4413\n",
            "Epoch 7/100\n",
            "600/600 [==============================] - 52s 87ms/step - loss: 12694.5041 - model_loss: 1651.7333 - model_1_loss: 2132.4389 - model_2_loss: 1572.1000 - model_3_loss: 2527.0760 - model_4_loss: 2043.6709 - model_5_loss: 2039.8662 - mse__loss__calculator_loss: 0.2585 - mse__loss__calculator_1_loss: 0.2867 - mse__loss__calculator_2_loss: 0.1791 - mse__loss__calculator_3_loss: 0.1755 - mse__loss__calculator_4_loss: 358.9773 - mse__loss__calculator_5_loss: 372.8264 - correlation__loss__calculator_loss: -0.8194 - correlation__loss__calculator_1_loss: -0.0546 - correlation__loss__calculator_2_loss: -4.2129\n",
            "Epoch 8/100\n",
            "600/600 [==============================] - 52s 87ms/step - loss: 12024.4965 - model_loss: 1551.1188 - model_1_loss: 1970.6894 - model_2_loss: 1471.3373 - model_3_loss: 2422.3881 - model_4_loss: 1954.7031 - model_5_loss: 1880.4254 - mse__loss__calculator_loss: 0.2619 - mse__loss__calculator_1_loss: 0.2939 - mse__loss__calculator_2_loss: 0.1860 - mse__loss__calculator_3_loss: 0.1818 - mse__loss__calculator_4_loss: 368.1194 - mse__loss__calculator_5_loss: 409.6913 - correlation__loss__calculator_loss: -0.8138 - correlation__loss__calculator_1_loss: -0.0507 - correlation__loss__calculator_2_loss: -4.0348\n",
            "Epoch 9/100\n",
            "600/600 [==============================] - 52s 87ms/step - loss: 11469.9195 - model_loss: 1466.2040 - model_1_loss: 1842.7558 - model_2_loss: 1390.3487 - model_3_loss: 2322.3746 - model_4_loss: 1886.4151 - model_5_loss: 1752.1688 - mse__loss__calculator_loss: 0.2607 - mse__loss__calculator_1_loss: 0.2942 - mse__loss__calculator_2_loss: 0.1905 - mse__loss__calculator_3_loss: 0.1825 - mse__loss__calculator_4_loss: 381.2265 - mse__loss__calculator_5_loss: 432.3210 - correlation__loss__calculator_loss: -0.8078 - correlation__loss__calculator_1_loss: -0.0475 - correlation__loss__calculator_2_loss: -3.9686\n",
            "Epoch 10/100\n",
            "600/600 [==============================] - 52s 87ms/step - loss: 11128.4927 - model_loss: 1408.9008 - model_1_loss: 1763.4782 - model_2_loss: 1333.1639 - model_3_loss: 2268.4569 - model_4_loss: 1845.8085 - model_5_loss: 1673.4515 - mse__loss__calculator_loss: 0.2618 - mse__loss__calculator_1_loss: 0.2924 - mse__loss__calculator_2_loss: 0.1939 - mse__loss__calculator_3_loss: 0.1835 - mse__loss__calculator_4_loss: 390.5518 - mse__loss__calculator_5_loss: 448.4634 - correlation__loss__calculator_loss: -0.7979 - correlation__loss__calculator_1_loss: -0.0458 - correlation__loss__calculator_2_loss: -3.8698\n",
            "Epoch 11/100\n",
            "600/600 [==============================] - 52s 87ms/step - loss: 10738.3269 - model_loss: 1351.2423 - model_1_loss: 1664.2909 - model_2_loss: 1278.0681 - model_3_loss: 2203.2226 - model_4_loss: 1800.1190 - model_5_loss: 1578.7589 - mse__loss__calculator_loss: 0.2619 - mse__loss__calculator_1_loss: 0.2935 - mse__loss__calculator_2_loss: 0.1968 - mse__loss__calculator_3_loss: 0.1870 - mse__loss__calculator_4_loss: 397.2312 - mse__loss__calculator_5_loss: 469.0916 - correlation__loss__calculator_loss: -0.7914 - correlation__loss__calculator_1_loss: -0.0443 - correlation__loss__calculator_2_loss: -3.8018\n",
            "Epoch 12/100\n",
            "600/600 [==============================] - 52s 87ms/step - loss: 10474.9157 - model_loss: 1309.9161 - model_1_loss: 1586.7174 - model_2_loss: 1241.9038 - model_3_loss: 2168.3890 - model_4_loss: 1772.4952 - model_5_loss: 1508.5956 - mse__loss__calculator_loss: 0.2598 - mse__loss__calculator_1_loss: 0.2932 - mse__loss__calculator_2_loss: 0.1983 - mse__loss__calculator_3_loss: 0.1909 - mse__loss__calculator_4_loss: 403.3469 - mse__loss__calculator_5_loss: 487.1597 - correlation__loss__calculator_loss: -0.7780 - correlation__loss__calculator_1_loss: -0.0419 - correlation__loss__calculator_2_loss: -3.7334\n",
            "Epoch 13/100\n",
            "600/600 [==============================] - 52s 87ms/step - loss: 10173.0858 - model_loss: 1261.0842 - model_1_loss: 1504.7043 - model_2_loss: 1199.1533 - model_3_loss: 2124.8149 - model_4_loss: 1737.2392 - model_5_loss: 1436.2680 - mse__loss__calculator_loss: 0.2592 - mse__loss__calculator_1_loss: 0.2896 - mse__loss__calculator_2_loss: 0.2000 - mse__loss__calculator_3_loss: 0.1942 - mse__loss__calculator_4_loss: 408.8301 - mse__loss__calculator_5_loss: 504.5252 - correlation__loss__calculator_loss: -0.7647 - correlation__loss__calculator_1_loss: -0.0416 - correlation__loss__calculator_2_loss: -3.6706\n",
            "Epoch 14/100\n",
            "600/600 [==============================] - 52s 87ms/step - loss: 9945.5484 - model_loss: 1218.5076 - model_1_loss: 1439.7039 - model_2_loss: 1167.5948 - model_3_loss: 2095.5315 - model_4_loss: 1709.4126 - model_5_loss: 1385.9751 - mse__loss__calculator_loss: 0.2570 - mse__loss__calculator_1_loss: 0.2877 - mse__loss__calculator_2_loss: 0.2008 - mse__loss__calculator_3_loss: 0.1965 - mse__loss__calculator_4_loss: 415.1347 - mse__loss__calculator_5_loss: 517.1611 - correlation__loss__calculator_loss: -0.7492 - correlation__loss__calculator_1_loss: -0.0401 - correlation__loss__calculator_2_loss: -3.6253\n",
            "Epoch 15/100\n",
            "600/600 [==============================] - 52s 87ms/step - loss: 9698.7157 - model_loss: 1173.1962 - model_1_loss: 1379.8734 - model_2_loss: 1132.5944 - model_3_loss: 2064.2444 - model_4_loss: 1676.4355 - model_5_loss: 1340.8029 - mse__loss__calculator_loss: 0.2550 - mse__loss__calculator_1_loss: 0.2891 - mse__loss__calculator_2_loss: 0.2029 - mse__loss__calculator_3_loss: 0.1989 - mse__loss__calculator_4_loss: 416.1098 - mse__loss__calculator_5_loss: 518.9463 - correlation__loss__calculator_loss: -0.7339 - correlation__loss__calculator_1_loss: -0.0404 - correlation__loss__calculator_2_loss: -3.6596\n",
            "Epoch 16/100\n",
            "600/600 [==============================] - 52s 87ms/step - loss: 9543.8633 - model_loss: 1145.5716 - model_1_loss: 1330.9074 - model_2_loss: 1112.5503 - model_3_loss: 2038.7976 - model_4_loss: 1664.9788 - model_5_loss: 1312.7469 - mse__loss__calculator_loss: 0.2566 - mse__loss__calculator_1_loss: 0.2896 - mse__loss__calculator_2_loss: 0.2058 - mse__loss__calculator_3_loss: 0.2012 - mse__loss__calculator_4_loss: 418.7903 - mse__loss__calculator_5_loss: 522.9637 - correlation__loss__calculator_loss: -0.7187 - correlation__loss__calculator_1_loss: -0.0388 - correlation__loss__calculator_2_loss: -3.6394\n",
            "Epoch 17/100\n",
            "600/600 [==============================] - 52s 87ms/step - loss: 9349.4877 - model_loss: 1102.7408 - model_1_loss: 1281.3818 - model_2_loss: 1081.2898 - model_3_loss: 2012.5268 - model_4_loss: 1641.4100 - model_5_loss: 1284.0765 - mse__loss__calculator_loss: 0.2564 - mse__loss__calculator_1_loss: 0.2902 - mse__loss__calculator_2_loss: 0.2069 - mse__loss__calculator_3_loss: 0.2035 - mse__loss__calculator_4_loss: 425.8777 - mse__loss__calculator_5_loss: 523.6142 - correlation__loss__calculator_loss: -0.7031 - correlation__loss__calculator_1_loss: -0.0382 - correlation__loss__calculator_2_loss: -3.6475\n",
            "Epoch 18/100\n",
            "600/600 [==============================] - 52s 87ms/step - loss: 9215.5071 - model_loss: 1074.3351 - model_1_loss: 1250.2040 - model_2_loss: 1060.2146 - model_3_loss: 1996.8935 - model_4_loss: 1625.4322 - model_5_loss: 1266.2680 - mse__loss__calculator_loss: 0.2551 - mse__loss__calculator_1_loss: 0.2882 - mse__loss__calculator_2_loss: 0.2100 - mse__loss__calculator_3_loss: 0.2057 - mse__loss__calculator_4_loss: 424.9116 - mse__loss__calculator_5_loss: 520.6306 - correlation__loss__calculator_loss: -0.6915 - correlation__loss__calculator_1_loss: -0.0366 - correlation__loss__calculator_2_loss: -3.6138\n",
            "Epoch 19/100\n",
            "600/600 [==============================] - 52s 87ms/step - loss: 9070.7139 - model_loss: 1043.0297 - model_1_loss: 1212.5109 - model_2_loss: 1037.9757 - model_3_loss: 1977.9471 - model_4_loss: 1608.3619 - model_5_loss: 1240.7777 - mse__loss__calculator_loss: 0.2542 - mse__loss__calculator_1_loss: 0.2865 - mse__loss__calculator_2_loss: 0.2109 - mse__loss__calculator_3_loss: 0.2075 - mse__loss__calculator_4_loss: 430.9364 - mse__loss__calculator_5_loss: 522.5049 - correlation__loss__calculator_loss: -0.6801 - correlation__loss__calculator_1_loss: -0.0366 - correlation__loss__calculator_2_loss: -3.5749\n",
            "Epoch 20/100\n",
            "600/600 [==============================] - 52s 87ms/step - loss: 8929.4550 - model_loss: 1013.4955 - model_1_loss: 1181.7471 - model_2_loss: 1016.7448 - model_3_loss: 1957.3313 - model_4_loss: 1590.2270 - model_5_loss: 1222.1650 - mse__loss__calculator_loss: 0.2547 - mse__loss__calculator_1_loss: 0.2853 - mse__loss__calculator_2_loss: 0.2128 - mse__loss__calculator_3_loss: 0.2082 - mse__loss__calculator_4_loss: 430.4071 - mse__loss__calculator_5_loss: 520.6564 - correlation__loss__calculator_loss: -0.6706 - correlation__loss__calculator_1_loss: -0.0356 - correlation__loss__calculator_2_loss: -3.5723\n",
            "Epoch 21/100\n",
            "600/600 [==============================] - 52s 87ms/step - loss: 8784.9352 - model_loss: 985.7982 - model_1_loss: 1153.8126 - model_2_loss: 996.7697 - model_3_loss: 1932.2397 - model_4_loss: 1571.1378 - model_5_loss: 1200.2464 - mse__loss__calculator_loss: 0.2537 - mse__loss__calculator_1_loss: 0.2848 - mse__loss__calculator_2_loss: 0.2139 - mse__loss__calculator_3_loss: 0.2100 - mse__loss__calculator_4_loss: 431.5972 - mse__loss__calculator_5_loss: 516.6255 - correlation__loss__calculator_loss: -0.6630 - correlation__loss__calculator_1_loss: -0.0346 - correlation__loss__calculator_2_loss: -3.5566\n",
            "Epoch 22/100\n",
            "600/600 [==============================] - 52s 87ms/step - loss: 8710.5956 - model_loss: 970.2572 - model_1_loss: 1132.5995 - model_2_loss: 984.8492 - model_3_loss: 1923.4529 - model_4_loss: 1565.4281 - model_5_loss: 1186.7954 - mse__loss__calculator_loss: 0.2538 - mse__loss__calculator_1_loss: 0.2861 - mse__loss__calculator_2_loss: 0.2156 - mse__loss__calculator_3_loss: 0.2113 - mse__loss__calculator_4_loss: 431.7976 - mse__loss__calculator_5_loss: 518.6988 - correlation__loss__calculator_loss: -0.6568 - correlation__loss__calculator_1_loss: -0.0347 - correlation__loss__calculator_2_loss: -3.5583\n",
            "Epoch 23/100\n",
            "600/600 [==============================] - 53s 88ms/step - loss: 8582.4166 - model_loss: 941.7104 - model_1_loss: 1108.2571 - model_2_loss: 964.1195 - model_3_loss: 1908.4995 - model_4_loss: 1544.8243 - model_5_loss: 1166.9363 - mse__loss__calculator_loss: 0.2533 - mse__loss__calculator_1_loss: 0.2867 - mse__loss__calculator_2_loss: 0.2163 - mse__loss__calculator_3_loss: 0.2121 - mse__loss__calculator_4_loss: 432.3611 - mse__loss__calculator_5_loss: 518.9508 - correlation__loss__calculator_loss: -0.6524 - correlation__loss__calculator_1_loss: -0.0346 - correlation__loss__calculator_2_loss: -3.5271\n",
            "Epoch 24/100\n",
            "600/600 [==============================] - 53s 88ms/step - loss: 8500.8129 - model_loss: 922.7706 - model_1_loss: 1091.5876 - model_2_loss: 949.7453 - model_3_loss: 1897.1731 - model_4_loss: 1532.5767 - model_5_loss: 1156.9490 - mse__loss__calculator_loss: 0.2515 - mse__loss__calculator_1_loss: 0.2821 - mse__loss__calculator_2_loss: 0.2169 - mse__loss__calculator_3_loss: 0.2122 - mse__loss__calculator_4_loss: 434.0769 - mse__loss__calculator_5_loss: 519.1585 - correlation__loss__calculator_loss: -0.6476 - correlation__loss__calculator_1_loss: -0.0349 - correlation__loss__calculator_2_loss: -3.5031\n",
            "Epoch 25/100\n",
            "600/600 [==============================] - 53s 88ms/step - loss: 8367.1213 - model_loss: 897.4926 - model_1_loss: 1065.7345 - model_2_loss: 928.1138 - model_3_loss: 1876.0853 - model_4_loss: 1515.1089 - model_5_loss: 1135.7237 - mse__loss__calculator_loss: 0.2530 - mse__loss__calculator_1_loss: 0.2826 - mse__loss__calculator_2_loss: 0.2188 - mse__loss__calculator_3_loss: 0.2128 - mse__loss__calculator_4_loss: 433.5610 - mse__loss__calculator_5_loss: 518.4800 - correlation__loss__calculator_loss: -0.6460 - correlation__loss__calculator_1_loss: -0.0339 - correlation__loss__calculator_2_loss: -3.4670\n",
            "Epoch 26/100\n",
            "600/600 [==============================] - 53s 88ms/step - loss: 8338.1449 - model_loss: 890.9801 - model_1_loss: 1057.5513 - model_2_loss: 923.4955 - model_3_loss: 1870.2786 - model_4_loss: 1518.4652 - model_5_loss: 1131.0775 - mse__loss__calculator_loss: 0.2507 - mse__loss__calculator_1_loss: 0.2810 - mse__loss__calculator_2_loss: 0.2184 - mse__loss__calculator_3_loss: 0.2140 - mse__loss__calculator_4_loss: 435.2062 - mse__loss__calculator_5_loss: 514.2663 - correlation__loss__calculator_loss: -0.6414 - correlation__loss__calculator_1_loss: -0.0344 - correlation__loss__calculator_2_loss: -3.4608\n",
            "Epoch 27/100\n",
            "600/600 [==============================] - 53s 88ms/step - loss: 8205.0418 - model_loss: 863.3249 - model_1_loss: 1034.1360 - model_2_loss: 900.7170 - model_3_loss: 1851.8202 - model_4_loss: 1496.5691 - model_5_loss: 1108.6471 - mse__loss__calculator_loss: 0.2505 - mse__loss__calculator_1_loss: 0.2819 - mse__loss__calculator_2_loss: 0.2188 - mse__loss__calculator_3_loss: 0.2154 - mse__loss__calculator_4_loss: 436.3037 - mse__loss__calculator_5_loss: 516.6487 - correlation__loss__calculator_loss: -0.6386 - correlation__loss__calculator_1_loss: -0.0335 - correlation__loss__calculator_2_loss: -3.4203\n",
            "Epoch 28/100\n",
            "600/600 [==============================] - 53s 88ms/step - loss: 8141.8820 - model_loss: 849.0849 - model_1_loss: 1023.5990 - model_2_loss: 889.6843 - model_3_loss: 1844.6438 - model_4_loss: 1484.4728 - model_5_loss: 1100.9736 - mse__loss__calculator_loss: 0.2491 - mse__loss__calculator_1_loss: 0.2823 - mse__loss__calculator_2_loss: 0.2188 - mse__loss__calculator_3_loss: 0.2153 - mse__loss__calculator_4_loss: 435.5900 - mse__loss__calculator_5_loss: 516.9639 - correlation__loss__calculator_loss: -0.6370 - correlation__loss__calculator_1_loss: -0.0334 - correlation__loss__calculator_2_loss: -3.4274\n",
            "Epoch 29/100\n",
            "600/600 [==============================] - 53s 88ms/step - loss: 8059.5741 - model_loss: 834.8624 - model_1_loss: 1003.6536 - model_2_loss: 879.8246 - model_3_loss: 1826.1603 - model_4_loss: 1479.0235 - model_5_loss: 1083.8770 - mse__loss__calculator_loss: 0.2474 - mse__loss__calculator_1_loss: 0.2789 - mse__loss__calculator_2_loss: 0.2185 - mse__loss__calculator_3_loss: 0.2164 - mse__loss__calculator_4_loss: 437.9475 - mse__loss__calculator_5_loss: 517.3445 - correlation__loss__calculator_loss: -0.6369 - correlation__loss__calculator_1_loss: -0.0333 - correlation__loss__calculator_2_loss: -3.4119\n",
            "Epoch 30/100\n",
            "600/600 [==============================] - 53s 88ms/step - loss: 7978.2506 - model_loss: 820.3398 - model_1_loss: 991.1044 - model_2_loss: 867.8442 - model_3_loss: 1813.8263 - model_4_loss: 1467.6007 - model_5_loss: 1073.1326 - mse__loss__calculator_loss: 0.2487 - mse__loss__calculator_1_loss: 0.2782 - mse__loss__calculator_2_loss: 0.2203 - mse__loss__calculator_3_loss: 0.2170 - mse__loss__calculator_4_loss: 433.9834 - mse__loss__calculator_5_loss: 513.5150 - correlation__loss__calculator_loss: -0.6369 - correlation__loss__calculator_1_loss: -0.0332 - correlation__loss__calculator_2_loss: -3.3874\n",
            "Epoch 31/100\n",
            "600/600 [==============================] - 53s 88ms/step - loss: 7932.1768 - model_loss: 807.0839 - model_1_loss: 982.4421 - model_2_loss: 858.1091 - model_3_loss: 1810.7813 - model_4_loss: 1457.0160 - model_5_loss: 1067.3108 - mse__loss__calculator_loss: 0.2456 - mse__loss__calculator_1_loss: 0.2753 - mse__loss__calculator_2_loss: 0.2195 - mse__loss__calculator_3_loss: 0.2165 - mse__loss__calculator_4_loss: 436.3724 - mse__loss__calculator_5_loss: 516.1550 - correlation__loss__calculator_loss: -0.6337 - correlation__loss__calculator_1_loss: -0.0325 - correlation__loss__calculator_2_loss: -3.3843\n",
            "Epoch 32/100\n",
            "600/600 [==============================] - 53s 88ms/step - loss: 7865.4886 - model_loss: 797.5484 - model_1_loss: 971.7294 - model_2_loss: 849.9751 - model_3_loss: 1797.5071 - model_4_loss: 1448.0167 - model_5_loss: 1057.7018 - mse__loss__calculator_loss: 0.2479 - mse__loss__calculator_1_loss: 0.2777 - mse__loss__calculator_2_loss: 0.2203 - mse__loss__calculator_3_loss: 0.2174 - mse__loss__calculator_4_loss: 433.0613 - mse__loss__calculator_5_loss: 513.0179 - correlation__loss__calculator_loss: -0.6349 - correlation__loss__calculator_1_loss: -0.0330 - correlation__loss__calculator_2_loss: -3.3649\n",
            "Epoch 33/100\n",
            "600/600 [==============================] - 53s 88ms/step - loss: 7769.4752 - model_loss: 780.2775 - model_1_loss: 955.3424 - model_2_loss: 834.7746 - model_3_loss: 1783.3581 - model_4_loss: 1431.8602 - model_5_loss: 1042.7060 - mse__loss__calculator_loss: 0.2473 - mse__loss__calculator_1_loss: 0.2757 - mse__loss__calculator_2_loss: 0.2205 - mse__loss__calculator_3_loss: 0.2177 - mse__loss__calculator_4_loss: 432.6878 - mse__loss__calculator_5_loss: 511.5380 - correlation__loss__calculator_loss: -0.6312 - correlation__loss__calculator_1_loss: -0.0322 - correlation__loss__calculator_2_loss: -3.3684\n",
            "Epoch 34/100\n",
            "600/600 [==============================] - 53s 88ms/step - loss: 7760.7552 - model_loss: 772.8062 - model_1_loss: 952.2933 - model_2_loss: 830.5868 - model_3_loss: 1785.0294 - model_4_loss: 1433.2587 - model_5_loss: 1040.6002 - mse__loss__calculator_loss: 0.2468 - mse__loss__calculator_1_loss: 0.2770 - mse__loss__calculator_2_loss: 0.2211 - mse__loss__calculator_3_loss: 0.2174 - mse__loss__calculator_4_loss: 434.9018 - mse__loss__calculator_5_loss: 514.3481 - correlation__loss__calculator_loss: -0.6331 - correlation__loss__calculator_1_loss: -0.0320 - correlation__loss__calculator_2_loss: -3.3642\n",
            "Epoch 35/100\n",
            "600/600 [==============================] - 53s 88ms/step - loss: 7695.6311 - model_loss: 768.5102 - model_1_loss: 937.9868 - model_2_loss: 827.3824 - model_3_loss: 1765.4696 - model_4_loss: 1428.3261 - model_5_loss: 1027.1086 - mse__loss__calculator_loss: 0.2466 - mse__loss__calculator_1_loss: 0.2749 - mse__loss__calculator_2_loss: 0.2207 - mse__loss__calculator_3_loss: 0.2174 - mse__loss__calculator_4_loss: 432.2528 - mse__loss__calculator_5_loss: 511.6119 - correlation__loss__calculator_loss: -0.6315 - correlation__loss__calculator_1_loss: -0.0315 - correlation__loss__calculator_2_loss: -3.3125\n",
            "Epoch 36/100\n",
            "600/600 [==============================] - 53s 88ms/step - loss: 7623.7577 - model_loss: 753.8579 - model_1_loss: 927.8369 - model_2_loss: 815.1454 - model_3_loss: 1757.3853 - model_4_loss: 1410.0220 - model_5_loss: 1020.0885 - mse__loss__calculator_loss: 0.2469 - mse__loss__calculator_1_loss: 0.2755 - mse__loss__calculator_2_loss: 0.2201 - mse__loss__calculator_3_loss: 0.2176 - mse__loss__calculator_4_loss: 431.2200 - mse__loss__calculator_5_loss: 511.2344 - correlation__loss__calculator_loss: -0.6321 - correlation__loss__calculator_1_loss: -0.0315 - correlation__loss__calculator_2_loss: -3.3294\n",
            "Epoch 37/100\n",
            "600/600 [==============================] - 53s 88ms/step - loss: 7593.2885 - model_loss: 746.9694 - model_1_loss: 918.9157 - model_2_loss: 810.3278 - model_3_loss: 1755.3771 - model_4_loss: 1408.9796 - model_5_loss: 1013.0222 - mse__loss__calculator_loss: 0.2453 - mse__loss__calculator_1_loss: 0.2754 - mse__loss__calculator_2_loss: 0.2199 - mse__loss__calculator_3_loss: 0.2185 - mse__loss__calculator_4_loss: 432.1032 - mse__loss__calculator_5_loss: 510.6312 - correlation__loss__calculator_loss: -0.6313 - correlation__loss__calculator_1_loss: -0.0308 - correlation__loss__calculator_2_loss: -3.3350\n",
            "Epoch 38/100\n",
            "600/600 [==============================] - 53s 88ms/step - loss: 7532.3979 - model_loss: 736.8243 - model_1_loss: 913.1084 - model_2_loss: 800.5181 - model_3_loss: 1744.3038 - model_4_loss: 1395.5781 - model_5_loss: 1008.4562 - mse__loss__calculator_loss: 0.2457 - mse__loss__calculator_1_loss: 0.2725 - mse__loss__calculator_2_loss: 0.2206 - mse__loss__calculator_3_loss: 0.2185 - mse__loss__calculator_4_loss: 428.4740 - mse__loss__calculator_5_loss: 508.1837 - correlation__loss__calculator_loss: -0.6319 - correlation__loss__calculator_1_loss: -0.0312 - correlation__loss__calculator_2_loss: -3.3432\n",
            "Epoch 39/100\n",
            "600/600 [==============================] - 53s 88ms/step - loss: 7487.7947 - model_loss: 732.0777 - model_1_loss: 901.9533 - model_2_loss: 796.4715 - model_3_loss: 1731.7787 - model_4_loss: 1391.1759 - model_5_loss: 998.2179 - mse__loss__calculator_loss: 0.2454 - mse__loss__calculator_1_loss: 0.2725 - mse__loss__calculator_2_loss: 0.2215 - mse__loss__calculator_3_loss: 0.2179 - mse__loss__calculator_4_loss: 430.4734 - mse__loss__calculator_5_loss: 508.6659 - correlation__loss__calculator_loss: -0.6325 - correlation__loss__calculator_1_loss: -0.0310 - correlation__loss__calculator_2_loss: -3.3122\n",
            "Epoch 40/100\n",
            "600/600 [==============================] - 53s 88ms/step - loss: 7452.6796 - model_loss: 724.5652 - model_1_loss: 898.8112 - model_2_loss: 790.1424 - model_3_loss: 1728.4222 - model_4_loss: 1384.5169 - model_5_loss: 994.3515 - mse__loss__calculator_loss: 0.2466 - mse__loss__calculator_1_loss: 0.2741 - mse__loss__calculator_2_loss: 0.2212 - mse__loss__calculator_3_loss: 0.2180 - mse__loss__calculator_4_loss: 429.2015 - mse__loss__calculator_5_loss: 505.6701 - correlation__loss__calculator_loss: -0.6324 - correlation__loss__calculator_1_loss: -0.0306 - correlation__loss__calculator_2_loss: -3.2996\n",
            "Epoch 41/100\n",
            "600/600 [==============================] - 53s 88ms/step - loss: 7401.0988 - model_loss: 722.2387 - model_1_loss: 886.0693 - model_2_loss: 787.7633 - model_3_loss: 1712.5702 - model_4_loss: 1381.8737 - model_5_loss: 982.2651 - mse__loss__calculator_loss: 0.2465 - mse__loss__calculator_1_loss: 0.2713 - mse__loss__calculator_2_loss: 0.2220 - mse__loss__calculator_3_loss: 0.2191 - mse__loss__calculator_4_loss: 427.1604 - mse__loss__calculator_5_loss: 504.1676 - correlation__loss__calculator_loss: -0.6329 - correlation__loss__calculator_1_loss: -0.0307 - correlation__loss__calculator_2_loss: -3.3056\n",
            "Epoch 42/100\n",
            "600/600 [==============================] - 53s 88ms/step - loss: 7394.7628 - model_loss: 717.2435 - model_1_loss: 883.2704 - model_2_loss: 785.3347 - model_3_loss: 1715.3708 - model_4_loss: 1382.1484 - model_5_loss: 980.7099 - mse__loss__calculator_loss: 0.2463 - mse__loss__calculator_1_loss: 0.2722 - mse__loss__calculator_2_loss: 0.2221 - mse__loss__calculator_3_loss: 0.2198 - mse__loss__calculator_4_loss: 426.8905 - mse__loss__calculator_5_loss: 506.8195 - correlation__loss__calculator_loss: -0.6343 - correlation__loss__calculator_1_loss: -0.0311 - correlation__loss__calculator_2_loss: -3.3184\n",
            "Epoch 43/100\n",
            "600/600 [==============================] - 53s 88ms/step - loss: 7311.0610 - model_loss: 705.9720 - model_1_loss: 867.3613 - model_2_loss: 775.3257 - model_3_loss: 1700.3015 - model_4_loss: 1364.5303 - model_5_loss: 967.8056 - mse__loss__calculator_loss: 0.2458 - mse__loss__calculator_1_loss: 0.2711 - mse__loss__calculator_2_loss: 0.2226 - mse__loss__calculator_3_loss: 0.2199 - mse__loss__calculator_4_loss: 426.0205 - mse__loss__calculator_5_loss: 506.7479 - correlation__loss__calculator_loss: -0.6325 - correlation__loss__calculator_1_loss: -0.0305 - correlation__loss__calculator_2_loss: -3.2977\n",
            "Epoch 44/100\n",
            "600/600 [==============================] - 53s 88ms/step - loss: 7286.4115 - model_loss: 701.4706 - model_1_loss: 865.5969 - model_2_loss: 772.8115 - model_3_loss: 1696.4410 - model_4_loss: 1359.9911 - model_5_loss: 965.9661 - mse__loss__calculator_loss: 0.2456 - mse__loss__calculator_1_loss: 0.2688 - mse__loss__calculator_2_loss: 0.2216 - mse__loss__calculator_3_loss: 0.2201 - mse__loss__calculator_4_loss: 424.2047 - mse__loss__calculator_5_loss: 502.9214 - correlation__loss__calculator_loss: -0.6314 - correlation__loss__calculator_1_loss: -0.0306 - correlation__loss__calculator_2_loss: -3.2867\n",
            "Epoch 45/100\n",
            "600/600 [==============================] - 53s 88ms/step - loss: 7246.2126 - model_loss: 696.2252 - model_1_loss: 858.1384 - model_2_loss: 768.5652 - model_3_loss: 1685.3116 - model_4_loss: 1357.1909 - model_5_loss: 956.4751 - mse__loss__calculator_loss: 0.2464 - mse__loss__calculator_1_loss: 0.2681 - mse__loss__calculator_2_loss: 0.2217 - mse__loss__calculator_3_loss: 0.2203 - mse__loss__calculator_4_loss: 424.5107 - mse__loss__calculator_5_loss: 502.7918 - correlation__loss__calculator_loss: -0.6323 - correlation__loss__calculator_1_loss: -0.0305 - correlation__loss__calculator_2_loss: -3.2930\n",
            "Epoch 46/100\n",
            "600/600 [==============================] - 53s 88ms/step - loss: 7214.6095 - model_loss: 690.0473 - model_1_loss: 851.5274 - model_2_loss: 760.9263 - model_3_loss: 1682.4226 - model_4_loss: 1351.9268 - model_5_loss: 952.9739 - mse__loss__calculator_loss: 0.2454 - mse__loss__calculator_1_loss: 0.2706 - mse__loss__calculator_2_loss: 0.2214 - mse__loss__calculator_3_loss: 0.2208 - mse__loss__calculator_4_loss: 424.1809 - mse__loss__calculator_5_loss: 503.5656 - correlation__loss__calculator_loss: -0.6322 - correlation__loss__calculator_1_loss: -0.0297 - correlation__loss__calculator_2_loss: -3.2572\n",
            "Epoch 47/100\n",
            "600/600 [==============================] - 53s 88ms/step - loss: 7185.1023 - model_loss: 686.4282 - model_1_loss: 850.8855 - model_2_loss: 758.9280 - model_3_loss: 1679.3582 - model_4_loss: 1340.3413 - model_5_loss: 952.4008 - mse__loss__calculator_loss: 0.2453 - mse__loss__calculator_1_loss: 0.2741 - mse__loss__calculator_2_loss: 0.2213 - mse__loss__calculator_3_loss: 0.2192 - mse__loss__calculator_4_loss: 418.9679 - mse__loss__calculator_5_loss: 500.7510 - correlation__loss__calculator_loss: -0.6343 - correlation__loss__calculator_1_loss: -0.0293 - correlation__loss__calculator_2_loss: -3.2550\n",
            "Epoch 48/100\n",
            "600/600 [==============================] - 53s 88ms/step - loss: 7167.1380 - model_loss: 684.8041 - model_1_loss: 844.3218 - model_2_loss: 758.0843 - model_3_loss: 1671.4645 - model_4_loss: 1344.3296 - model_5_loss: 946.5353 - mse__loss__calculator_loss: 0.2440 - mse__loss__calculator_1_loss: 0.2677 - mse__loss__calculator_2_loss: 0.2220 - mse__loss__calculator_3_loss: 0.2202 - mse__loss__calculator_4_loss: 420.8593 - mse__loss__calculator_5_loss: 499.7002 - correlation__loss__calculator_loss: -0.6324 - correlation__loss__calculator_1_loss: -0.0293 - correlation__loss__calculator_2_loss: -3.2526\n",
            "Epoch 49/100\n",
            "600/600 [==============================] - 53s 88ms/step - loss: 7151.4690 - model_loss: 686.0143 - model_1_loss: 839.4728 - model_2_loss: 760.1760 - model_3_loss: 1664.9291 - model_4_loss: 1343.6484 - model_5_loss: 943.9419 - mse__loss__calculator_loss: 0.2448 - mse__loss__calculator_1_loss: 0.2638 - mse__loss__calculator_2_loss: 0.2228 - mse__loss__calculator_3_loss: 0.2200 - mse__loss__calculator_4_loss: 419.0903 - mse__loss__calculator_5_loss: 497.1799 - correlation__loss__calculator_loss: -0.6331 - correlation__loss__calculator_1_loss: -0.0301 - correlation__loss__calculator_2_loss: -3.2708\n",
            "Epoch 50/100\n",
            "600/600 [==============================] - 53s 89ms/step - loss: 7130.5902 - model_loss: 676.1562 - model_1_loss: 835.1236 - model_2_loss: 752.4068 - model_3_loss: 1667.8244 - model_4_loss: 1337.0334 - model_5_loss: 940.4676 - mse__loss__calculator_loss: 0.2437 - mse__loss__calculator_1_loss: 0.2682 - mse__loss__calculator_2_loss: 0.2227 - mse__loss__calculator_3_loss: 0.2210 - mse__loss__calculator_4_loss: 423.4873 - mse__loss__calculator_5_loss: 501.0345 - correlation__loss__calculator_loss: -0.6310 - correlation__loss__calculator_1_loss: -0.0297 - correlation__loss__calculator_2_loss: -3.2353\n",
            "Epoch 51/100\n",
            "600/600 [==============================] - 53s 88ms/step - loss: 7039.5589 - model_loss: 665.0669 - model_1_loss: 824.6596 - model_2_loss: 740.0074 - model_3_loss: 1648.7193 - model_4_loss: 1318.7540 - model_5_loss: 928.4293 - mse__loss__calculator_loss: 0.2446 - mse__loss__calculator_1_loss: 0.2674 - mse__loss__calculator_2_loss: 0.2237 - mse__loss__calculator_3_loss: 0.2209 - mse__loss__calculator_4_loss: 418.7836 - mse__loss__calculator_5_loss: 498.1030 - correlation__loss__calculator_loss: -0.6343 - correlation__loss__calculator_1_loss: -0.0297 - correlation__loss__calculator_2_loss: -3.2572\n",
            "Epoch 52/100\n",
            "600/600 [==============================] - 53s 88ms/step - loss: 7020.2405 - model_loss: 662.1917 - model_1_loss: 816.3588 - model_2_loss: 739.8423 - model_3_loss: 1643.2361 - model_4_loss: 1318.9003 - model_5_loss: 922.7908 - mse__loss__calculator_loss: 0.2437 - mse__loss__calculator_1_loss: 0.2692 - mse__loss__calculator_2_loss: 0.2229 - mse__loss__calculator_3_loss: 0.2207 - mse__loss__calculator_4_loss: 420.0312 - mse__loss__calculator_5_loss: 499.8425 - correlation__loss__calculator_loss: -0.6335 - correlation__loss__calculator_1_loss: -0.0292 - correlation__loss__calculator_2_loss: -3.2489\n",
            "Epoch 53/100\n",
            "600/600 [==============================] - 53s 88ms/step - loss: 6978.4355 - model_loss: 658.8777 - model_1_loss: 811.2508 - model_2_loss: 736.6602 - model_3_loss: 1631.5718 - model_4_loss: 1313.7779 - model_5_loss: 916.6146 - mse__loss__calculator_loss: 0.2439 - mse__loss__calculator_1_loss: 0.2663 - mse__loss__calculator_2_loss: 0.2235 - mse__loss__calculator_3_loss: 0.2216 - mse__loss__calculator_4_loss: 417.8576 - mse__loss__calculator_5_loss: 494.7862 - correlation__loss__calculator_loss: -0.6326 - correlation__loss__calculator_1_loss: -0.0299 - correlation__loss__calculator_2_loss: -3.2537\n",
            "Epoch 54/100\n",
            "600/600 [==============================] - 53s 88ms/step - loss: 6996.8390 - model_loss: 660.8265 - model_1_loss: 812.8756 - model_2_loss: 739.3825 - model_3_loss: 1639.4711 - model_4_loss: 1313.9565 - model_5_loss: 921.9543 - mse__loss__calculator_loss: 0.2439 - mse__loss__calculator_1_loss: 0.2666 - mse__loss__calculator_2_loss: 0.2235 - mse__loss__calculator_3_loss: 0.2210 - mse__loss__calculator_4_loss: 415.5581 - mse__loss__calculator_5_loss: 495.7536 - correlation__loss__calculator_loss: -0.6333 - correlation__loss__calculator_1_loss: -0.0295 - correlation__loss__calculator_2_loss: -3.2337\n",
            "Epoch 55/100\n",
            "600/600 [==============================] - 53s 88ms/step - loss: 6955.1692 - model_loss: 653.3621 - model_1_loss: 808.7307 - model_2_loss: 732.2771 - model_3_loss: 1630.6792 - model_4_loss: 1306.1582 - model_5_loss: 915.3509 - mse__loss__calculator_loss: 0.2428 - mse__loss__calculator_1_loss: 0.2674 - mse__loss__calculator_2_loss: 0.2229 - mse__loss__calculator_3_loss: 0.2226 - mse__loss__calculator_4_loss: 417.3821 - mse__loss__calculator_5_loss: 494.1908 - correlation__loss__calculator_loss: -0.6349 - correlation__loss__calculator_1_loss: -0.0297 - correlation__loss__calculator_2_loss: -3.2530\n",
            "Epoch 56/100\n",
            "600/600 [==============================] - 53s 88ms/step - loss: 6882.4112 - model_loss: 645.5247 - model_1_loss: 796.8473 - model_2_loss: 724.5669 - model_3_loss: 1615.1442 - model_4_loss: 1294.6049 - model_5_loss: 903.8088 - mse__loss__calculator_loss: 0.2413 - mse__loss__calculator_1_loss: 0.2653 - mse__loss__calculator_2_loss: 0.2219 - mse__loss__calculator_3_loss: 0.2223 - mse__loss__calculator_4_loss: 414.2323 - mse__loss__calculator_5_loss: 490.5992 - correlation__loss__calculator_loss: -0.6321 - correlation__loss__calculator_1_loss: -0.0291 - correlation__loss__calculator_2_loss: -3.2046\n",
            "Epoch 57/100\n",
            "600/600 [==============================] - 53s 88ms/step - loss: 6894.2561 - model_loss: 644.4200 - model_1_loss: 797.8315 - model_2_loss: 723.4834 - model_3_loss: 1621.6669 - model_4_loss: 1293.7857 - model_5_loss: 906.7449 - mse__loss__calculator_loss: 0.2435 - mse__loss__calculator_1_loss: 0.2654 - mse__loss__calculator_2_loss: 0.2225 - mse__loss__calculator_3_loss: 0.2223 - mse__loss__calculator_4_loss: 414.9044 - mse__loss__calculator_5_loss: 494.3483 - correlation__loss__calculator_loss: -0.6337 - correlation__loss__calculator_1_loss: -0.0287 - correlation__loss__calculator_2_loss: -3.2204\n",
            "Epoch 58/100\n",
            "600/600 [==============================] - 53s 88ms/step - loss: 6861.1485 - model_loss: 642.9439 - model_1_loss: 792.4132 - model_2_loss: 722.3559 - model_3_loss: 1606.4954 - model_4_loss: 1293.4084 - model_5_loss: 900.8205 - mse__loss__calculator_loss: 0.2422 - mse__loss__calculator_1_loss: 0.2634 - mse__loss__calculator_2_loss: 0.2220 - mse__loss__calculator_3_loss: 0.2212 - mse__loss__calculator_4_loss: 413.5022 - mse__loss__calculator_5_loss: 492.1222 - correlation__loss__calculator_loss: -0.6325 - correlation__loss__calculator_1_loss: -0.0291 - correlation__loss__calculator_2_loss: -3.2004\n",
            "Epoch 59/100\n",
            "600/600 [==============================] - 53s 88ms/step - loss: 6853.9287 - model_loss: 638.0233 - model_1_loss: 787.4968 - model_2_loss: 718.4101 - model_3_loss: 1611.8896 - model_4_loss: 1292.1808 - model_5_loss: 898.8987 - mse__loss__calculator_loss: 0.2436 - mse__loss__calculator_1_loss: 0.2653 - mse__loss__calculator_2_loss: 0.2231 - mse__loss__calculator_3_loss: 0.2220 - mse__loss__calculator_4_loss: 415.4532 - mse__loss__calculator_5_loss: 494.4728 - correlation__loss__calculator_loss: -0.6347 - correlation__loss__calculator_1_loss: -0.0288 - correlation__loss__calculator_2_loss: -3.1869\n",
            "Epoch 60/100\n",
            "600/600 [==============================] - 53s 89ms/step - loss: 6814.0477 - model_loss: 634.1500 - model_1_loss: 784.0946 - model_2_loss: 715.8879 - model_3_loss: 1603.8380 - model_4_loss: 1281.7617 - model_5_loss: 893.1321 - mse__loss__calculator_loss: 0.2429 - mse__loss__calculator_1_loss: 0.2607 - mse__loss__calculator_2_loss: 0.2222 - mse__loss__calculator_3_loss: 0.2224 - mse__loss__calculator_4_loss: 412.4694 - mse__loss__calculator_5_loss: 491.6065 - correlation__loss__calculator_loss: -0.6324 - correlation__loss__calculator_1_loss: -0.0286 - correlation__loss__calculator_2_loss: -3.1806\n",
            "Epoch 61/100\n",
            "600/600 [==============================] - 53s 89ms/step - loss: 6779.5749 - model_loss: 631.1613 - model_1_loss: 780.7849 - model_2_loss: 712.4120 - model_3_loss: 1596.1280 - model_4_loss: 1272.4025 - model_5_loss: 890.9910 - mse__loss__calculator_loss: 0.2434 - mse__loss__calculator_1_loss: 0.2644 - mse__loss__calculator_2_loss: 0.2228 - mse__loss__calculator_3_loss: 0.2224 - mse__loss__calculator_4_loss: 408.9779 - mse__loss__calculator_5_loss: 489.5998 - correlation__loss__calculator_loss: -0.6364 - correlation__loss__calculator_1_loss: -0.0290 - correlation__loss__calculator_2_loss: -3.1708\n",
            "Epoch 62/100\n",
            "600/600 [==============================] - 53s 89ms/step - loss: 6759.2035 - model_loss: 629.8537 - model_1_loss: 775.4176 - model_2_loss: 711.0573 - model_3_loss: 1586.6375 - model_4_loss: 1273.8912 - model_5_loss: 887.7907 - mse__loss__calculator_loss: 0.2424 - mse__loss__calculator_1_loss: 0.2656 - mse__loss__calculator_2_loss: 0.2218 - mse__loss__calculator_3_loss: 0.2229 - mse__loss__calculator_4_loss: 409.6681 - mse__loss__calculator_5_loss: 487.7686 - correlation__loss__calculator_loss: -0.6354 - correlation__loss__calculator_1_loss: -0.0287 - correlation__loss__calculator_2_loss: -3.1703\n",
            "Epoch 63/100\n",
            "600/600 [==============================] - 53s 89ms/step - loss: 6759.0634 - model_loss: 628.4134 - model_1_loss: 775.2618 - model_2_loss: 711.1434 - model_3_loss: 1589.9716 - model_4_loss: 1273.2870 - model_5_loss: 885.5460 - mse__loss__calculator_loss: 0.2427 - mse__loss__calculator_1_loss: 0.2663 - mse__loss__calculator_2_loss: 0.2222 - mse__loss__calculator_3_loss: 0.2230 - mse__loss__calculator_4_loss: 410.1078 - mse__loss__calculator_5_loss: 488.2219 - correlation__loss__calculator_loss: -0.6352 - correlation__loss__calculator_1_loss: -0.0290 - correlation__loss__calculator_2_loss: -3.1784\n",
            "Epoch 64/100\n",
            "600/600 [==============================] - 53s 89ms/step - loss: 6709.6476 - model_loss: 623.3340 - model_1_loss: 769.1513 - model_2_loss: 705.5458 - model_3_loss: 1576.5779 - model_4_loss: 1264.3657 - model_5_loss: 878.8156 - mse__loss__calculator_loss: 0.2456 - mse__loss__calculator_1_loss: 0.2636 - mse__loss__calculator_2_loss: 0.2239 - mse__loss__calculator_3_loss: 0.2234 - mse__loss__calculator_4_loss: 408.0597 - mse__loss__calculator_5_loss: 486.6584 - correlation__loss__calculator_loss: -0.6369 - correlation__loss__calculator_1_loss: -0.0291 - correlation__loss__calculator_2_loss: -3.1511\n",
            "Epoch 65/100\n",
            "600/600 [==============================] - 53s 89ms/step - loss: 6711.2652 - model_loss: 623.3426 - model_1_loss: 768.3593 - model_2_loss: 705.3364 - model_3_loss: 1584.6986 - model_4_loss: 1257.0290 - model_5_loss: 880.4267 - mse__loss__calculator_loss: 0.2427 - mse__loss__calculator_1_loss: 0.2631 - mse__loss__calculator_2_loss: 0.2227 - mse__loss__calculator_3_loss: 0.2235 - mse__loss__calculator_4_loss: 405.5435 - mse__loss__calculator_5_loss: 489.3949 - correlation__loss__calculator_loss: -0.6341 - correlation__loss__calculator_1_loss: -0.0287 - correlation__loss__calculator_2_loss: -3.1538\n",
            "Epoch 66/100\n",
            "600/600 [==============================] - 53s 89ms/step - loss: 6710.3625 - model_loss: 620.0366 - model_1_loss: 767.4376 - model_2_loss: 706.1407 - model_3_loss: 1576.0000 - model_4_loss: 1266.9263 - model_5_loss: 878.2500 - mse__loss__calculator_loss: 0.2437 - mse__loss__calculator_1_loss: 0.2623 - mse__loss__calculator_2_loss: 0.2231 - mse__loss__calculator_3_loss: 0.2228 - mse__loss__calculator_4_loss: 410.9386 - mse__loss__calculator_5_loss: 487.4847 - correlation__loss__calculator_loss: -0.6365 - correlation__loss__calculator_1_loss: -0.0282 - correlation__loss__calculator_2_loss: -3.1378\n",
            "Epoch 67/100\n",
            "600/600 [==============================] - 53s 89ms/step - loss: 6662.4223 - model_loss: 617.5055 - model_1_loss: 759.7481 - model_2_loss: 701.7089 - model_3_loss: 1566.7494 - model_4_loss: 1256.1294 - model_5_loss: 869.0134 - mse__loss__calculator_loss: 0.2440 - mse__loss__calculator_1_loss: 0.2623 - mse__loss__calculator_2_loss: 0.2233 - mse__loss__calculator_3_loss: 0.2224 - mse__loss__calculator_4_loss: 406.0217 - mse__loss__calculator_5_loss: 488.4068 - correlation__loss__calculator_loss: -0.6361 - correlation__loss__calculator_1_loss: -0.0292 - correlation__loss__calculator_2_loss: -3.1467\n",
            "Epoch 68/100\n",
            "600/600 [==============================] - 53s 89ms/step - loss: 6631.8891 - model_loss: 611.9205 - model_1_loss: 756.9513 - model_2_loss: 693.6248 - model_3_loss: 1566.7599 - model_4_loss: 1246.2683 - model_5_loss: 868.8407 - mse__loss__calculator_loss: 0.2427 - mse__loss__calculator_1_loss: 0.2647 - mse__loss__calculator_2_loss: 0.2230 - mse__loss__calculator_3_loss: 0.2232 - mse__loss__calculator_4_loss: 406.0816 - mse__loss__calculator_5_loss: 484.2852 - correlation__loss__calculator_loss: -0.6366 - correlation__loss__calculator_1_loss: -0.0284 - correlation__loss__calculator_2_loss: -3.1333\n",
            "Epoch 69/100\n",
            "600/600 [==============================] - 53s 89ms/step - loss: 6646.3682 - model_loss: 615.1843 - model_1_loss: 752.4600 - model_2_loss: 699.9188 - model_3_loss: 1565.9461 - model_4_loss: 1253.3187 - model_5_loss: 865.7352 - mse__loss__calculator_loss: 0.2419 - mse__loss__calculator_1_loss: 0.2628 - mse__loss__calculator_2_loss: 0.2227 - mse__loss__calculator_3_loss: 0.2237 - mse__loss__calculator_4_loss: 408.1171 - mse__loss__calculator_5_loss: 488.5256 - correlation__loss__calculator_loss: -0.6353 - correlation__loss__calculator_1_loss: -0.0287 - correlation__loss__calculator_2_loss: -3.1265\n",
            "Epoch 70/100\n",
            "600/600 [==============================] - 53s 89ms/step - loss: 6592.6021 - model_loss: 607.4913 - model_1_loss: 748.7536 - model_2_loss: 691.3297 - model_3_loss: 1552.9273 - model_4_loss: 1243.7995 - model_5_loss: 860.7113 - mse__loss__calculator_loss: 0.2401 - mse__loss__calculator_1_loss: 0.2654 - mse__loss__calculator_2_loss: 0.2220 - mse__loss__calculator_3_loss: 0.2244 - mse__loss__calculator_4_loss: 406.0040 - mse__loss__calculator_5_loss: 484.4247 - correlation__loss__calculator_loss: -0.6350 - correlation__loss__calculator_1_loss: -0.0284 - correlation__loss__calculator_2_loss: -3.1259\n",
            "Epoch 71/100\n",
            "600/600 [==============================] - 53s 89ms/step - loss: 6616.8003 - model_loss: 611.3199 - model_1_loss: 752.0552 - model_2_loss: 695.9689 - model_3_loss: 1556.1534 - model_4_loss: 1250.3781 - model_5_loss: 863.0501 - mse__loss__calculator_loss: 0.2415 - mse__loss__calculator_1_loss: 0.2640 - mse__loss__calculator_2_loss: 0.2223 - mse__loss__calculator_3_loss: 0.2248 - mse__loss__calculator_4_loss: 405.1898 - mse__loss__calculator_5_loss: 485.5409 - correlation__loss__calculator_loss: -0.6360 - correlation__loss__calculator_1_loss: -0.0282 - correlation__loss__calculator_2_loss: -3.1456\n",
            "Epoch 72/100\n",
            "600/600 [==============================] - 53s 89ms/step - loss: 6571.0820 - model_loss: 602.5095 - model_1_loss: 744.6117 - model_2_loss: 688.5172 - model_3_loss: 1549.9616 - model_4_loss: 1241.5844 - model_5_loss: 857.4792 - mse__loss__calculator_loss: 0.2425 - mse__loss__calculator_1_loss: 0.2628 - mse__loss__calculator_2_loss: 0.2238 - mse__loss__calculator_3_loss: 0.2243 - mse__loss__calculator_4_loss: 406.0647 - mse__loss__calculator_5_loss: 483.1834 - correlation__loss__calculator_loss: -0.6362 - correlation__loss__calculator_1_loss: -0.0282 - correlation__loss__calculator_2_loss: -3.1207\n",
            "Epoch 73/100\n",
            "600/600 [==============================] - 53s 89ms/step - loss: 6560.0900 - model_loss: 604.0016 - model_1_loss: 742.4509 - model_2_loss: 688.7445 - model_3_loss: 1543.6801 - model_4_loss: 1242.5538 - model_5_loss: 854.6960 - mse__loss__calculator_loss: 0.2423 - mse__loss__calculator_1_loss: 0.2634 - mse__loss__calculator_2_loss: 0.2241 - mse__loss__calculator_3_loss: 0.2249 - mse__loss__calculator_4_loss: 404.5310 - mse__loss__calculator_5_loss: 482.2419 - correlation__loss__calculator_loss: -0.6358 - correlation__loss__calculator_1_loss: -0.0281 - correlation__loss__calculator_2_loss: -3.1004\n",
            "Epoch 74/100\n",
            "600/600 [==============================] - 53s 89ms/step - loss: 6554.5485 - model_loss: 603.6716 - model_1_loss: 744.5234 - model_2_loss: 689.7757 - model_3_loss: 1543.7990 - model_4_loss: 1235.9533 - model_5_loss: 857.4818 - mse__loss__calculator_loss: 0.2437 - mse__loss__calculator_1_loss: 0.2608 - mse__loss__calculator_2_loss: 0.2232 - mse__loss__calculator_3_loss: 0.2247 - mse__loss__calculator_4_loss: 401.9380 - mse__loss__calculator_5_loss: 480.2219 - correlation__loss__calculator_loss: -0.6353 - correlation__loss__calculator_1_loss: -0.0280 - correlation__loss__calculator_2_loss: -3.1046\n",
            "Epoch 75/100\n",
            "600/600 [==============================] - 53s 89ms/step - loss: 6520.3253 - model_loss: 597.0197 - model_1_loss: 738.4898 - model_2_loss: 682.3840 - model_3_loss: 1543.9136 - model_4_loss: 1223.7334 - model_5_loss: 852.2868 - mse__loss__calculator_loss: 0.2445 - mse__loss__calculator_1_loss: 0.2611 - mse__loss__calculator_2_loss: 0.2239 - mse__loss__calculator_3_loss: 0.2248 - mse__loss__calculator_4_loss: 402.4686 - mse__loss__calculator_5_loss: 482.8497 - correlation__loss__calculator_loss: -0.6360 - correlation__loss__calculator_1_loss: -0.0278 - correlation__loss__calculator_2_loss: -3.1119\n",
            "Epoch 76/100\n",
            "600/600 [==============================] - 53s 89ms/step - loss: 6503.7980 - model_loss: 599.0309 - model_1_loss: 735.2232 - model_2_loss: 684.1421 - model_3_loss: 1532.1896 - model_4_loss: 1227.8353 - model_5_loss: 848.0537 - mse__loss__calculator_loss: 0.2412 - mse__loss__calculator_1_loss: 0.2609 - mse__loss__calculator_2_loss: 0.2234 - mse__loss__calculator_3_loss: 0.2250 - mse__loss__calculator_4_loss: 402.0583 - mse__loss__calculator_5_loss: 478.0817 - correlation__loss__calculator_loss: -0.6374 - correlation__loss__calculator_1_loss: -0.0278 - correlation__loss__calculator_2_loss: -3.1002\n",
            "Epoch 77/100\n",
            "600/600 [==============================] - 53s 89ms/step - loss: 6481.6580 - model_loss: 592.6367 - model_1_loss: 733.3497 - model_2_loss: 677.6525 - model_3_loss: 1531.4535 - model_4_loss: 1220.3366 - model_5_loss: 847.4845 - mse__loss__calculator_loss: 0.2414 - mse__loss__calculator_1_loss: 0.2595 - mse__loss__calculator_2_loss: 0.2231 - mse__loss__calculator_3_loss: 0.2244 - mse__loss__calculator_4_loss: 401.7358 - mse__loss__calculator_5_loss: 479.8026 - correlation__loss__calculator_loss: -0.6361 - correlation__loss__calculator_1_loss: -0.0278 - correlation__loss__calculator_2_loss: -3.0779\n",
            "Epoch 78/100\n",
            "600/600 [==============================] - 53s 89ms/step - loss: 6472.6476 - model_loss: 593.5842 - model_1_loss: 731.8808 - model_2_loss: 680.5502 - model_3_loss: 1526.6951 - model_4_loss: 1218.7862 - model_5_loss: 845.3739 - mse__loss__calculator_loss: 0.2419 - mse__loss__calculator_1_loss: 0.2627 - mse__loss__calculator_2_loss: 0.2232 - mse__loss__calculator_3_loss: 0.2241 - mse__loss__calculator_4_loss: 399.6074 - mse__loss__calculator_5_loss: 478.9758 - correlation__loss__calculator_loss: -0.6365 - correlation__loss__calculator_1_loss: -0.0274 - correlation__loss__calculator_2_loss: -3.0932\n",
            "Epoch 79/100\n",
            "600/600 [==============================] - 53s 89ms/step - loss: 6464.2966 - model_loss: 592.0332 - model_1_loss: 729.8184 - model_2_loss: 676.7744 - model_3_loss: 1525.0867 - model_4_loss: 1221.2644 - model_5_loss: 842.7006 - mse__loss__calculator_loss: 0.2418 - mse__loss__calculator_1_loss: 0.2606 - mse__loss__calculator_2_loss: 0.2238 - mse__loss__calculator_3_loss: 0.2250 - mse__loss__calculator_4_loss: 401.9328 - mse__loss__calculator_5_loss: 477.5010 - correlation__loss__calculator_loss: -0.6364 - correlation__loss__calculator_1_loss: -0.0276 - correlation__loss__calculator_2_loss: -3.0990\n",
            "Epoch 80/100\n",
            "600/600 [==============================] - 53s 89ms/step - loss: 6412.4615 - model_loss: 586.1387 - model_1_loss: 721.3026 - model_2_loss: 671.9923 - model_3_loss: 1513.0830 - model_4_loss: 1210.6173 - model_5_loss: 835.0535 - mse__loss__calculator_loss: 0.2420 - mse__loss__calculator_1_loss: 0.2600 - mse__loss__calculator_2_loss: 0.2239 - mse__loss__calculator_3_loss: 0.2249 - mse__loss__calculator_4_loss: 399.9410 - mse__loss__calculator_5_loss: 477.1487 - correlation__loss__calculator_loss: -0.6373 - correlation__loss__calculator_1_loss: -0.0274 - correlation__loss__calculator_2_loss: -3.1022\n",
            "Epoch 81/100\n",
            "600/600 [==============================] - 54s 89ms/step - loss: 6439.6450 - model_loss: 590.2083 - model_1_loss: 726.6874 - model_2_loss: 677.4687 - model_3_loss: 1518.1259 - model_4_loss: 1215.4216 - model_5_loss: 840.7222 - mse__loss__calculator_loss: 0.2413 - mse__loss__calculator_1_loss: 0.2616 - mse__loss__calculator_2_loss: 0.2239 - mse__loss__calculator_3_loss: 0.2257 - mse__loss__calculator_4_loss: 398.7281 - mse__loss__calculator_5_loss: 475.1046 - correlation__loss__calculator_loss: -0.6355 - correlation__loss__calculator_1_loss: -0.0270 - correlation__loss__calculator_2_loss: -3.1110\n",
            "Epoch 82/100\n",
            "600/600 [==============================] - 53s 89ms/step - loss: 6413.0987 - model_loss: 586.1931 - model_1_loss: 720.3053 - model_2_loss: 671.8540 - model_3_loss: 1516.0816 - model_4_loss: 1208.4763 - model_5_loss: 834.4935 - mse__loss__calculator_loss: 0.2399 - mse__loss__calculator_1_loss: 0.2618 - mse__loss__calculator_2_loss: 0.2229 - mse__loss__calculator_3_loss: 0.2254 - mse__loss__calculator_4_loss: 399.8247 - mse__loss__calculator_5_loss: 478.6679 - correlation__loss__calculator_loss: -0.6353 - correlation__loss__calculator_1_loss: -0.0272 - correlation__loss__calculator_2_loss: -3.0852\n",
            "Epoch 83/100\n",
            "600/600 [==============================] - 53s 89ms/step - loss: 6398.1002 - model_loss: 582.1133 - model_1_loss: 721.4893 - model_2_loss: 668.3431 - model_3_loss: 1515.8799 - model_4_loss: 1201.1060 - model_5_loss: 835.4837 - mse__loss__calculator_loss: 0.2390 - mse__loss__calculator_1_loss: 0.2575 - mse__loss__calculator_2_loss: 0.2240 - mse__loss__calculator_3_loss: 0.2251 - mse__loss__calculator_4_loss: 399.1761 - mse__loss__calculator_5_loss: 477.3043 - correlation__loss__calculator_loss: -0.6359 - correlation__loss__calculator_1_loss: -0.0269 - correlation__loss__calculator_2_loss: -3.0804\n",
            "Epoch 84/100\n",
            "600/600 [==============================] - 54s 89ms/step - loss: 6380.0526 - model_loss: 583.2831 - model_1_loss: 715.8112 - model_2_loss: 671.2461 - model_3_loss: 1500.8750 - model_4_loss: 1208.2345 - model_5_loss: 829.4185 - mse__loss__calculator_loss: 0.2406 - mse__loss__calculator_1_loss: 0.2590 - mse__loss__calculator_2_loss: 0.2247 - mse__loss__calculator_3_loss: 0.2246 - mse__loss__calculator_4_loss: 399.0440 - mse__loss__calculator_5_loss: 474.9254 - correlation__loss__calculator_loss: -0.6356 - correlation__loss__calculator_1_loss: -0.0264 - correlation__loss__calculator_2_loss: -3.0729\n",
            "Epoch 85/100\n",
            "600/600 [==============================] - 54s 89ms/step - loss: 6364.7589 - model_loss: 582.9246 - model_1_loss: 715.5627 - model_2_loss: 669.6377 - model_3_loss: 1498.6501 - model_4_loss: 1202.7575 - model_5_loss: 828.9950 - mse__loss__calculator_loss: 0.2398 - mse__loss__calculator_1_loss: 0.2618 - mse__loss__calculator_2_loss: 0.2217 - mse__loss__calculator_3_loss: 0.2266 - mse__loss__calculator_4_loss: 396.0557 - mse__loss__calculator_5_loss: 472.9505 - correlation__loss__calculator_loss: -0.6346 - correlation__loss__calculator_1_loss: -0.0269 - correlation__loss__calculator_2_loss: -3.0636\n",
            "Epoch 86/100\n",
            "600/600 [==============================] - 54s 89ms/step - loss: 6349.4608 - model_loss: 580.2171 - model_1_loss: 716.4701 - model_2_loss: 664.8651 - model_3_loss: 1497.2392 - model_4_loss: 1197.9015 - model_5_loss: 829.9960 - mse__loss__calculator_loss: 0.2402 - mse__loss__calculator_1_loss: 0.2585 - mse__loss__calculator_2_loss: 0.2237 - mse__loss__calculator_3_loss: 0.2266 - mse__loss__calculator_4_loss: 394.2311 - mse__loss__calculator_5_loss: 471.3324 - correlation__loss__calculator_loss: -0.6383 - correlation__loss__calculator_1_loss: -0.0273 - correlation__loss__calculator_2_loss: -3.0751\n",
            "Epoch 87/100\n",
            "600/600 [==============================] - 54s 89ms/step - loss: 6319.4286 - model_loss: 575.4367 - model_1_loss: 710.6381 - model_2_loss: 662.1095 - model_3_loss: 1489.1893 - model_4_loss: 1192.7261 - model_5_loss: 822.3724 - mse__loss__calculator_loss: 0.2404 - mse__loss__calculator_1_loss: 0.2598 - mse__loss__calculator_2_loss: 0.2240 - mse__loss__calculator_3_loss: 0.2267 - mse__loss__calculator_4_loss: 395.7460 - mse__loss__calculator_5_loss: 473.9966 - correlation__loss__calculator_loss: -0.6367 - correlation__loss__calculator_1_loss: -0.0270 - correlation__loss__calculator_2_loss: -3.0741\n",
            "Epoch 88/100\n",
            "600/600 [==============================] - 54s 89ms/step - loss: 6313.4883 - model_loss: 572.8341 - model_1_loss: 710.2097 - model_2_loss: 661.7562 - model_3_loss: 1491.7550 - model_4_loss: 1187.7507 - model_5_loss: 824.7888 - mse__loss__calculator_loss: 0.2386 - mse__loss__calculator_1_loss: 0.2611 - mse__loss__calculator_2_loss: 0.2228 - mse__loss__calculator_3_loss: 0.2262 - mse__loss__calculator_4_loss: 395.0785 - mse__loss__calculator_5_loss: 472.0876 - correlation__loss__calculator_loss: -0.6372 - correlation__loss__calculator_1_loss: -0.0268 - correlation__loss__calculator_2_loss: -3.0567\n",
            "Epoch 89/100\n",
            "600/600 [==============================] - 54s 90ms/step - loss: 6310.1801 - model_loss: 572.5281 - model_1_loss: 706.1536 - model_2_loss: 660.7402 - model_3_loss: 1494.7061 - model_4_loss: 1188.6828 - model_5_loss: 819.4138 - mse__loss__calculator_loss: 0.2382 - mse__loss__calculator_1_loss: 0.2626 - mse__loss__calculator_2_loss: 0.2233 - mse__loss__calculator_3_loss: 0.2275 - mse__loss__calculator_4_loss: 394.6550 - mse__loss__calculator_5_loss: 476.0528 - correlation__loss__calculator_loss: -0.6365 - correlation__loss__calculator_1_loss: -0.0268 - correlation__loss__calculator_2_loss: -3.0406\n",
            "Epoch 90/100\n",
            "600/600 [==============================] - 54s 90ms/step - loss: 6302.3379 - model_loss: 575.8529 - model_1_loss: 704.3740 - model_2_loss: 662.5391 - model_3_loss: 1486.3674 - model_4_loss: 1189.4675 - model_5_loss: 818.9714 - mse__loss__calculator_loss: 0.2375 - mse__loss__calculator_1_loss: 0.2579 - mse__loss__calculator_2_loss: 0.2233 - mse__loss__calculator_3_loss: 0.2269 - mse__loss__calculator_4_loss: 394.5422 - mse__loss__calculator_5_loss: 473.0012 - correlation__loss__calculator_loss: -0.6378 - correlation__loss__calculator_1_loss: -0.0268 - correlation__loss__calculator_2_loss: -3.0568\n",
            "Epoch 91/100\n",
            "600/600 [==============================] - 54s 89ms/step - loss: 6285.2344 - model_loss: 571.5744 - model_1_loss: 704.7714 - model_2_loss: 659.6184 - model_3_loss: 1483.3387 - model_4_loss: 1185.8881 - model_5_loss: 818.2241 - mse__loss__calculator_loss: 0.2412 - mse__loss__calculator_1_loss: 0.2608 - mse__loss__calculator_2_loss: 0.2242 - mse__loss__calculator_3_loss: 0.2275 - mse__loss__calculator_4_loss: 394.1102 - mse__loss__calculator_5_loss: 470.4475 - correlation__loss__calculator_loss: -0.6358 - correlation__loss__calculator_1_loss: -0.0266 - correlation__loss__calculator_2_loss: -3.0301\n",
            "Epoch 92/100\n",
            "600/600 [==============================] - 54s 90ms/step - loss: 6267.6743 - model_loss: 569.1350 - model_1_loss: 702.8036 - model_2_loss: 654.9607 - model_3_loss: 1480.2056 - model_4_loss: 1182.0533 - model_5_loss: 815.4747 - mse__loss__calculator_loss: 0.2389 - mse__loss__calculator_1_loss: 0.2582 - mse__loss__calculator_2_loss: 0.2234 - mse__loss__calculator_3_loss: 0.2271 - mse__loss__calculator_4_loss: 393.7577 - mse__loss__calculator_5_loss: 472.0558 - correlation__loss__calculator_loss: -0.6378 - correlation__loss__calculator_1_loss: -0.0270 - correlation__loss__calculator_2_loss: -3.0548\n",
            "Epoch 93/100\n",
            "600/600 [==============================] - 54s 90ms/step - loss: 6264.7922 - model_loss: 567.8556 - model_1_loss: 700.3991 - model_2_loss: 654.8376 - model_3_loss: 1479.3074 - model_4_loss: 1181.4049 - model_5_loss: 815.0679 - mse__loss__calculator_loss: 0.2382 - mse__loss__calculator_1_loss: 0.2638 - mse__loss__calculator_2_loss: 0.2231 - mse__loss__calculator_3_loss: 0.2275 - mse__loss__calculator_4_loss: 395.7119 - mse__loss__calculator_5_loss: 472.9386 - correlation__loss__calculator_loss: -0.6360 - correlation__loss__calculator_1_loss: -0.0268 - correlation__loss__calculator_2_loss: -3.0222\n",
            "Epoch 94/100\n",
            "600/600 [==============================] - 54s 89ms/step - loss: 6248.7970 - model_loss: 567.3716 - model_1_loss: 703.0867 - model_2_loss: 654.6668 - model_3_loss: 1475.9897 - model_4_loss: 1175.6425 - model_5_loss: 815.0369 - mse__loss__calculator_loss: 0.2376 - mse__loss__calculator_1_loss: 0.2591 - mse__loss__calculator_2_loss: 0.2244 - mse__loss__calculator_3_loss: 0.2278 - mse__loss__calculator_4_loss: 392.0154 - mse__loss__calculator_5_loss: 467.7244 - correlation__loss__calculator_loss: -0.6385 - correlation__loss__calculator_1_loss: -0.0262 - correlation__loss__calculator_2_loss: -3.0227\n",
            "Epoch 95/100\n",
            "600/600 [==============================] - 54s 90ms/step - loss: 6200.7169 - model_loss: 560.4700 - model_1_loss: 692.1053 - model_2_loss: 648.3631 - model_3_loss: 1465.6133 - model_4_loss: 1170.0352 - model_5_loss: 806.0064 - mse__loss__calculator_loss: 0.2399 - mse__loss__calculator_1_loss: 0.2606 - mse__loss__calculator_2_loss: 0.2248 - mse__loss__calculator_3_loss: 0.2276 - mse__loss__calculator_4_loss: 391.2932 - mse__loss__calculator_5_loss: 469.5686 - correlation__loss__calculator_loss: -0.6372 - correlation__loss__calculator_1_loss: -0.0269 - correlation__loss__calculator_2_loss: -3.0257\n",
            "Epoch 96/100\n",
            "600/600 [==============================] - 54s 90ms/step - loss: 6232.8915 - model_loss: 564.8794 - model_1_loss: 697.8603 - model_2_loss: 652.4864 - model_3_loss: 1473.3627 - model_4_loss: 1172.9483 - model_5_loss: 810.0597 - mse__loss__calculator_loss: 0.2365 - mse__loss__calculator_1_loss: 0.2552 - mse__loss__calculator_2_loss: 0.2227 - mse__loss__calculator_3_loss: 0.2270 - mse__loss__calculator_4_loss: 393.4618 - mse__loss__calculator_5_loss: 470.5903 - correlation__loss__calculator_loss: -0.6365 - correlation__loss__calculator_1_loss: -0.0265 - correlation__loss__calculator_2_loss: -3.0359\n",
            "Epoch 97/100\n",
            "600/600 [==============================] - 54s 89ms/step - loss: 6218.9801 - model_loss: 564.3883 - model_1_loss: 696.4281 - model_2_loss: 653.7647 - model_3_loss: 1465.3295 - model_4_loss: 1173.9197 - model_5_loss: 807.9950 - mse__loss__calculator_loss: 0.2382 - mse__loss__calculator_1_loss: 0.2580 - mse__loss__calculator_2_loss: 0.2247 - mse__loss__calculator_3_loss: 0.2280 - mse__loss__calculator_4_loss: 393.1997 - mse__loss__calculator_5_loss: 466.6958 - correlation__loss__calculator_loss: -0.6371 - correlation__loss__calculator_1_loss: -0.0266 - correlation__loss__calculator_2_loss: -3.0260\n",
            "Epoch 98/100\n",
            "600/600 [==============================] - 54s 90ms/step - loss: 6208.1717 - model_loss: 562.7955 - model_1_loss: 693.6700 - model_2_loss: 649.8096 - model_3_loss: 1469.0574 - model_4_loss: 1167.8260 - model_5_loss: 808.3304 - mse__loss__calculator_loss: 0.2375 - mse__loss__calculator_1_loss: 0.2569 - mse__loss__calculator_2_loss: 0.2241 - mse__loss__calculator_3_loss: 0.2276 - mse__loss__calculator_4_loss: 388.7669 - mse__loss__calculator_5_loss: 470.6430 - correlation__loss__calculator_loss: -0.6368 - correlation__loss__calculator_1_loss: -0.0265 - correlation__loss__calculator_2_loss: -3.0097\n",
            "Epoch 99/100\n",
            "600/600 [==============================] - 54s 89ms/step - loss: 6184.9619 - model_loss: 557.6329 - model_1_loss: 692.0202 - model_2_loss: 647.0752 - model_3_loss: 1466.9216 - model_4_loss: 1160.3272 - model_5_loss: 807.0546 - mse__loss__calculator_loss: 0.2378 - mse__loss__calculator_1_loss: 0.2578 - mse__loss__calculator_2_loss: 0.2245 - mse__loss__calculator_3_loss: 0.2278 - mse__loss__calculator_4_loss: 388.7583 - mse__loss__calculator_5_loss: 467.9250 - correlation__loss__calculator_loss: -0.6367 - correlation__loss__calculator_1_loss: -0.0269 - correlation__loss__calculator_2_loss: -3.0371\n",
            "Epoch 100/100\n",
            "600/600 [==============================] - 54s 90ms/step - loss: 6190.5203 - model_loss: 561.9478 - model_1_loss: 691.9378 - model_2_loss: 649.7103 - model_3_loss: 1461.6979 - model_4_loss: 1165.3181 - model_5_loss: 805.8374 - mse__loss__calculator_loss: 0.2374 - mse__loss__calculator_1_loss: 0.2564 - mse__loss__calculator_2_loss: 0.2243 - mse__loss__calculator_3_loss: 0.2278 - mse__loss__calculator_4_loss: 390.6481 - mse__loss__calculator_5_loss: 466.1512 - correlation__loss__calculator_loss: -0.6362 - correlation__loss__calculator_1_loss: -0.0263 - correlation__loss__calculator_2_loss: -3.0125\n"
          ],
          "name": "stdout"
        },
        {
          "output_type": "execute_result",
          "data": {
            "text/plain": [
              "<tensorflow.python.keras.callbacks.History at 0x7f1ef0e07410>"
            ]
          },
          "metadata": {
            "tags": []
          },
          "execution_count": 25
        }
      ]
    },
    {
      "cell_type": "code",
      "metadata": {
        "id": "DzQId0Zppbh_"
      },
      "source": [
        "def test(direction, model, inp, idx):\n",
        "    given = inp.reshape((28,14))\n",
        "    f, axarr = plt.subplots(1,2,sharey=False)\n",
        "    \n",
        "    plt.title(y_test[idx])\n",
        "\n",
        "    if(direction == 'left'):\n",
        "      pred = model.predict([inp,np.zeros_like(inp)])\n",
        "      axarr[0].imshow(given)\n",
        "      axarr[1].imshow(pred[0].reshape((28,14)))\n",
        "\n",
        "    else:\n",
        "      pred = model.predict([np.zeros_like(inp),inp])\n",
        "      axarr[1].imshow(given)\n",
        "      axarr[0].imshow(pred[1].reshape((28,14)))"
      ],
      "execution_count": null,
      "outputs": []
    },
    {
      "cell_type": "code",
      "metadata": {
        "colab": {
          "base_uri": "https://localhost:8080/",
          "height": 1000
        },
        "id": "9YKFIDXvtihA",
        "outputId": "5c86d4c2-d9f0-4f55-d340-9284210b0036"
      },
      "source": [
        "print('Right to Left testing')\n",
        "for i in range(10):\n",
        "  test('right', model, test_right[i:i+1], i)"
      ],
      "execution_count": null,
      "outputs": [
        {
          "output_type": "stream",
          "text": [
            "Right to Left testing\n"
          ],
          "name": "stdout"
        },
        {
          "output_type": "display_data",
          "data": {
            "image/png": "[encoded data removed]",
            "text/plain": [
              "<Figure size 432x288 with 2 Axes>"
            ]
          },
          "metadata": {
            "tags": [],
            "needs_background": "light"
          }
        },
        {
          "output_type": "display_data",
          "data": {
            "image/png": "[encoded data removed]",
            "text/plain": [
              "<Figure size 432x288 with 2 Axes>"
            ]
          },
          "metadata": {
            "tags": [],
            "needs_background": "light"
          }
        },
        {
          "output_type": "display_data",
          "data": {
            "image/png": "[encoded data removed]",
            "text/plain": [
              "<Figure size 432x288 with 2 Axes>"
            ]
          },
          "metadata": {
            "tags": [],
            "needs_background": "light"
          }
        },
        {
          "output_type": "display_data",
          "data": {
            "image/png": "[encoded data removed]",
            "text/plain": [
              "<Figure size 432x288 with 2 Axes>"
            ]
          },
          "metadata": {
            "tags": [],
            "needs_background": "light"
          }
        },
        {
          "output_type": "display_data",
          "data": {
            "image/png": "[encoded data removed]",
            "text/plain": [
              "<Figure size 432x288 with 2 Axes>"
            ]
          },
          "metadata": {
            "tags": [],
            "needs_background": "light"
          }
        },
        {
          "output_type": "display_data",
          "data": {
            "image/png": "[encoded data removed]",
            "text/plain": [
              "<Figure size 432x288 with 2 Axes>"
            ]
          },
          "metadata": {
            "tags": [],
            "needs_background": "light"
          }
        },
        {
          "output_type": "display_data",
          "data": {
            "image/png": "[encoded data removed]",
            "text/plain": [
              "<Figure size 432x288 with 2 Axes>"
            ]
          },
          "metadata": {
            "tags": [],
            "needs_background": "light"
          }
        },
        {
          "output_type": "display_data",
          "data": {
            "image/png": "[encoded data removed]",
            "text/plain": [
              "<Figure size 432x288 with 2 Axes>"
            ]
          },
          "metadata": {
            "tags": [],
            "needs_background": "light"
          }
        },
        {
          "output_type": "display_data",
          "data": {
            "image/png": "[encoded data removed]",
            "text/plain": [
              "<Figure size 432x288 with 2 Axes>"
            ]
          },
          "metadata": {
            "tags": [],
            "needs_background": "light"
          }
        },
        {
          "output_type": "display_data",
          "data": {
            "image/png": "[encoded data removed]",
            "text/plain": [
              "<Figure size 432x288 with 2 Axes>"
            ]
          },
          "metadata": {
            "tags": [],
            "needs_background": "light"
          }
        }
      ]
    }
  ]
}